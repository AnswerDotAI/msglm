{
 "cells": [
  {
   "cell_type": "markdown",
   "metadata": {},
   "source": [
    "# core\n",
    "\n",
    "> Create messages for language models like Claude and OpenAI GPTs."
   ]
  },
  {
   "cell_type": "code",
   "execution_count": null,
   "metadata": {},
   "outputs": [],
   "source": [
    "#| default_exp core"
   ]
  },
  {
   "cell_type": "code",
   "execution_count": null,
   "metadata": {},
   "outputs": [],
   "source": [
    "#| hide\n",
    "from nbdev.showdoc import *"
   ]
  },
  {
   "cell_type": "code",
   "execution_count": null,
   "metadata": {},
   "outputs": [],
   "source": [
    "#| export\n",
    "import base64\n",
    "import mimetypes\n",
    "from collections import abc\n",
    "\n",
    "from fastcore import imghdr\n",
    "from fastcore.meta import delegates\n",
    "from fastcore.utils import *"
   ]
  },
  {
   "cell_type": "markdown",
   "metadata": {},
   "source": [
    "## API Exploration\n",
    "Anthropic's Claude and OpenAI's GPT models are some of the most popular LLMs. \n",
    "\n",
    "Let's take a look at their APIs and to learn how we should structure our messages for a simple text chat."
   ]
  },
  {
   "cell_type": "markdown",
   "metadata": {},
   "source": [
    "#### openai"
   ]
  },
  {
   "cell_type": "code",
   "execution_count": null,
   "metadata": {},
   "outputs": [],
   "source": [
    "from openai import OpenAI"
   ]
  },
  {
   "cell_type": "code",
   "execution_count": null,
   "metadata": {},
   "outputs": [
    {
     "data": {
      "text/plain": [
       "ChatCompletion(id='chatcmpl-AwxutFvFrBvjSeejfih4WDfcIRNo1', choices=[Choice(finish_reason='stop', index=0, logprobs=None, message=ChatCompletionMessage(content='Hello! How can I assist you today?', refusal=None, role='assistant', function_call=None, tool_calls=None))], created=1738616707, model='gpt-4o-mini-2024-07-18', object='chat.completion', service_tier='default', system_fingerprint='fp_bd83329f63', usage=CompletionUsage(completion_tokens=10, prompt_tokens=11, total_tokens=21, completion_tokens_details=CompletionTokensDetails(reasoning_tokens=0, audio_tokens=0, accepted_prediction_tokens=0, rejected_prediction_tokens=0), prompt_tokens_details={'cached_tokens': 0, 'audio_tokens': 0}))"
      ]
     },
     "execution_count": null,
     "metadata": {},
     "output_type": "execute_result"
    }
   ],
   "source": [
    "client = OpenAI()\n",
    "\n",
    "client.chat.completions.create(\n",
    "  model=\"gpt-4o-mini\",\n",
    "  messages=[ {\"role\": \"user\", \"content\": \"Hello, world!\"} ]\n",
    ")"
   ]
  },
  {
   "cell_type": "markdown",
   "metadata": {},
   "source": [
    "#### anthropic"
   ]
  },
  {
   "cell_type": "code",
   "execution_count": null,
   "metadata": {},
   "outputs": [],
   "source": [
    "from anthropic import Anthropic"
   ]
  },
  {
   "cell_type": "code",
   "execution_count": null,
   "metadata": {},
   "outputs": [
    {
     "data": {
      "text/plain": [
       "Message(id='msg_01MJhQFAyz8RdH9C9jkm7tdi', content=[TextBlock(text=\"Hello! I'm an AI assistant created by Anthropic. How can I assist you today?\", type='text')], model='claude-3-haiku-20240307', role='assistant', stop_reason='end_turn', stop_sequence=None, type='message', usage=Usage(input_tokens=11, output_tokens=23, cache_creation_input_tokens=0, cache_read_input_tokens=0))"
      ]
     },
     "execution_count": null,
     "metadata": {},
     "output_type": "execute_result"
    }
   ],
   "source": [
    "client = Anthropic()\n",
    "\n",
    "client.messages.create(\n",
    "    model=\"claude-3-haiku-20240307\",\n",
    "    max_tokens=1024,\n",
    "    messages=[ {\"role\": \"user\", \"content\": \"Hello, world!\"} ]\n",
    ")"
   ]
  },
  {
   "cell_type": "markdown",
   "metadata": {},
   "source": [
    "As we can see both APIs use the exact same message structure."
   ]
  },
  {
   "cell_type": "markdown",
   "metadata": {},
   "source": [
    "### mk_msg"
   ]
  },
  {
   "cell_type": "markdown",
   "metadata": {},
   "source": [
    "Ok, let's build the first version of `mk_msg` to handle this case"
   ]
  },
  {
   "cell_type": "code",
   "execution_count": null,
   "metadata": {},
   "outputs": [],
   "source": [
    "def mk_msg(content:str, role:str=\"user\")->dict:\n",
    "    \"Create an OpenAI/Anthropic compatible message.\"\n",
    "    return dict(role=role, content=content)"
   ]
  },
  {
   "cell_type": "markdown",
   "metadata": {},
   "source": [
    "Let's test it out with the OpenAI API. To do that we'll need to setup two things:\n",
    "\n",
    "- install the openai SDK by running `pip install openai`\n",
    "- add your openai api key to your env vars `export OPENAI_API_KEY=\"YOUR_OPEN_API_KEY\"`"
   ]
  },
  {
   "cell_type": "code",
   "execution_count": null,
   "metadata": {},
   "outputs": [
    {
     "data": {
      "text/plain": [
       "'Hello! How can I assist you today?'"
      ]
     },
     "execution_count": null,
     "metadata": {},
     "output_type": "execute_result"
    }
   ],
   "source": [
    "oa_cli = OpenAI()\n",
    "\n",
    "r = oa_cli.chat.completions.create(\n",
    "  model=\"gpt-4o-mini\",\n",
    "  messages=[mk_msg(\"Hello, world!\")]\n",
    ")\n",
    "r.choices[0].message.content"
   ]
  },
  {
   "cell_type": "markdown",
   "metadata": {},
   "source": [
    "Now, let's test out `mk_msg` on the Anthropic API. To do that we'll need to setup two things:\n",
    "\n",
    "- install the openai SDK by running `pip install anthropic`\n",
    "- add your anthropic api key to your env vars `export ANTHROPIC_API_KEY=\"YOUR_ANTHROPIC_API_KEY\"`"
   ]
  },
  {
   "cell_type": "code",
   "execution_count": null,
   "metadata": {},
   "outputs": [
    {
     "data": {
      "text/plain": [
       "\"Hello! It's a pleasure to meet you. I'm an AI assistant created by Anthropic. I'm here to help with any questions or tasks you may have. Please let me know how I can be of assistance.\""
      ]
     },
     "execution_count": null,
     "metadata": {},
     "output_type": "execute_result"
    }
   ],
   "source": [
    "a_cli = Anthropic()\n",
    "\n",
    "r = a_cli.messages.create(\n",
    "    model=\"claude-3-haiku-20240307\",\n",
    "    max_tokens=1024,\n",
    "    messages=[mk_msg(\"Hello, world!\")]\n",
    ")\n",
    "r.content[0].text"
   ]
  },
  {
   "cell_type": "markdown",
   "metadata": {},
   "source": [
    "So far so good!"
   ]
  },
  {
   "cell_type": "markdown",
   "metadata": {},
   "source": [
    "#### Helper Functions"
   ]
  },
  {
   "cell_type": "markdown",
   "metadata": {},
   "source": [
    "Before going any further, let's create some helper functions to make it a little easier to call the OpenAI and Anthropic APIs. We're going to be making a bunch of API calls to test our code and typing the full expressions out each time will become a little tedious. These functions won't be included in the final package."
   ]
  },
  {
   "cell_type": "code",
   "execution_count": null,
   "metadata": {},
   "outputs": [],
   "source": [
    "def openai_chat(msgs: list)->tuple:\n",
    "    \"call the openai chat completions endpoint with `msgs`.\"\n",
    "    r = oa_cli.chat.completions.create(model=\"gpt-4o-mini\", messages=msgs)\n",
    "    return r, r.choices[0].message.content"
   ]
  },
  {
   "cell_type": "markdown",
   "metadata": {},
   "source": [
    "Let's double check that `mk_msg` still works with our simple text example from before."
   ]
  },
  {
   "cell_type": "code",
   "execution_count": null,
   "metadata": {},
   "outputs": [
    {
     "data": {
      "text/plain": [
       "'Hello! How can I assist you today?'"
      ]
     },
     "execution_count": null,
     "metadata": {},
     "output_type": "execute_result"
    }
   ],
   "source": [
    "_, text = openai_chat([mk_msg(\"Hello, world!\")])\n",
    "text"
   ]
  },
  {
   "cell_type": "code",
   "execution_count": null,
   "metadata": {},
   "outputs": [],
   "source": [
    "def anthropic_chat(msgs: list)->tuple:\n",
    "    \"call the anthropic messages endpoint with `msgs`.\"\n",
    "    r = a_cli.messages.create(model=\"claude-3-haiku-20240307\", max_tokens=1024, messages=msgs)\n",
    "    return r, r.content[0].text"
   ]
  },
  {
   "cell_type": "markdown",
   "metadata": {},
   "source": [
    "and Anthropic..."
   ]
  },
  {
   "cell_type": "code",
   "execution_count": null,
   "metadata": {},
   "outputs": [
    {
     "data": {
      "text/plain": [
       "\"Hello! I'm an AI assistant created by Anthropic. I'm here to help with any questions or tasks you may have. How can I assist you today?\""
      ]
     },
     "execution_count": null,
     "metadata": {},
     "output_type": "execute_result"
    }
   ],
   "source": [
    "_, text = anthropic_chat([mk_msg(\"Hello, world!\")])\n",
    "text"
   ]
  },
  {
   "cell_type": "markdown",
   "metadata": {},
   "source": [
    "### Images"
   ]
  },
  {
   "cell_type": "markdown",
   "metadata": {},
   "source": [
    "Ok, let's see how both APIs handle image messages.\n",
    "\n",
    "<img src=\"https://www.atshq.org/wp-content/uploads/2022/07/shutterstock_1626122512.jpg\" height=240 width=240></img>"
   ]
  },
  {
   "cell_type": "markdown",
   "metadata": {},
   "source": [
    "#### openai"
   ]
  },
  {
   "cell_type": "code",
   "execution_count": null,
   "metadata": {},
   "outputs": [],
   "source": [
    "import base64, httpx"
   ]
  },
  {
   "cell_type": "code",
   "execution_count": null,
   "metadata": {},
   "outputs": [],
   "source": [
    "img_url = \"https://claudette.answer.ai/index_files/figure-html/cell-35-output-1.jpeg\""
   ]
  },
  {
   "cell_type": "code",
   "execution_count": null,
   "metadata": {},
   "outputs": [
    {
     "data": {
      "text/plain": [
       "ChatCompletion(id='chatcmpl-Awxv1j0M9xACPlg1X5VnUF5w25i8F', choices=[Choice(finish_reason='stop', index=0, logprobs=None, message=ChatCompletionMessage(content='The image features a cute puppy with brown and white fur lying on green grass. The puppy is resting near a patch of purple flowers, adding to the colorful and serene outdoor setting.', refusal=None, role='assistant', function_call=None, tool_calls=None))], created=1738616715, model='gpt-4o-mini-2024-07-18', object='chat.completion', service_tier='default', system_fingerprint='fp_bd83329f63', usage=CompletionUsage(completion_tokens=37, prompt_tokens=452, total_tokens=489, completion_tokens_details=CompletionTokensDetails(reasoning_tokens=0, audio_tokens=0, accepted_prediction_tokens=0, rejected_prediction_tokens=0), prompt_tokens_details={'cached_tokens': 0, 'audio_tokens': 0}))"
      ]
     },
     "execution_count": null,
     "metadata": {},
     "output_type": "execute_result"
    }
   ],
   "source": [
    "mtype = \"image/jpeg\"\n",
    "img = base64.b64encode(httpx.get(img_url).content).decode(\"utf-8\")\n",
    "\n",
    "client = OpenAI()\n",
    "client.chat.completions.create(\n",
    "    model=\"gpt-4o-mini\",\n",
    "    messages=[\n",
    "        {\n",
    "            \"role\":\"user\",\n",
    "            \"content\": [\n",
    "                {\"type\":\"text\",\"text\":\"What's in this image?\"},\n",
    "                {\"type\":\"image_url\",\"image_url\":{\"url\":f\"data:{mtype};base64,{img}\"}},\n",
    "            ],\n",
    "        }\n",
    "    ],\n",
    ")"
   ]
  },
  {
   "cell_type": "markdown",
   "metadata": {},
   "source": [
    "#### anthropic"
   ]
  },
  {
   "cell_type": "code",
   "execution_count": null,
   "metadata": {},
   "outputs": [
    {
     "data": {
      "text/plain": [
       "Message(id='msg_01YZrV1h5fkdT27pXaiff99W', content=[TextBlock(text=\"This image shows a cute puppy lying in a grassy area with some purple flowers in the background. The puppy appears to be a Cavalier King Charles Spaniel, with its soft-looking fur and large, expressive eyes. The puppy looks relaxed and content, gazing out at the viewer. The vibrant purple flowers provide a lovely natural setting for the puppy's portrait.\", type='text')], model='claude-3-haiku-20240307', role='assistant', stop_reason='end_turn', stop_sequence=None, type='message', usage=Usage(input_tokens=104, output_tokens=86, cache_creation_input_tokens=0, cache_read_input_tokens=0))"
      ]
     },
     "execution_count": null,
     "metadata": {},
     "output_type": "execute_result"
    }
   ],
   "source": [
    "mtype = \"image/jpeg\"\n",
    "img = base64.b64encode(httpx.get(img_url).content).decode(\"utf-8\")\n",
    "\n",
    "client = Anthropic()\n",
    "client.messages.create(\n",
    "    model=\"claude-3-haiku-20240307\",\n",
    "    max_tokens=1024,\n",
    "    messages=[\n",
    "        {\n",
    "            \"role\":\"user\",\n",
    "            \"content\": [\n",
    "                {\"type\":\"text\",\"text\":\"What's in this image?\"},\n",
    "                {\"type\":\"image\",\"source\":{\"type\":\"base64\",\"media_type\":mtype,\"data\":img}}\n",
    "            ],\n",
    "        }\n",
    "    ],\n",
    ")"
   ]
  },
  {
   "cell_type": "markdown",
   "metadata": {},
   "source": [
    "Both APIs format images slightly differently and the structure of the message `content` is a litte more complex. \n",
    "\n",
    "In a text chat, `content` is a simple string but for a multimodal chat (text+images) we can see that `content` is a list of dictionaries."
   ]
  },
  {
   "cell_type": "markdown",
   "metadata": {},
   "source": [
    "### Msg Class"
   ]
  },
  {
   "cell_type": "markdown",
   "metadata": {},
   "source": [
    "To handle the additional complexity of multimodal messages let's build a `Msg` class for the `content` data structure:\n",
    "\n",
    "```json\n",
    "{\n",
    "    \"role\": \"user\",\n",
    "    \"content\": [{\"type\": \"text\", \"text\": \"What's in this image?\"}],\n",
    "}\n",
    "```"
   ]
  },
  {
   "cell_type": "code",
   "execution_count": null,
   "metadata": {},
   "outputs": [],
   "source": [
    "class Msg:\n",
    "    \"Helper class to create a message for the OpenAI and Anthropic APIs.\"\n",
    "    def __call__(self, role:str, content:[list,str], **kw)->dict:\n",
    "        \"Create an OpenAI/Anthropic compatible message with `role` and `content`.\"\n",
    "        if content is not None and not isinstance(content, list): content = [content]\n",
    "        return dict(role=role, content=[{\"type\":\"text\", \"content\":item} for item in content], **kw)"
   ]
  },
  {
   "cell_type": "markdown",
   "metadata": {},
   "source": [
    "Now, let's update `mk_msg` to use `Msg`."
   ]
  },
  {
   "cell_type": "code",
   "execution_count": null,
   "metadata": {},
   "outputs": [],
   "source": [
    "def mk_msg(content:str, role:str=\"user\", **kw)->dict:\n",
    "    \"Create an OpenAI/Anthropic compatible message.\"\n",
    "    return Msg()(role, content, **kw)"
   ]
  },
  {
   "cell_type": "code",
   "execution_count": null,
   "metadata": {},
   "outputs": [
    {
     "data": {
      "text/plain": [
       "{'role': 'user',\n",
       " 'content': [{'type': 'text', 'content': 'Hello world'},\n",
       "  {'type': 'text', 'content': 'how are you?'}]}"
      ]
     },
     "execution_count": null,
     "metadata": {},
     "output_type": "execute_result"
    }
   ],
   "source": [
    "mk_msg([\"Hello world\", \"how are you?\"])"
   ]
  },
  {
   "cell_type": "markdown",
   "metadata": {},
   "source": [
    "Now, let's update `Msg` so that it can format our images correctly.\n",
    "\n",
    "First, we'll add a method `mk_content` where we can check the type of each input and format the data appropriately. Let's start by adding a check for text data."
   ]
  },
  {
   "cell_type": "code",
   "execution_count": null,
   "metadata": {},
   "outputs": [],
   "source": [
    "class Msg:\n",
    "    \"Helper class to create a message for the OpenAI and Anthropic APIs.\"\n",
    "    def __call__(self, role:str, content:[list,str], **kw)->dict:\n",
    "        \"Create an OpenAI/Anthropic compatible message with `role` and `content`.\"\n",
    "        if content is not None and not isinstance(content, list): content = [content]\n",
    "        content = [self.mk_content(o) for o in content] if content else ''\n",
    "        return dict(role=role, content=content, **kw)\n",
    "    \n",
    "    def text_msg(self, s:str)->dict: \n",
    "        \"Convert `s` to a text message\"\n",
    "        return {\"type\": \"text\", \"text\":s}\n",
    "    \n",
    "    def mk_content(self, content:str)->dict:\n",
    "        \"Create the appropriate data structure based the content type.\"\n",
    "        if isinstance(content, str): return self.text_msg(content)\n",
    "        return content"
   ]
  },
  {
   "cell_type": "markdown",
   "metadata": {},
   "source": [
    "Here's where things get a little tricker. As both APIs handle images differently let's subclass `Msg` for each API and handle the image formatting in a method called `img_msg`."
   ]
  },
  {
   "cell_type": "code",
   "execution_count": null,
   "metadata": {},
   "outputs": [],
   "source": [
    "class Msg:\n",
    "    \"Helper class to create a message for the OpenAI and Anthropic APIs.\"\n",
    "    def __call__(self, role:str, content:[list,str], **kw)->dict:\n",
    "        \"Create an OpenAI/Anthropic compatible message with `role` and `content`.\"\n",
    "        if content is not None and not isinstance(content, list): content = [content]\n",
    "        content = [self.mk_content(o) for o in content] if content else ''\n",
    "        return dict(role=role, content=content, **kw)\n",
    "    \n",
    "    def img_msg(self, *args)->dict: \n",
    "        \"Convert bytes to an image message\"\n",
    "        raise NotImplemented\n",
    "        \n",
    "    def text_msg(self, s:str)->dict: \n",
    "        \"Convert `s` to a text message\"\n",
    "        return {\"type\": \"text\", \"text\":s}\n",
    "    \n",
    "    def mk_content(self, content:str)->dict:\n",
    "        \"Create the appropriate data structure based the content type.\"\n",
    "        if isinstance(content, str): return self.text_msg(content)\n",
    "        if isinstance(content, bytes): return self.img_msg(content)\n",
    "        return content"
   ]
  },
  {
   "cell_type": "code",
   "execution_count": null,
   "metadata": {},
   "outputs": [],
   "source": [
    "class OpenAiMsg(Msg):\n",
    "    \"Helper class to create a message for the OpenAI API.\"\n",
    "    def img_msg(self, data:bytes)->dict:\n",
    "        \"Convert `data` to an image message\"\n",
    "        img = base64.b64encode(data).decode(\"utf-8\")\n",
    "        mtype = mimetypes.types_map[\".\" + imghdr.what(None, h=data)]\n",
    "        r = {\"url\": f\"data:{mtype};base64,{img}\"}\n",
    "        return {\"type\": \"image_url\", \"image_url\": r}"
   ]
  },
  {
   "cell_type": "code",
   "execution_count": null,
   "metadata": {},
   "outputs": [],
   "source": [
    "class AnthropicMsg(Msg):\n",
    "    \"Helper class to create a message for the Anthropic API.\"\n",
    "    def img_msg(self, data:bytes)->dict:\n",
    "        \"Convert `data` to an image message\"\n",
    "        img = base64.b64encode(data).decode(\"utf-8\")\n",
    "        mtype = mimetypes.types_map[\".\" + imghdr.what(None, h=data)]\n",
    "        r = {\"type\": \"base64\", \"media_type\": mtype, \"data\":img}\n",
    "        return {\"type\": \"image\", \"source\": r}"
   ]
  },
  {
   "cell_type": "markdown",
   "metadata": {},
   "source": [
    "Now, let's update `mk_msg` so that it chooses the appropriate `Msg` subclass."
   ]
  },
  {
   "cell_type": "code",
   "execution_count": null,
   "metadata": {},
   "outputs": [],
   "source": [
    "def mk_msg(content:str, role:str=\"user\", *args, api:str=\"openai\", **kw) -> dict:\n",
    "    \"Create an OpenAI/Anthropic compatible message.\"\n",
    "    m = OpenAiMsg() if api == \"openai\" else AnthropicMsg()\n",
    "    return m(role, content, **kw)"
   ]
  },
  {
   "cell_type": "markdown",
   "metadata": {},
   "source": [
    "Ok, let's test our changes..."
   ]
  },
  {
   "cell_type": "code",
   "execution_count": null,
   "metadata": {},
   "outputs": [],
   "source": [
    "from IPython.display import Image, display"
   ]
  },
  {
   "cell_type": "code",
   "execution_count": null,
   "metadata": {},
   "outputs": [
    {
     "data": {
      "image/jpeg": "[encoded data removed]",
      "text/plain": [
       "<IPython.core.display.Image object>"
      ]
     },
     "metadata": {},
     "output_type": "display_data"
    }
   ],
   "source": [
    "img = httpx.get(img_url).content\n",
    "display(Image(img))"
   ]
  },
  {
   "cell_type": "code",
   "execution_count": null,
   "metadata": {},
   "outputs": [
    {
     "data": {
      "text/plain": [
       "'The image features a cute puppy laying in a grassy area, partially hidden by a cluster of purple flowers. The puppy has a mostly white coat with brown markings on its ears and around its eyes. Its large, expressive eyes give it an adorable appearance, and the overall setting looks peaceful and vibrant with the flowers surrounding the pup.'"
      ]
     },
     "execution_count": null,
     "metadata": {},
     "output_type": "execute_result"
    }
   ],
   "source": [
    "msg = mk_msg([img, \"describe this picture\"], api=\"openai\")\n",
    "_, text = openai_chat([msg])\n",
    "text"
   ]
  },
  {
   "cell_type": "code",
   "execution_count": null,
   "metadata": {},
   "outputs": [
    {
     "data": {
      "text/plain": [
       "'The image shows a young, fluffy puppy lying on a grassy lawn. The puppy has a white and brown coat, with large, expressive eyes and floppy ears. The puppy appears to be looking directly at the camera with a curious and friendly expression. In the background, there are several vibrant purple flowers, adding a lovely, natural setting to the scene. Overall, the image captures the adorable and endearing nature of this puppy, inviting the viewer to appreciate the charming beauty of this young canine companion.'"
      ]
     },
     "execution_count": null,
     "metadata": {},
     "output_type": "execute_result"
    }
   ],
   "source": [
    "msg = mk_msg([img, \"describe this picture\"], api=\"anthropic\")\n",
    "_, text = anthropic_chat([msg])\n",
    "text"
   ]
  },
  {
   "cell_type": "markdown",
   "metadata": {},
   "source": [
    "Great! Before moving on let's create `_mk_img` to make our code a little DRY'r. "
   ]
  },
  {
   "cell_type": "code",
   "execution_count": null,
   "metadata": {},
   "outputs": [],
   "source": [
    "#|exports\n",
    "def _mk_img(data:bytes)->tuple:\n",
    "    \"Convert image bytes to a base64 encoded image\"\n",
    "    img = base64.b64encode(data).decode(\"utf-8\")\n",
    "    mtype = mimetypes.types_map[\".\"+imghdr.what(None, h=data)]\n",
    "    return img, mtype"
   ]
  },
  {
   "cell_type": "markdown",
   "metadata": {},
   "source": [
    "Let's use `_mk_img` in our `Msg` subclasses"
   ]
  },
  {
   "cell_type": "code",
   "execution_count": null,
   "metadata": {},
   "outputs": [],
   "source": [
    "class OpenAiMsg(Msg):\n",
    "    \"Helper class to create a message for the OpenAI API.\"\n",
    "    def img_msg(self, data:bytes)->dict:\n",
    "        \"Convert `data` to an image message\"\n",
    "        img, mtype = _mk_img(data)\n",
    "        r = {\"url\": f\"data:{mtype};base64,{img}\"}\n",
    "        return {\"type\": \"image_url\", \"image_url\": r}"
   ]
  },
  {
   "cell_type": "code",
   "execution_count": null,
   "metadata": {},
   "outputs": [],
   "source": [
    "class AnthropicMsg(Msg):\n",
    "    \"Helper class to create a message for the Anthropic API.\"\n",
    "    def img_msg(self, data:bytes)->dict:\n",
    "        \"Convert `data` to an image message\"\n",
    "        img, mtype = _mk_img(data)\n",
    "        r = {\"type\": \"base64\", \"media_type\": mtype, \"data\":img}\n",
    "        return {\"type\": \"image\", \"source\": r}"
   ]
  },
  {
   "cell_type": "markdown",
   "metadata": {},
   "source": [
    "### PDFs"
   ]
  },
  {
   "cell_type": "markdown",
   "metadata": {},
   "source": [
    "What about chatting with PDFs? Unfortunately, OpenAI's message completions API doesn't offer PDF support at the moment, but Claude [does](https://docs.anthropic.com/en/docs/build-with-claude/pdf-support). \n",
    "\n",
    "Under the hood, Claude extracts the text from the PDF and converts each page to an image. This means you can ask Claude about any text, pictures, charts, and tables in the PDF. Here's an example from the Claude [docs](https://docs.anthropic.com/en/docs/build-with-claude/pdf-support#how-to-use-pdfs-in-the-messages-api). Overall the message structure is pretty similar to an image message.\n",
    "\n",
    "```python\n",
    "import anthropic\n",
    "import base64\n",
    "import httpx\n",
    "\n",
    "# First fetch the file\n",
    "pdf_url = \"https://assets.anthropic.com/m/1cd9d098ac3e6467/original/Claude-3-Model-Card-October-Addendum.pdf\"\n",
    "pdf_data = base64.standard_b64encode(httpx.get(pdf_url).content).decode(\"utf-8\")\n",
    "\n",
    "beta_client = anthropic.Anthropic(default_headers={'anthropic-beta': 'pdfs-2024-09-25, prompt-caching-2024-07-31'})\n",
    "message = beta_client.messages.create(\n",
    "    model=\"claude-3-5-sonnet-20241022\",\n",
    "    betas=[\"pdfs-2024-09-25\"],\n",
    "    max_tokens=1024,\n",
    "    messages=[\n",
    "        {\n",
    "            \"role\": \"user\",\n",
    "            \"content\": [\n",
    "                {\n",
    "                    \"type\": \"document\",\n",
    "                    \"source\": {\n",
    "                        \"type\": \"base64\",\n",
    "                        \"media_type\": \"application/pdf\",\n",
    "                        \"data\": pdf_data\n",
    "                    }\n",
    "                },\n",
    "                {\n",
    "                    \"type\": \"text\",\n",
    "                    \"text\": \"Which model has the highest human preference win rates across each use-case?\"\n",
    "                }\n",
    "            ]\n",
    "        }\n",
    "    ],\n",
    ")\n",
    "```"
   ]
  },
  {
   "cell_type": "markdown",
   "metadata": {},
   "source": [
    "As Claude PDF support is currently in beta, we need to update our default headers to include `pdfs-2024-09-25`. "
   ]
  },
  {
   "cell_type": "code",
   "execution_count": null,
   "metadata": {},
   "outputs": [],
   "source": [
    "a_cli = Anthropic(default_headers={'anthropic-beta': 'pdfs-2024-09-25'})"
   ]
  },
  {
   "cell_type": "markdown",
   "metadata": {},
   "source": [
    "PDF support is only available on Sonnet so we also need to update `anthropic_chat` to use `sonnet`"
   ]
  },
  {
   "cell_type": "code",
   "execution_count": null,
   "metadata": {},
   "outputs": [],
   "source": [
    "def anthropic_chat(msgs: list)->tuple:\n",
    "    \"call the anthropic messages endpoint with `msgs`.\"\n",
    "    r = a_cli.messages.create(model=\"claude-3-5-sonnet-20241022\", max_tokens=1024, messages=msgs)\n",
    "    return r, r.content[0].text"
   ]
  },
  {
   "cell_type": "markdown",
   "metadata": {},
   "source": [
    "We'll need to update `Msg.mk_content` so that it can detect if a byte string is an image or pdf. \n",
    "\n",
    "Let's write some helper functions for `Msg.mk_content` to use."
   ]
  },
  {
   "cell_type": "code",
   "execution_count": null,
   "metadata": {},
   "outputs": [],
   "source": [
    "#|exports\n",
    "def _is_img(data): return isinstance(data, bytes) and bool(imghdr.what(None, data))"
   ]
  },
  {
   "cell_type": "markdown",
   "metadata": {},
   "source": [
    "A PDF [file](https://docs.fileformat.com/pdf/#pdf-file-header) should start with `%PDF` followed by the pdf version `%PDF-1.1`"
   ]
  },
  {
   "cell_type": "code",
   "execution_count": null,
   "metadata": {},
   "outputs": [],
   "source": [
    "#|exports\n",
    "def _is_pdf(data): return isinstance(data, bytes) and data.startswith(b'%PDF-')"
   ]
  },
  {
   "cell_type": "markdown",
   "metadata": {},
   "source": [
    "Now, let's update `mk_content` to use these methods. Let's also add a `pdf_msg` method as well."
   ]
  },
  {
   "cell_type": "code",
   "execution_count": null,
   "metadata": {},
   "outputs": [],
   "source": [
    "class Msg:\n",
    "    \"Helper class to create a message for the OpenAI and Anthropic APIs.\"\n",
    "    def __call__(self, role:str, content:[list,str], **kw)->dict:\n",
    "        \"Create an OpenAI/Anthropic compatible message with `role` and `content`.\"\n",
    "        if content is not None and not isinstance(content, list): content = [content]\n",
    "        content = [self.mk_content(o) for o in content] if content else ''\n",
    "        return dict(role=role, content=content, **kw)\n",
    "    \n",
    "    def img_msg(self, *args)->dict: \n",
    "        \"Convert bytes to an image message\"\n",
    "        raise NotImplemented\n",
    "        \n",
    "    def text_msg(self, s:str)->dict: \n",
    "        \"Convert `s` to a text message\"\n",
    "        return {\"type\": \"text\", \"text\":s}\n",
    "    \n",
    "    def pdf_msg(self, *args, **kw)->dict:\n",
    "        \"Convert bytes to a pdf message\"\n",
    "        raise NotImplemented\n",
    "        \n",
    "    def mk_content(self, content:[str, bytes]):\n",
    "        \"Create the appropriate data structure based the content type.\"\n",
    "        if isinstance(content, str): return self.text_msg(content)\n",
    "        if _is_img(content): return self.img_msg(content)\n",
    "        if _is_pdf(content): return self.pdf_msg(content)\n",
    "        return content"
   ]
  },
  {
   "cell_type": "markdown",
   "metadata": {},
   "source": [
    "Next, let's create a method that converts a byte string to the base64 encoded string that Anthropic expects."
   ]
  },
  {
   "cell_type": "code",
   "execution_count": null,
   "metadata": {},
   "outputs": [],
   "source": [
    "#|exports\n",
    "def _mk_pdf(data:bytes)->str:\n",
    "    \"Convert pdf bytes to a base64 encoded pdf\"\n",
    "    return base64.standard_b64encode(data).decode(\"utf-8\")"
   ]
  },
  {
   "cell_type": "markdown",
   "metadata": {},
   "source": [
    "Finally, let's add a `pdf_msg` method to `AnthropicMsg` that uses `_mk_pdf`."
   ]
  },
  {
   "cell_type": "code",
   "execution_count": null,
   "metadata": {},
   "outputs": [],
   "source": [
    "class AnthropicMsg(Msg):\n",
    "    \"Helper class to create a message for the Anthropic API.\"\n",
    "    def img_msg(self, data:bytes)->dict:\n",
    "        \"Convert `data` to an image message\"\n",
    "        img, mtype = _mk_img(data)\n",
    "        r = {\"type\": \"base64\", \"media_type\": mtype, \"data\":img}\n",
    "        return {\"type\": \"image\", \"source\": r}\n",
    "    \n",
    "    def pdf_msg(self, data: bytes) -> dict:\n",
    "        \"Convert `data` to a pdf message\"\n",
    "        r = {\"type\": \"base64\", \"media_type\": \"application/pdf\", \"data\":_mk_pdf(data)}\n",
    "        return {\"type\": \"document\", \"source\": r}"
   ]
  },
  {
   "cell_type": "markdown",
   "metadata": {},
   "source": [
    "Let's test our changes on a financial report."
   ]
  },
  {
   "cell_type": "code",
   "execution_count": null,
   "metadata": {},
   "outputs": [],
   "source": [
    "from pathlib import Path"
   ]
  },
  {
   "cell_type": "code",
   "execution_count": null,
   "metadata": {},
   "outputs": [
    {
     "data": {
      "text/plain": [
       "'Let me calculate the average monthly revenue for Product D by summing up all monthly values and dividing by 12.\\n\\nMonthly revenues for Product D:\\nJan: ~900\\nFeb: ~500\\nMar: ~400\\nApr: ~700\\nMay: ~800\\nJun: ~900\\nJul: ~1000\\nAug: ~1050\\nSep: ~1200\\nOct: ~1300\\nNov: ~1300\\nDec: ~1300\\n\\nTotal = 11,350 (approximately)\\nAverage = 11,350 ÷ 12 = 945.83\\n\\nThe average monthly revenue for Product D in fiscal year 2023 was approximately $946.'"
      ]
     },
     "execution_count": null,
     "metadata": {},
     "output_type": "execute_result"
    }
   ],
   "source": [
    "pdf = Path('financial_report.pdf').read_bytes()\n",
    "msg = mk_msg([pdf, \"what was the average monthly revenue for product D?\"], api=\"anthropic\")\n",
    "_, text = anthropic_chat([msg])\n",
    "text"
   ]
  },
  {
   "cell_type": "markdown",
   "metadata": {},
   "source": [
    "### Text Only Models"
   ]
  },
  {
   "cell_type": "markdown",
   "metadata": {},
   "source": [
    "Ok, what next? Some text only models that follow the OpenAI API spec such as Qwen, expect messages to have the following format\n",
    "\n",
    "```json\n",
    "{\"role\": \"user\", \"content\": \"Hello, world!\"}\n",
    "```\n",
    "\n",
    "Let's update our code to support this use-case."
   ]
  },
  {
   "cell_type": "code",
   "execution_count": null,
   "metadata": {},
   "outputs": [],
   "source": [
    "class Msg:\n",
    "    \"Helper class to create a message for the OpenAI and Anthropic APIs.\"\n",
    "    def __call__(self, role:str, content:[list, str], text_only:bool=False, **kw)->dict:\n",
    "        \"Create an OpenAI/Anthropic compatible message with `role` and `content`.\"\n",
    "        if content is not None and not isinstance(content, list): content = [content]\n",
    "        content = [self.mk_content(o, text_only=text_only) for o in content] if content else ''\n",
    "        return dict(role=role, content=content[0] if text_only else content, **kw)\n",
    "    \n",
    "    def img_msg(self, *args, **kw)->dict: \n",
    "        \"Convert bytes to an image message\"\n",
    "        raise NotImplemented\n",
    "        \n",
    "    def text_msg(self, s:str, text_only=False, **kw): \n",
    "        \"Convert `s` to a text message\"\n",
    "        return s if text_only else {\"type\":\"text\", \"text\":s}\n",
    "    \n",
    "    def pdf_msg(self, *args, **kw)->dict:\n",
    "        \"Convert bytes to a pdf message\"\n",
    "        raise NotImplemented\n",
    "                \n",
    "    def mk_content(self, content, text_only=False)->dict:\n",
    "        if isinstance(content, str): return self.text_msg(content, text_only=text_only)\n",
    "        if _is_img(content): return self.img_msg(content)\n",
    "        if _is_pdf(content): return self.pdf_msg(content)\n",
    "        return content"
   ]
  },
  {
   "cell_type": "code",
   "execution_count": null,
   "metadata": {},
   "outputs": [],
   "source": [
    "class OpenAiMsg(Msg):\n",
    "    \"Helper class to create a message for the OpenAI API.\"\n",
    "    def img_msg(self, data)->dict:\n",
    "        \"Convert `data` to an image message\"\n",
    "        img, mtype = _mk_img(data)\n",
    "        r = {\"url\": f\"data:{mtype};base64,{img}\"}\n",
    "        return {\"type\": \"image_url\", \"image_url\": r}"
   ]
  },
  {
   "cell_type": "code",
   "execution_count": null,
   "metadata": {},
   "outputs": [],
   "source": [
    "class AnthropicMsg(Msg):\n",
    "    \"Helper class to create a message for the Anthropic API.\"\n",
    "    def img_msg(self, data)->dict:\n",
    "        \"Convert `data` to an image message\"\n",
    "        img, mtype = _mk_img(data)\n",
    "        r = dict(type='base64', media_type=mtype, data=img)\n",
    "        return {\"type\": \"image\", \"source\": r}\n",
    "\n",
    "    def pdf_msg(self, data: bytes) -> dict:\n",
    "        \"Convert `data` to a pdf message\"\n",
    "        r = {\"type\": \"base64\", \"media_type\": \"application/pdf\", \"data\":_mk_pdf(data)}\n",
    "        return {\"type\": \"document\", \"source\": r}"
   ]
  },
  {
   "cell_type": "code",
   "execution_count": null,
   "metadata": {},
   "outputs": [],
   "source": [
    "def mk_msg(content:Union[list,str], role:str=\"user\", *args, api:str=\"openai\", text_only=False, **kw)->dict:\n",
    "    \"Create an OpenAI/Anthropic compatible message.\"\n",
    "    m = OpenAiMsg if api == \"openai\" else AnthropicMsg\n",
    "    return m()(role, content, text_only=text_only, **kw)"
   ]
  },
  {
   "cell_type": "code",
   "execution_count": null,
   "metadata": {},
   "outputs": [
    {
     "data": {
      "text/plain": [
       "{'role': 'user', 'content': 'describe this picture'}"
      ]
     },
     "execution_count": null,
     "metadata": {},
     "output_type": "execute_result"
    }
   ],
   "source": [
    "mk_msg(\"describe this picture\", text_only=True)"
   ]
  },
  {
   "cell_type": "code",
   "execution_count": null,
   "metadata": {},
   "outputs": [
    {
     "data": {
      "text/plain": [
       "{'role': 'user',\n",
       " 'content': [{'type': 'text', 'text': 'describe this picture'}]}"
      ]
     },
     "execution_count": null,
     "metadata": {},
     "output_type": "execute_result"
    }
   ],
   "source": [
    "mk_msg(\"describe this picture\")"
   ]
  },
  {
   "cell_type": "markdown",
   "metadata": {},
   "source": [
    "Manually setting the message format is a little annoying. Instead, let's automatically apply the simpler format if `content` is a string or a list comprised of a single string. \n",
    "\n",
    "*Note*: We don't apply the simpler format when `content` is a list comprised of multiple strings, because this would require us to join the strings into a single string."
   ]
  },
  {
   "cell_type": "code",
   "execution_count": null,
   "metadata": {},
   "outputs": [],
   "source": [
    "def mk_msg(content:Union[list,str], role:str=\"user\", *args, api:str=\"openai\", **kw)->dict:\n",
    "    \"Create an OpenAI/Anthropic compatible message.\"\n",
    "    text_only = isinstance(content, str) or (isinstance(content, list) and len(content) == 1 and isinstance(content[0], str))\n",
    "    m = OpenAiMsg if api == \"openai\" else AnthropicMsg\n",
    "    return m()(role, content, text_only=text_only, **kw)"
   ]
  },
  {
   "cell_type": "code",
   "execution_count": null,
   "metadata": {},
   "outputs": [
    {
     "data": {
      "text/plain": [
       "{'role': 'user', 'content': 'describe this picture'}"
      ]
     },
     "execution_count": null,
     "metadata": {},
     "output_type": "execute_result"
    }
   ],
   "source": [
    "mk_msg(\"describe this picture\")"
   ]
  },
  {
   "cell_type": "markdown",
   "metadata": {},
   "source": [
    "If `content` is a list comprised of a single string, we still use the simpler format."
   ]
  },
  {
   "cell_type": "code",
   "execution_count": null,
   "metadata": {},
   "outputs": [
    {
     "data": {
      "text/plain": [
       "{'role': 'user', 'content': 'describe this picture'}"
      ]
     },
     "execution_count": null,
     "metadata": {},
     "output_type": "execute_result"
    }
   ],
   "source": [
    "mk_msg([\"describe this picture\"])"
   ]
  },
  {
   "cell_type": "markdown",
   "metadata": {},
   "source": [
    "If `content` is a list with multiple items, we use the more detailed format."
   ]
  },
  {
   "cell_type": "code",
   "execution_count": null,
   "metadata": {},
   "outputs": [
    {
     "data": {
      "text/plain": [
       "{'role': 'user',\n",
       " 'content': [{'type': 'text', 'text': 'describe this picture'},\n",
       "  {'type': 'text', 'text': 'and tell me a joke'}]}"
      ]
     },
     "execution_count": null,
     "metadata": {},
     "output_type": "execute_result"
    }
   ],
   "source": [
    "mk_msg([\"describe this picture\", \"and tell me a joke\"])"
   ]
  },
  {
   "cell_type": "markdown",
   "metadata": {},
   "source": [
    "To make life a little easier, let's use fastcore's [dict2obj](https://fastcore.fast.ai/xtras.html#dict2obj) to convert the output of `mk_msg` to an `AttrDict`. This will allow us to use `msg.content` and `msg.role` instead of having to do lookups like `msg['content']` and `msg['role']`. "
   ]
  },
  {
   "cell_type": "code",
   "execution_count": null,
   "metadata": {},
   "outputs": [],
   "source": [
    "#| export\n",
    "def mk_msg(content:Union[list,str], role:str=\"user\", *args, api:str=\"openai\", **kw)->dict:\n",
    "    \"Create an OpenAI/Anthropic compatible message.\"\n",
    "    text_only = isinstance(content, str) or (isinstance(content, list) and len(content) == 1 and isinstance(content[0], str))\n",
    "    m = OpenAiMsg if api == \"openai\" else AnthropicMsg\n",
    "    msg = m()(role, content, text_only=text_only, **kw)\n",
    "    return dict2obj(msg, list_func=list)"
   ]
  },
  {
   "cell_type": "code",
   "execution_count": null,
   "metadata": {},
   "outputs": [],
   "source": [
    "msg = mk_msg([\"describe this picture\"])"
   ]
  },
  {
   "cell_type": "code",
   "execution_count": null,
   "metadata": {},
   "outputs": [
    {
     "data": {
      "text/plain": [
       "('user', 'describe this picture')"
      ]
     },
     "execution_count": null,
     "metadata": {},
     "output_type": "execute_result"
    }
   ],
   "source": [
    "msg[\"role\"], msg[\"content\"]"
   ]
  },
  {
   "cell_type": "code",
   "execution_count": null,
   "metadata": {},
   "outputs": [
    {
     "data": {
      "text/plain": [
       "('user', 'describe this picture')"
      ]
     },
     "execution_count": null,
     "metadata": {},
     "output_type": "execute_result"
    }
   ],
   "source": [
    "msg.role, msg.content"
   ]
  },
  {
   "cell_type": "markdown",
   "metadata": {},
   "source": [
    "### Conversation"
   ]
  },
  {
   "cell_type": "markdown",
   "metadata": {},
   "source": [
    "LLMs are stateless. To continue a conversation we need to include the entire message history in every API call.\n",
    "By default the role in each message alternates between `user` and `assistant`.\n",
    "\n",
    "Let's add a method that alternates the roles for us and then calls `mk_msgs`."
   ]
  },
  {
   "cell_type": "code",
   "execution_count": null,
   "metadata": {},
   "outputs": [],
   "source": [
    "#| export\n",
    "def mk_msgs(msgs: list, *args, api:str=\"openai\", **kw) -> list:\n",
    "    \"Create a list of messages compatible with OpenAI/Anthropic.\"\n",
    "    if isinstance(msgs, str): msgs = [msgs]\n",
    "    return [mk_msg(o, ('user', 'assistant')[i % 2], *args, api=api, **kw) for i, o in enumerate(msgs)]"
   ]
  },
  {
   "cell_type": "code",
   "execution_count": null,
   "metadata": {},
   "outputs": [
    {
     "data": {
      "text/plain": [
       "[{'role': 'user', 'content': 'Hello'},\n",
       " {'role': 'assistant', 'content': 'Some assistant response'},\n",
       " {'role': 'user', 'content': 'tell me a joke'}]"
      ]
     },
     "execution_count": null,
     "metadata": {},
     "output_type": "execute_result"
    }
   ],
   "source": [
    "mk_msgs([\"Hello\", \"Some assistant response\", \"tell me a joke\"])"
   ]
  },
  {
   "cell_type": "markdown",
   "metadata": {},
   "source": [
    "### SDK Objects"
   ]
  },
  {
   "cell_type": "markdown",
   "metadata": {},
   "source": [
    "To make our lives even easier, it would be nice if `mk_msg` could format the SDK objects returned from a previous chat so that we can pass them straight to `mk_msgs`.\n",
    "\n",
    "The OpenAI SDK accepts objects like `ChatCompletion` as messages. Anthropic is different and expects every message to have the `role`, `content` format that we've seen so far."
   ]
  },
  {
   "cell_type": "code",
   "execution_count": null,
   "metadata": {},
   "outputs": [],
   "source": [
    "#| export\n",
    "class Msg:\n",
    "    \"Helper class to create a message for the OpenAI and Anthropic APIs.\"\n",
    "    sdk_obj_support=False # is an SDK object a valid message?\n",
    "    def __call__(self, role:str, content:[list,str], text_only:bool=False, **kw)->dict:\n",
    "        \"Create an OpenAI/Anthropic compatible message with `role` and `content`.\"\n",
    "        if self.sdk_obj_support and self.is_sdk_obj(content): return self.find_block(content)\n",
    "        if hasattr(content, \"content\"): content, role = content.content, content.role\n",
    "        content = self.find_block(content)\n",
    "        if content is not None and not isinstance(content, list): content = [content]\n",
    "        content = [self.mk_content(o, text_only=text_only) for o in content] if content else ''\n",
    "        return dict(role=role, content=content[0] if text_only else content, **kw)\n",
    "\n",
    "    def is_sdk_obj(self, r)-> bool:\n",
    "        \"Check if `r` is an SDK object.\"\n",
    "        raise NotImplemented\n",
    "        \n",
    "    def find_block(self, r)->dict:\n",
    "        \"Find the message in `r`.\"\n",
    "        raise NotImplemented\n",
    "\n",
    "    def text_msg(self, s:str, text_only:bool=False, **kw):\n",
    "        \"Convert `s` to a text message\"\n",
    "        return s if text_only else {\"type\":\"text\", \"text\":s}\n",
    "\n",
    "    def img_msg(self, *args, **kw)->dict:\n",
    "        \"Convert bytes to an image message\"\n",
    "        raise NotImplemented\n",
    "\n",
    "    def pdf_msg(self, *args, **kw)->dict:\n",
    "        \"Convert bytes to a pdf message\"\n",
    "        raise NotImplemented\n",
    "    \n",
    "    def mk_content(self, content:[str, bytes], text_only:bool=False) -> dict:\n",
    "        \"Create the appropriate data structure based the content type.\"\n",
    "        if isinstance(content, str): return self.text_msg(content, text_only=text_only)\n",
    "        if _is_img(content): return self.img_msg(content)\n",
    "        if _is_pdf(content): return self.pdf_msg(content)\n",
    "        return content"
   ]
  },
  {
   "cell_type": "code",
   "execution_count": null,
   "metadata": {},
   "outputs": [],
   "source": [
    "#| export\n",
    "class AnthropicMsg(Msg):\n",
    "    sdk_obj_support=False\n",
    "    def img_msg(self, data: bytes) -> dict:\n",
    "        \"Convert `data` to an image message\"\n",
    "        img, mtype = _mk_img(data)\n",
    "        r = {\"type\": \"base64\", \"media_type\": mtype, \"data\":img}\n",
    "        return {\"type\": \"image\", \"source\": r}\n",
    "\n",
    "    def pdf_msg(self, data: bytes) -> dict:\n",
    "        \"Convert `data` to a pdf message\"\n",
    "        r = {\"type\": \"base64\", \"media_type\": \"application/pdf\", \"data\":_mk_pdf(data)}\n",
    "        return {\"type\": \"document\", \"source\": r}\n",
    "    \n",
    "    def is_sdk_obj(self, r)-> bool:\n",
    "        \"Check if `r` is an SDK object.\"\n",
    "        return isinstance(r, abc.Mapping)\n",
    "\n",
    "    def find_block(self, r):\n",
    "        \"Find the message in `r`.\"\n",
    "        return r.get('content', r) if self.is_sdk_obj(r) else r"
   ]
  },
  {
   "cell_type": "code",
   "execution_count": null,
   "metadata": {},
   "outputs": [],
   "source": [
    "#| export\n",
    "class OpenAiMsg(Msg):\n",
    "    sdk_obj_support=True\n",
    "    def img_msg(self, data: bytes) -> dict:\n",
    "        \"Convert `data` to an image message\"\n",
    "        img, mtype = _mk_img(data)\n",
    "        r = {\"url\": f\"data:{mtype};base64,{img}\"}\n",
    "        return {\"type\": \"image_url\", \"image_url\": r}\n",
    "\n",
    "    def is_sdk_obj(self, r)-> bool:\n",
    "        \"Check if `r` is an SDK object.\"\n",
    "        return type(r).__module__ != \"builtins\"\n",
    "\n",
    "    def find_block(self, r):\n",
    "        \"Find the message in `r`.\"\n",
    "        if not self.is_sdk_obj(r): return r\n",
    "        m = nested_idx(r, \"choices\", 0)\n",
    "        if not m: return m\n",
    "        if hasattr(m, \"message\"): return m.message\n",
    "        return m.delta"
   ]
  },
  {
   "cell_type": "markdown",
   "metadata": {},
   "source": [
    "Let's test our changes."
   ]
  },
  {
   "cell_type": "code",
   "execution_count": null,
   "metadata": {},
   "outputs": [
    {
     "data": {
      "text/plain": [
       "\"Why don't skeletons fight each other?\\n\\nThey don't have the guts!\""
      ]
     },
     "execution_count": null,
     "metadata": {},
     "output_type": "execute_result"
    }
   ],
   "source": [
    "msgs = [\"tell me a joke\"]\n",
    "r, text = openai_chat(mk_msgs(msgs))\n",
    "text"
   ]
  },
  {
   "cell_type": "code",
   "execution_count": null,
   "metadata": {},
   "outputs": [
    {
     "data": {
      "text/plain": [
       "'Why did the scarecrow win an award?\\n\\nBecause he was outstanding in his field!'"
      ]
     },
     "execution_count": null,
     "metadata": {},
     "output_type": "execute_result"
    }
   ],
   "source": [
    "msgs += [r, \"tell me another joke that's similar to your first joke\"]\n",
    "r, text = openai_chat(mk_msgs(msgs))\n",
    "text"
   ]
  },
  {
   "cell_type": "markdown",
   "metadata": {},
   "source": [
    "### Usage"
   ]
  },
  {
   "cell_type": "markdown",
   "metadata": {},
   "source": [
    "To make `msglm` a little easier to use let's create OpenAI and Anthropic wrappers for `mk_msg` and `mk_msgs`."
   ]
  },
  {
   "cell_type": "code",
   "execution_count": null,
   "metadata": {},
   "outputs": [],
   "source": [
    "#| export\n",
    "mk_msg_openai = partial(mk_msg, api=\"openai\")\n",
    "mk_msgs_openai = partial(mk_msgs, api=\"openai\")"
   ]
  },
  {
   "cell_type": "code",
   "execution_count": null,
   "metadata": {},
   "outputs": [],
   "source": [
    "mk_msg_anthropic = partial(mk_msg, api=\"anthropic\")\n",
    "mk_msgs_anthropic = partial(mk_msgs, api=\"anthropic\")"
   ]
  },
  {
   "cell_type": "markdown",
   "metadata": {},
   "source": [
    "If you're using OpenAI you should be able to use the import below\n",
    "\n",
    "```python\n",
    "from msglm import mk_msg_openai as mk_msg, mk_msgs_openai as mk_msgs\n",
    "```"
   ]
  },
  {
   "cell_type": "markdown",
   "metadata": {},
   "source": [
    "Similarily for Anthropic\n",
    "\n",
    "```python\n",
    "from msglm import mk_msg_anthropic as mk_msg, mk_msgs_anthropic as mk_msgs\n",
    "```"
   ]
  },
  {
   "cell_type": "markdown",
   "metadata": {},
   "source": [
    "### Caching"
   ]
  },
  {
   "cell_type": "markdown",
   "metadata": {},
   "source": [
    "Anthropic currently offers [prompt caching](https://docs.anthropic.com/en/docs/build-with-claude/prompt-caching), which can reduce cost and latency.\n",
    "\n",
    "To cache a message, we simply add a `cache_control` field to our content as shown below.\n",
    "\n",
    "```js\n",
    "{\n",
    "    \"role\": \"user\",\n",
    "    \"content\": [\n",
    "        {\n",
    "            \"type\": \"text\",\n",
    "            \"text\": \"Hello, can you tell me more about the solar system?\",\n",
    "            \"cache_control\": {\"type\": \"ephemeral\"}\n",
    "        }\n",
    "    ]\n",
    "}\n",
    "```"
   ]
  },
  {
   "cell_type": "markdown",
   "metadata": {},
   "source": [
    "Let's update our `mk_msg` and `mk_msgs` Anthropic wrappers to support caching."
   ]
  },
  {
   "cell_type": "code",
   "execution_count": null,
   "metadata": {},
   "outputs": [],
   "source": [
    "#| export\n",
    "def _add_cache_control(msg, cache=False):\n",
    "    \"cache `msg`.\"\n",
    "    if not cache: return msg\n",
    "    if isinstance(msg[\"content\"], str): msg[\"content\"] = [{\"type\": \"text\", \"text\": msg[\"content\"]}]\n",
    "    if isinstance(msg[\"content\"][-1], dict): msg[\"content\"][-1][\"cache_control\"] = {\"type\": \"ephemeral\"}\n",
    "    elif isinstance(msg[\"content\"][-1], abc.Mapping): msg[\"content\"][-1].cache_control = {\"type\": \"ephemeral\"}\n",
    "    return msg\n",
    "\n",
    "def _remove_cache_ckpts(msg):\n",
    "    \"remove unecessary cache checkpoints.\"\n",
    "    if isinstance(msg[\"content\"], str): msg[\"content\"] = [{\"type\": \"text\", \"text\": msg[\"content\"]}]\n",
    "    elif isinstance(msg[\"content\"][-1], dict): msg[\"content\"][-1].pop('cache_control', None)\n",
    "    else: delattr(msg[\"content\"][-1], 'cache_control') if hasattr(msg[\"content\"][-1], 'cache_control') else None\n",
    "    return msg\n",
    "\n",
    "\n",
    "@delegates(mk_msg)\n",
    "def mk_msg_anthropic(*args, cache=False, **kwargs):\n",
    "    \"Create an Anthropic compatible message.\"\n",
    "    msg = partial(mk_msg, api=\"anthropic\")(*args, **kwargs)\n",
    "    return _add_cache_control(msg, cache=cache)\n",
    "\n",
    "@delegates(mk_msgs)\n",
    "def mk_msgs_anthropic(*args, cache=False, cache_last_ckpt_only=False, **kwargs):\n",
    "    \"Create a list of Anthropic compatible messages.\"\n",
    "    msgs = partial(mk_msgs, api=\"anthropic\")(*args, **kwargs)\n",
    "    if cache_last_ckpt_only: msgs = [_remove_cache_ckpts(m) for m in msgs]\n",
    "    if not msgs: return msgs\n",
    "    msgs[-1] = _add_cache_control(msgs[-1], cache=cache)\n",
    "    return msgs"
   ]
  },
  {
   "cell_type": "markdown",
   "metadata": {},
   "source": [
    "Let's see caching in action"
   ]
  },
  {
   "cell_type": "code",
   "execution_count": null,
   "metadata": {},
   "outputs": [
    {
     "data": {
      "text/markdown": [
       "```json\n",
       "{'content': \"Don't cache my message\", 'role': 'user'}\n",
       "```"
      ],
      "text/plain": [
       "{'role': 'user', 'content': \"Don't cache my message\"}"
      ]
     },
     "execution_count": null,
     "metadata": {},
     "output_type": "execute_result"
    }
   ],
   "source": [
    "mk_msg_anthropic(\"Don't cache my message\")"
   ]
  },
  {
   "cell_type": "code",
   "execution_count": null,
   "metadata": {},
   "outputs": [
    {
     "data": {
      "text/markdown": [
       "```json\n",
       "{ 'content': [ { 'cache_control': {'type': 'ephemeral'},\n",
       "                 'text': 'Please cache my message',\n",
       "                 'type': 'text'}],\n",
       "  'role': 'user'}\n",
       "```"
      ],
      "text/plain": [
       "{'role': 'user',\n",
       " 'content': [{'type': 'text',\n",
       "   'text': 'Please cache my message',\n",
       "   'cache_control': {'type': 'ephemeral'}}]}"
      ]
     },
     "execution_count": null,
     "metadata": {},
     "output_type": "execute_result"
    }
   ],
   "source": [
    "mk_msg_anthropic(\"Please cache my message\", cache=True)"
   ]
  },
  {
   "cell_type": "markdown",
   "metadata": {},
   "source": [
    "### Citations"
   ]
  },
  {
   "cell_type": "markdown",
   "metadata": {},
   "source": [
    "The Anthropic API provides detailed [citations](https://docs.anthropic.com/en/docs/build-with-claude/citations) when answering questions about documents.\n",
    "\n",
    "When citations are enabled a citations block like the one below will be included in the response.\n",
    "\n",
    "```js\n",
    "{\n",
    "  \"content\": [\n",
    "    {\n",
    "      \"type\": \"text\",\n",
    "      \"text\": \"According to the document, \"\n",
    "    },\n",
    "    {\n",
    "      \"type\": \"text\",\n",
    "      \"text\": \"the grass is green\",\n",
    "      \"citations\": [{\n",
    "        \"type\": \"char_location\",\n",
    "        \"cited_text\": \"The grass is green.\",\n",
    "        \"document_index\": 0,\n",
    "        \"document_title\": \"Example Document\",\n",
    "        \"start_char_index\": 0,\n",
    "        \"end_char_index\": 20\n",
    "      }]\n",
    "    }\n",
    "  ]\n",
    "}\n",
    "```"
   ]
  },
  {
   "cell_type": "markdown",
   "metadata": {},
   "source": [
    "To enable citations you need to create an Anthropic document with the following structure.\n",
    "\n",
    "```js\n",
    "{\n",
    "    \"type\": \"document\",\n",
    "    \"source\": {...},\n",
    "    \"title\": \"Document Title\", # optional\n",
    "    \"context\": \"Context about the document that will not be cited from\", # optional\n",
    "    \"citations\": {\"enabled\": True}\n",
    "}\n",
    "```"
   ]
  },
  {
   "cell_type": "markdown",
   "metadata": {},
   "source": [
    "Currently Anthropic supports citations on 3 document types:\n",
    "- text\n",
    "- pdfs\n",
    "- custom\n",
    "\n",
    "A **text** document has the following source structure.\n",
    "\n",
    "```js\n",
    "{\"type\": \"text\", \"media_type\": \"text/plain\", \"data\": \"Plain text content...\"}\n",
    "```\n",
    "\n",
    "Here's the source structure for a **pdf**.\n",
    "\n",
    "```js\n",
    "{\"type\": \"base64\", \"media_type\": \"application/pdf\", \"data\": b64_enc_data}\n",
    "```\n",
    "\n",
    "Finally, here's the source structure for a **custom** document.\n",
    "\n",
    "```js\n",
    "{\n",
    "  \"type\": \"content\",\n",
    "  \"content\": [\n",
    "    {\"type\": \"text\", \"text\": \"First chunk\"},\n",
    "    {\"type\": \"text\", \"text\": \"Second chunk\"}\n",
    "  ]\n",
    "}\n",
    "```"
   ]
  },
  {
   "cell_type": "code",
   "execution_count": null,
   "metadata": {},
   "outputs": [],
   "source": [
    "#| export\n",
    "def mk_ant_doc(content, title=None, context=None, citation=True, **kws):\n",
    "    \"Create an Anthropic document.\"\n",
    "    if _is_pdf(content): src = {\"type\":\"base64\", \"media_type\":\"application/pdf\", \"data\":_mk_pdf(content)}\n",
    "    elif isinstance(content,list): src = {\"type\":\"content\", \"content\":content}\n",
    "    else: src = {\"type\":\"text\", \"media_type\":\"text/plain\", \"data\":content}\n",
    "    return {\"type\":\"document\", \"source\":src, \"citations\":{\"enabled\":citation}, \"title\":title, \"context\":context, **kws}"
   ]
  },
  {
   "cell_type": "markdown",
   "metadata": {},
   "source": [
    "Here's how you would implement the example from the citation's [docs](https://docs.anthropic.com/en/docs/build-with-claude/citations)."
   ]
  },
  {
   "cell_type": "code",
   "execution_count": null,
   "metadata": {},
   "outputs": [
    {
     "data": {
      "text/markdown": [
       "```json\n",
       "{ 'content': [{'type': 'document', 'source': {'type': 'text', 'media_type': 'text/plain', 'data': 'The grass is green. The sky is blue.'}, 'citations': {'enabled': True}, 'title': 'My Document', 'context': 'This is a trustworthy document.'}, {'type': 'text', 'text': 'What color is the grass and sky?'}],\n",
       "  'role': 'user'}\n",
       "```"
      ],
      "text/plain": [
       "{'role': 'user',\n",
       " 'content': (#2) [{'type': 'document', 'source': {'type': 'text', 'media_type': 'text/plain', 'data': 'The grass is green. The sky is blue.'}, 'citations': {'enabled': True}, 'title': 'My Document', 'context': 'This is a trustworthy document.'},{'type': 'text', 'text': 'What color is the grass and sky?'}]}"
      ]
     },
     "execution_count": null,
     "metadata": {},
     "output_type": "execute_result"
    }
   ],
   "source": [
    "doc = mk_ant_doc(\"The grass is green. The sky is blue.\", title=\"My Document\", context=\"This is a trustworthy document.\")\n",
    "mk_msg([doc, \"What color is the grass and sky?\"])"
   ]
  },
  {
   "cell_type": "code",
   "execution_count": null,
   "metadata": {},
   "outputs": [],
   "source": [
    "#| hide\n",
    "import nbdev; nbdev.nbdev_export()"
   ]
  },
  {
   "cell_type": "code",
   "execution_count": null,
   "metadata": {},
   "outputs": [],
   "source": []
  }
 ],
 "metadata": {
  "kernelspec": {
   "display_name": "python3",
   "language": "python",
   "name": "python3"
  }
 },
 "nbformat": 4,
 "nbformat_minor": 4
}
