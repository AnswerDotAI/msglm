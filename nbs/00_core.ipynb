{
 "cells": [
  {
   "cell_type": "markdown",
   "metadata": {},
   "source": [
    "# core\n",
    "\n",
    "> Create messages for language models like Claude and OpenAI GPTs."
   ]
  },
  {
   "cell_type": "code",
   "execution_count": null,
   "metadata": {},
   "outputs": [],
   "source": [
    "#| default_exp core"
   ]
  },
  {
   "cell_type": "code",
   "execution_count": null,
   "metadata": {},
   "outputs": [],
   "source": [
    "#| hide\n",
    "from nbdev.showdoc import *"
   ]
  },
  {
   "cell_type": "code",
   "execution_count": null,
   "metadata": {},
   "outputs": [],
   "source": [
    "#| export\n",
    "import base64\n",
    "import mimetypes\n",
    "from collections import abc\n",
    "\n",
    "from fastcore import imghdr\n",
    "from fastcore.meta import delegates\n",
    "from fastcore.utils import *"
   ]
  },
  {
   "cell_type": "code",
   "execution_count": null,
   "metadata": {},
   "outputs": [],
   "source": [
    "from IPython.display import Image, display\n",
    "from pathlib import Path"
   ]
  },
  {
   "cell_type": "code",
   "execution_count": null,
   "metadata": {},
   "outputs": [],
   "source": [
    "from pathlib import Path"
   ]
  },
  {
   "cell_type": "markdown",
   "metadata": {},
   "source": [
    "## API Exploration"
   ]
  },
  {
   "cell_type": "markdown",
   "metadata": {},
   "source": [
    "Anthropic's Claude and OpenAI's GPT models are some of the most popular LLMs. \n",
    "\n",
    "Let's take a look at their APIs and to learn how we should structure our messages for a simple text chat."
   ]
  },
  {
   "cell_type": "markdown",
   "metadata": {},
   "source": [
    "#### openai"
   ]
  },
  {
   "cell_type": "code",
   "execution_count": null,
   "metadata": {},
   "outputs": [],
   "source": [
    "from openai import OpenAI"
   ]
  },
  {
   "cell_type": "code",
   "execution_count": null,
   "metadata": {},
   "outputs": [
    {
     "data": {
      "text/plain": [
       "Response(id='resp_6857a0cfb69481a0b83f5e92e0ddf0cc06493708787ff9e8', created_at=1750573263.0, error=None, incomplete_details=None, instructions=None, metadata={}, model='gpt-4.1-2025-04-14', object='response', output=[ResponseOutputMessage(id='msg_6857a0cff14c81a0b54abda553f30f1106493708787ff9e8', content=[ResponseOutputText(annotations=[], text='Hello, world! 🌍\\n\\nHow can I help you today?', type='output_text', logprobs=None)], role='assistant', status='completed', type='message')], parallel_tool_calls=True, temperature=1.0, tool_choice='auto', tools=[], top_p=1.0, background=False, max_output_tokens=None, previous_response_id=None, prompt=None, reasoning=Reasoning(effort=None, generate_summary=None, summary=None), service_tier='default', status='completed', text=ResponseTextConfig(format=ResponseFormatText(type='text')), truncation='disabled', usage=ResponseUsage(input_tokens=11, input_tokens_details=InputTokensDetails(cached_tokens=0), output_tokens=15, output_tokens_details=OutputTokensDetails(reasoning_tokens=0), total_tokens=26), user=None, store=True)"
      ]
     },
     "execution_count": null,
     "metadata": {},
     "output_type": "execute_result"
    }
   ],
   "source": [
    "client = OpenAI()\n",
    "\n",
    "client.responses.create(\n",
    "  model=\"gpt-4.1\",\n",
    "  input=[ {\"role\": \"user\", \"content\": \"Hello, world!\"} ]\n",
    ")"
   ]
  },
  {
   "cell_type": "markdown",
   "metadata": {},
   "source": [
    "#### anthropic"
   ]
  },
  {
   "cell_type": "code",
   "execution_count": null,
   "metadata": {},
   "outputs": [],
   "source": [
    "from anthropic import Anthropic"
   ]
  },
  {
   "cell_type": "code",
   "execution_count": null,
   "metadata": {},
   "outputs": [
    {
     "data": {
      "text/markdown": [
       "Hello! It's nice to meet you. I'm an AI assistant created by Anthropic. I'm here to help with all sorts of tasks, from research and analysis to creative projects and casual conversation. Feel free to ask me anything!\n",
       "\n",
       "<details>\n",
       "\n",
       "- id: `msg_019vDDPSBcQjuH5mAPJg7dx9`\n",
       "- content: `[{'citations': None, 'text': \"Hello! It's nice to meet you. I'm an AI assistant created by Anthropic. I'm here to help with all sorts of tasks, from research and analysis to creative projects and casual conversation. Feel free to ask me anything!\", 'type': 'text'}]`\n",
       "- model: `claude-3-haiku-20240307`\n",
       "- role: `assistant`\n",
       "- stop_reason: `end_turn`\n",
       "- stop_sequence: `None`\n",
       "- type: `message`\n",
       "- usage: `{'cache_creation_input_tokens': 0, 'cache_read_input_tokens': 0, 'input_tokens': 11, 'output_tokens': 52, 'server_tool_use': None, 'service_tier': 'standard'}`\n",
       "\n",
       "</details>"
      ],
      "text/plain": [
       "Message(id='msg_019vDDPSBcQjuH5mAPJg7dx9', content=[TextBlock(citations=None, text=\"Hello! It's nice to meet you. I'm an AI assistant created by Anthropic. I'm here to help with all sorts of tasks, from research and analysis to creative projects and casual conversation. Feel free to ask me anything!\", type='text')], model='claude-3-haiku-20240307', role='assistant', stop_reason='end_turn', stop_sequence=None, type='message', usage=In: 11; Out: 52; Cache create: 0; Cache read: 0; Total Tokens: 63; Search: 0)"
      ]
     },
     "execution_count": null,
     "metadata": {},
     "output_type": "execute_result"
    }
   ],
   "source": [
    "client = Anthropic()\n",
    "\n",
    "client.messages.create(\n",
    "    model=\"claude-3-haiku-20240307\",\n",
    "    max_tokens=1024,\n",
    "    messages=[ {\"role\": \"user\", \"content\": \"Hello, world!\"} ]\n",
    ")"
   ]
  },
  {
   "cell_type": "markdown",
   "metadata": {},
   "source": [
    "As we can see both APIs use the exact same message structure."
   ]
  },
  {
   "cell_type": "markdown",
   "metadata": {},
   "source": [
    "### mk_msg"
   ]
  },
  {
   "cell_type": "markdown",
   "metadata": {},
   "source": [
    "Ok, let's build the first version of `mk_msg` to handle this case"
   ]
  },
  {
   "cell_type": "code",
   "execution_count": null,
   "metadata": {},
   "outputs": [],
   "source": [
    "def mk_msg(content:str, role:str=\"user\")->dict:\n",
    "    \"Create an OpenAI/Anthropic compatible message.\"\n",
    "    return dict(role=role, content=content)"
   ]
  },
  {
   "cell_type": "markdown",
   "metadata": {},
   "source": [
    "Let's test it out with the OpenAI API. To do that we'll need to setup two things:\n",
    "\n",
    "- install the openai SDK by running `pip install openai`\n",
    "- add your openai api key to your env vars `export OPENAI_API_KEY=\"YOUR_OPEN_API_KEY\"`"
   ]
  },
  {
   "cell_type": "code",
   "execution_count": null,
   "metadata": {},
   "outputs": [
    {
     "data": {
      "text/plain": [
       "'Hello! How can I assist you today?'"
      ]
     },
     "execution_count": null,
     "metadata": {},
     "output_type": "execute_result"
    }
   ],
   "source": [
    "oa_cli = OpenAI()\n",
    "\n",
    "r = oa_cli.responses.create(\n",
    "  model=\"gpt-4o-mini\",\n",
    "  input=[mk_msg(\"Hello, world!\")]\n",
    ")\n",
    "r.output_text"
   ]
  },
  {
   "cell_type": "markdown",
   "metadata": {},
   "source": [
    "Now, let's test out `mk_msg` on the Anthropic API. To do that we'll need to setup two things:\n",
    "\n",
    "- install the openai SDK by running `pip install anthropic`\n",
    "- add your anthropic api key to your env vars `export ANTHROPIC_API_KEY=\"YOUR_ANTHROPIC_API_KEY\"`"
   ]
  },
  {
   "cell_type": "code",
   "execution_count": null,
   "metadata": {},
   "outputs": [
    {
     "data": {
      "text/plain": [
       "\"Hello! It's nice to meet you.\""
      ]
     },
     "execution_count": null,
     "metadata": {},
     "output_type": "execute_result"
    }
   ],
   "source": [
    "a_cli = Anthropic()\n",
    "\n",
    "r = a_cli.messages.create(\n",
    "    model=\"claude-3-haiku-20240307\",\n",
    "    max_tokens=1024,\n",
    "    messages=[mk_msg(\"Hello, world!\")]\n",
    ")\n",
    "r.content[0].text"
   ]
  },
  {
   "cell_type": "markdown",
   "metadata": {},
   "source": [
    "So far so good!"
   ]
  },
  {
   "cell_type": "markdown",
   "metadata": {},
   "source": [
    "#### Helper Functions"
   ]
  },
  {
   "cell_type": "markdown",
   "metadata": {},
   "source": [
    "Before going any further, let's create some helper functions to make it a little easier to call the OpenAI and Anthropic APIs. We're going to be making a bunch of API calls to test our code and typing the full expressions out each time will become a little tedious. These functions won't be included in the final package."
   ]
  },
  {
   "cell_type": "code",
   "execution_count": null,
   "metadata": {},
   "outputs": [],
   "source": [
    "def openai_chat(msgs: list)->tuple:\n",
    "    \"call the openai chat responses endpoint with `msgs`.\"\n",
    "    r = oa_cli.responses.create(model=\"gpt-4.1\", input=msgs)\n",
    "    return r, r.output_text"
   ]
  },
  {
   "cell_type": "markdown",
   "metadata": {},
   "source": [
    "Let's double check that `mk_msg` still works with our simple text example from before."
   ]
  },
  {
   "cell_type": "code",
   "execution_count": null,
   "metadata": {},
   "outputs": [
    {
     "data": {
      "text/plain": [
       "'Hello! 🌍 How can I help you today?'"
      ]
     },
     "execution_count": null,
     "metadata": {},
     "output_type": "execute_result"
    }
   ],
   "source": [
    "_, text = openai_chat([mk_msg(\"Hello, world!\")])\n",
    "text"
   ]
  },
  {
   "cell_type": "code",
   "execution_count": null,
   "metadata": {},
   "outputs": [],
   "source": [
    "def anthropic_chat(msgs: list)->tuple:\n",
    "    \"call the anthropic messages endpoint with `msgs`.\"\n",
    "    r = a_cli.messages.create(model=\"claude-sonnet-4-20250514\", max_tokens=1024, messages=msgs)\n",
    "    return r, r.content[0].text"
   ]
  },
  {
   "cell_type": "markdown",
   "metadata": {},
   "source": [
    "and Anthropic..."
   ]
  },
  {
   "cell_type": "code",
   "execution_count": null,
   "metadata": {},
   "outputs": [
    {
     "data": {
      "text/plain": [
       "\"Hello! Nice to meet you! That's a classic greeting with a touch of programming tradition. How are you doing today? Is there anything I can help you with?\""
      ]
     },
     "execution_count": null,
     "metadata": {},
     "output_type": "execute_result"
    }
   ],
   "source": [
    "_, text = anthropic_chat([mk_msg(\"Hello, world!\")])\n",
    "text"
   ]
  },
  {
   "cell_type": "markdown",
   "metadata": {},
   "source": [
    "### Images"
   ]
  },
  {
   "cell_type": "markdown",
   "metadata": {},
   "source": [
    "Ok, let's see how both APIs handle image messages.\n",
    "\n",
    "<img src=\"https://claudette.answer.ai/index_files/figure-html/cell-35-output-1.jpeg\" height=240 width=240></img>"
   ]
  },
  {
   "cell_type": "markdown",
   "metadata": {},
   "source": [
    "#### openai"
   ]
  },
  {
   "cell_type": "code",
   "execution_count": null,
   "metadata": {},
   "outputs": [],
   "source": [
    "import base64, httpx"
   ]
  },
  {
   "cell_type": "code",
   "execution_count": null,
   "metadata": {},
   "outputs": [],
   "source": [
    "img_url = \"https://claudette.answer.ai/index_files/figure-html/cell-35-output-1.jpeg\""
   ]
  },
  {
   "cell_type": "code",
   "execution_count": null,
   "metadata": {},
   "outputs": [],
   "source": [
    "mtype = \"image/jpeg\"\n",
    "img_content = httpx.get(img_url).content"
   ]
  },
  {
   "cell_type": "code",
   "execution_count": null,
   "metadata": {},
   "outputs": [
    {
     "data": {
      "text/plain": [
       "\"The image features a small, fluffy puppy lying on the grass next to a cluster of purple flowers. The puppy has a brown and white coat, with distinctive, soft-looking ears and an inquisitive expression. It's a cute scene that captures the charm of a playful young dog in a natural setting.\""
      ]
     },
     "execution_count": null,
     "metadata": {},
     "output_type": "execute_result"
    }
   ],
   "source": [
    "img = base64.b64encode(img_content).decode(\"utf-8\")\n",
    "\n",
    "client = OpenAI()\n",
    "r = client.responses.create(\n",
    "    model=\"gpt-4o-mini\",\n",
    "    input=[\n",
    "        {\n",
    "            \"role\":\"user\",\n",
    "            \"content\": [\n",
    "                {\"type\":\"input_text\",\"text\":\"What's in this image?\"},\n",
    "                {\"type\":\"input_image\",\"image_url\":f\"data:image/jpeg;base64,{img}\"},\n",
    "            ],\n",
    "        }\n",
    "    ],\n",
    ")\n",
    "r.output_text"
   ]
  },
  {
   "cell_type": "markdown",
   "metadata": {},
   "source": [
    "#### anthropic"
   ]
  },
  {
   "cell_type": "code",
   "execution_count": null,
   "metadata": {},
   "outputs": [
    {
     "data": {
      "text/plain": [
       "'This image shows a cute puppy of the Cavalier King Charles Spaniel breed. The puppy is lying in a grassy area with some purple flowers in the background. The puppy has a friendly, curious expression on its face as it looks at the camera. The image captures the adorable and endearing nature of this young dog.'"
      ]
     },
     "execution_count": null,
     "metadata": {},
     "output_type": "execute_result"
    }
   ],
   "source": [
    "mtype = \"image/jpeg\"\n",
    "img = base64.b64encode(img_content).decode(\"utf-8\")\n",
    "\n",
    "client = Anthropic()\n",
    "r = client.messages.create(\n",
    "    model=\"claude-3-haiku-20240307\",\n",
    "    max_tokens=1024,\n",
    "    messages=[\n",
    "        {\n",
    "            \"role\":\"user\",\n",
    "            \"content\": [\n",
    "                {\"type\":\"text\",\"text\":\"What's in this image?\"},\n",
    "                {\"type\":\"image\",\"source\":{\"type\":\"base64\",\"media_type\":mtype,\"data\":img}}\n",
    "            ],\n",
    "        }\n",
    "    ],\n",
    ")\n",
    "r.content[0].text"
   ]
  },
  {
   "cell_type": "markdown",
   "metadata": {},
   "source": [
    "Both APIs format images slightly differently and the structure of the message `content` is a little more complex. \n",
    "\n",
    "In a text chat, `content` is a simple string but for a multimodal chat (text+images) we can see that `content` is a list of dictionaries."
   ]
  },
  {
   "cell_type": "markdown",
   "metadata": {},
   "source": [
    "## Msg Class"
   ]
  },
  {
   "cell_type": "markdown",
   "metadata": {},
   "source": [
    "### Basics"
   ]
  },
  {
   "cell_type": "markdown",
   "metadata": {},
   "source": [
    "Let's create `_mk_img` to make our code a little DRY'r. "
   ]
  },
  {
   "cell_type": "code",
   "execution_count": null,
   "metadata": {},
   "outputs": [],
   "source": [
    "#|exports\n",
    "def _mk_img(data:bytes)->tuple:\n",
    "    \"Convert image bytes to a base64 encoded image\"\n",
    "    img = base64.b64encode(data).decode(\"utf-8\")\n",
    "    mtype = mimetypes.types_map[\".\"+imghdr.what(None, h=data)]\n",
    "    return img, mtype"
   ]
  },
  {
   "cell_type": "markdown",
   "metadata": {},
   "source": [
    "To handle the additional complexity of multimodal messages let's build a `Msg` class for the `content` data structure:\n",
    "\n",
    "```json\n",
    "{\n",
    "    \"role\": \"user\",\n",
    "    \"content\": [{\"type\": \"text\", \"text\": \"What's in this image?\"}],\n",
    "}\n",
    "```"
   ]
  },
  {
   "cell_type": "code",
   "execution_count": null,
   "metadata": {},
   "outputs": [],
   "source": [
    "#|exports\n",
    "class Msg:\n",
    "    \"Helper class to create a message for the OpenAI and Anthropic APIs.\"\n",
    "    pass"
   ]
  },
  {
   "cell_type": "markdown",
   "metadata": {},
   "source": [
    "As both APIs handle images differently let's subclass `Msg` for each API and handle the image formatting in a method called `img_msg`."
   ]
  },
  {
   "cell_type": "code",
   "execution_count": null,
   "metadata": {},
   "outputs": [],
   "source": [
    "#|exports\n",
    "class OpenAiMsg(Msg):\n",
    "    \"Helper class to create a message for the OpenAI API.\"\n",
    "    pass"
   ]
  },
  {
   "cell_type": "code",
   "execution_count": null,
   "metadata": {},
   "outputs": [],
   "source": [
    "#|exports\n",
    "class AnthropicMsg(Msg):\n",
    "    \"Helper class to create a message for the Anthropic API.\"\n",
    "    pass"
   ]
  },
  {
   "cell_type": "markdown",
   "metadata": {},
   "source": [
    "Let's write some helper functions for `mk_content` to use."
   ]
  },
  {
   "cell_type": "code",
   "execution_count": null,
   "metadata": {},
   "outputs": [],
   "source": [
    "#|exports\n",
    "def _is_img(data): return isinstance(data, bytes) and bool(imghdr.what(None, data))"
   ]
  },
  {
   "cell_type": "markdown",
   "metadata": {},
   "source": [
    "A PDF [file](https://docs.fileformat.com/pdf/#pdf-file-header) should start with `%PDF` followed by the pdf version `%PDF-1.1`"
   ]
  },
  {
   "cell_type": "code",
   "execution_count": null,
   "metadata": {},
   "outputs": [],
   "source": [
    "#|exports\n",
    "def _is_pdf(data): return isinstance(data, bytes) and data.startswith(b'%PDF-')"
   ]
  },
  {
   "cell_type": "markdown",
   "metadata": {},
   "source": [
    "We create an appropriate type based on content:"
   ]
  },
  {
   "cell_type": "code",
   "execution_count": null,
   "metadata": {},
   "outputs": [],
   "source": [
    "#|exports\n",
    "@patch\n",
    "def mk_content(self:Msg, content, text_only=False)->dict:\n",
    "    if isinstance(content, str): return self.text_msg(content, text_only=text_only)\n",
    "    if _is_img(content): return self.img_msg(content)\n",
    "    if _is_pdf(content): return self.pdf_msg(content)\n",
    "    return content"
   ]
  },
  {
   "cell_type": "markdown",
   "metadata": {},
   "source": [
    "…then we call the model with this content:"
   ]
  },
  {
   "cell_type": "code",
   "execution_count": null,
   "metadata": {},
   "outputs": [],
   "source": [
    "@patch\n",
    "def __call__(self:Msg, role:str, content:[list, str], text_only:bool=False, **kw)->dict:\n",
    "    \"Create an OpenAI/Anthropic compatible message with `role` and `content`.\"\n",
    "    if content is not None and not isinstance(content, list): content = [content]\n",
    "    content = [self.mk_content(o, text_only=text_only) for o in content] if content else ''\n",
    "    return dict(role=role, content=content[0] if text_only else content, **kw)"
   ]
  },
  {
   "cell_type": "markdown",
   "metadata": {},
   "source": [
    "OpenAI implementations:"
   ]
  },
  {
   "cell_type": "code",
   "execution_count": null,
   "metadata": {},
   "outputs": [],
   "source": [
    "#|exports\n",
    "@patch\n",
    "def img_msg(self:OpenAiMsg, data:bytes)->dict:\n",
    "    \"Convert `data` to an image message\"\n",
    "    img, mtype = _mk_img(data)\n",
    "    return {\"type\": \"input_image\", \"image_url\": f\"data:{mtype};base64,{img}\"}\n",
    "\n",
    "@patch\n",
    "def text_msg(self:OpenAiMsg, s:str, text_only=False)->dict: \n",
    "    \"Convert `s` to a text message\"\n",
    "    return s if text_only else {\"type\": \"input_text\", \"text\":s}"
   ]
  },
  {
   "cell_type": "markdown",
   "metadata": {},
   "source": [
    "Anthropic implementations:"
   ]
  },
  {
   "cell_type": "code",
   "execution_count": null,
   "metadata": {},
   "outputs": [],
   "source": [
    "#|exports\n",
    "@patch\n",
    "def img_msg(self:AnthropicMsg, data:bytes)->dict:\n",
    "    \"Convert `data` to an image message\"\n",
    "    img, mtype = _mk_img(data)\n",
    "    r = {\"type\": \"base64\", \"media_type\": mtype, \"data\":img}\n",
    "    return {\"type\": \"image\", \"source\": r}\n",
    "\n",
    "@patch\n",
    "def text_msg(self:AnthropicMsg, s:str, text_only=False)->dict: \n",
    "    \"Convert `s` to a text message\"\n",
    "    return s if text_only else {\"type\": \"text\", \"text\":s}"
   ]
  },
  {
   "cell_type": "markdown",
   "metadata": {},
   "source": [
    "Update `mk_msg` to use `Msg`."
   ]
  },
  {
   "cell_type": "code",
   "execution_count": null,
   "metadata": {},
   "outputs": [],
   "source": [
    "#| export\n",
    "def mk_msg(content:Union[list,str], role:str=\"user\", *args, api:str=\"openai\", **kw)->dict:\n",
    "    \"Create an OpenAI/Anthropic compatible message.\"\n",
    "    text_only = isinstance(content, str) or (isinstance(content, list) and len(content) == 1 and isinstance(content[0], str))\n",
    "    m = OpenAiMsg if api == \"openai\" else AnthropicMsg\n",
    "    msg = m()(role, content, text_only=text_only, **kw)\n",
    "    return dict2obj(msg, list_func=list)"
   ]
  },
  {
   "cell_type": "code",
   "execution_count": null,
   "metadata": {},
   "outputs": [
    {
     "data": {
      "text/markdown": [
       "```json\n",
       "{ 'content': [ {'text': 'Hello world', 'type': 'input_text'},\n",
       "               {'text': 'how are you?', 'type': 'input_text'}],\n",
       "  'role': 'user'}\n",
       "```"
      ],
      "text/plain": [
       "{'role': 'user',\n",
       " 'content': [{'type': 'input_text', 'text': 'Hello world'},\n",
       "  {'type': 'input_text', 'text': 'how are you?'}]}"
      ]
     },
     "execution_count": null,
     "metadata": {},
     "output_type": "execute_result"
    }
   ],
   "source": [
    "mk_msg([\"Hello world\", \"how are you?\"], api='openai')"
   ]
  },
  {
   "cell_type": "code",
   "execution_count": null,
   "metadata": {},
   "outputs": [
    {
     "data": {
      "text/markdown": [
       "```json\n",
       "{ 'content': [ {'text': 'Hello world', 'type': 'text'},\n",
       "               {'text': 'how are you?', 'type': 'text'}],\n",
       "  'role': 'user'}\n",
       "```"
      ],
      "text/plain": [
       "{'role': 'user',\n",
       " 'content': [{'type': 'text', 'text': 'Hello world'},\n",
       "  {'type': 'text', 'text': 'how are you?'}]}"
      ]
     },
     "execution_count": null,
     "metadata": {},
     "output_type": "execute_result"
    }
   ],
   "source": [
    "mk_msg([\"Hello world\", \"how are you?\"], api='anthropic')"
   ]
  },
  {
   "cell_type": "code",
   "execution_count": null,
   "metadata": {},
   "outputs": [
    {
     "data": {
      "text/plain": [
       "'This is a picture of an adorable puppy with a white and brown coat. The puppy has large, soulful eyes and floppy ears. It is lying on the grass next to a plant with small purple flowers. The puppy appears to be relaxed and curious, peeking out from its spot. The overall scene is bright, cheerful, and conveys a sense of innocence and playfulness.'"
      ]
     },
     "execution_count": null,
     "metadata": {},
     "output_type": "execute_result"
    }
   ],
   "source": [
    "msg = mk_msg([img_content, \"describe this picture\"], api=\"openai\")\n",
    "_, text = openai_chat([msg])\n",
    "text"
   ]
  },
  {
   "cell_type": "code",
   "execution_count": null,
   "metadata": {},
   "outputs": [
    {
     "data": {
      "text/plain": [
       "\"This is an adorable photograph of a young puppy, likely a Cavalier King Charles Spaniel or similar breed. The puppy has beautiful reddish-brown and white fur with distinctive markings - a white blaze down the center of its face and white chest, contrasting with the rich brown coloring around its ears and eyes. The puppy appears to be resting on grass and is positioned near some lovely purple flowers, possibly asters or similar small blooms. The setting looks like a garden or outdoor area with natural lighting that highlights the puppy's soft, fluffy coat and sweet expression. The puppy's dark eyes and gentle demeanor give it an incredibly endearing appearance.\""
      ]
     },
     "execution_count": null,
     "metadata": {},
     "output_type": "execute_result"
    }
   ],
   "source": [
    "msg = mk_msg([img_content, \"describe this picture\"], api=\"anthropic\")\n",
    "_, text = anthropic_chat([msg])\n",
    "text"
   ]
  },
  {
   "cell_type": "markdown",
   "metadata": {},
   "source": [
    "### PDFs"
   ]
  },
  {
   "cell_type": "markdown",
   "metadata": {},
   "source": [
    "What about chatting with PDFs? Unfortunately, OpenAI's message completions API doesn't offer PDF support at the moment, but Claude [does](https://docs.anthropic.com/en/docs/build-with-claude/pdf-support). \n",
    "\n",
    "Under the hood, Claude extracts the text from the PDF and converts each page to an image. This means you can ask Claude about any text, pictures, charts, and tables in the PDF. Here's an example from the Claude [docs](https://docs.anthropic.com/en/docs/build-with-claude/pdf-support#how-to-use-pdfs-in-the-messages-api). Overall the message structure is pretty similar to an image message.\n",
    "\n",
    "```python\n",
    "pdf_url = \"https://assets.anthropic.com/m/1cd9d098ac3e6467/original/Claude-3-Model-Card-October-Addendum.pdf\"\n",
    "pdf_data = base64.standard_b64encode(httpx.get(pdf_url).content).decode(\"utf-8\")\n",
    "client = anthropic.Anthropic()\n",
    "message = client.messages.create(\n",
    "    model=\"claude-3-5-sonnet-20241022\", max_tokens=1024,\n",
    "    messages=[{\n",
    "        \"role\": \"user\",\n",
    "        \"content\": [\n",
    "            {\n",
    "                \"type\": \"document\",\n",
    "                \"source\": { \"type\": \"base64\", \"media_type\": \"application/pdf\", \"data\": pdf_data }\n",
    "            },\n",
    "            {\n",
    "                \"type\": \"text\",\n",
    "                \"text\": \"Which model has the highest human preference win rates across each use-case?\"\n",
    "            }\n",
    "        ]\n",
    "    }]\n",
    ")\n",
    "```"
   ]
  },
  {
   "cell_type": "markdown",
   "metadata": {},
   "source": [
    "Let's create a method that converts a byte string to the base64 encoded string that Anthropic expects."
   ]
  },
  {
   "cell_type": "code",
   "execution_count": null,
   "metadata": {},
   "outputs": [],
   "source": [
    "#|exports\n",
    "def _mk_pdf(data:bytes)->str:\n",
    "    \"Convert pdf bytes to a base64 encoded pdf\"\n",
    "    return base64.standard_b64encode(data).decode(\"utf-8\")"
   ]
  },
  {
   "cell_type": "markdown",
   "metadata": {},
   "source": [
    "We add a `pdf_msg` method to `AnthropicMsg` that uses `_mk_pdf`."
   ]
  },
  {
   "cell_type": "code",
   "execution_count": null,
   "metadata": {},
   "outputs": [],
   "source": [
    "#|exports\n",
    "@patch\n",
    "def pdf_msg(self:AnthropicMsg, data: bytes) -> dict:\n",
    "    \"Convert `data` to a pdf message\"\n",
    "    r = {\"type\": \"base64\", \"media_type\": \"application/pdf\", \"data\":_mk_pdf(data)}\n",
    "    return {\"type\": \"document\", \"source\": r}"
   ]
  },
  {
   "cell_type": "markdown",
   "metadata": {},
   "source": [
    "Let's test our changes on a financial report."
   ]
  },
  {
   "cell_type": "code",
   "execution_count": null,
   "metadata": {},
   "outputs": [
    {
     "data": {
      "text/plain": [
       "'Looking at the Product D chart on page 5, I can read the approximate monthly revenue values:\\n\\n- Jan: ~900\\n- Feb: ~500\\n- Mar: ~400\\n- Apr: ~700\\n- May: ~800\\n- Jun: ~900\\n- Jul: ~1000\\n- Aug: ~1050\\n- Sep: ~1200\\n- Oct: ~1300\\n- Nov: ~1300\\n- Dec: ~1300\\n\\nTotal: approximately 11,350\\nAverage monthly revenue: 11,350 ÷ 12 = approximately **$946**\\n\\nThe average monthly revenue for Product D was approximately $946.'"
      ]
     },
     "execution_count": null,
     "metadata": {},
     "output_type": "execute_result"
    }
   ],
   "source": [
    "pdf = Path('financial_report.pdf').read_bytes()\n",
    "msg = mk_msg([pdf, \"what was the average monthly revenue for product D?\"], api=\"anthropic\")\n",
    "_, text = anthropic_chat([msg])\n",
    "text"
   ]
  },
  {
   "cell_type": "markdown",
   "metadata": {},
   "source": [
    "### Conversation"
   ]
  },
  {
   "cell_type": "markdown",
   "metadata": {},
   "source": [
    "LLMs are stateless. To continue a conversation we need to include the entire message history in every API call.\n",
    "By default the role in each message alternates between `user` and `assistant`.\n",
    "\n",
    "Let's add a method that alternates the roles for us and then calls `mk_msgs`."
   ]
  },
  {
   "cell_type": "code",
   "execution_count": null,
   "metadata": {},
   "outputs": [],
   "source": [
    "#| export\n",
    "def mk_msgs(msgs: list, *args, api:str=\"openai\", **kw) -> list:\n",
    "    \"Create a list of messages compatible with OpenAI/Anthropic.\"\n",
    "    if isinstance(msgs, str): msgs = [msgs]\n",
    "    return [mk_msg(o, ('user', 'assistant')[i % 2], *args, api=api, **kw) for i, o in enumerate(msgs)]"
   ]
  },
  {
   "cell_type": "code",
   "execution_count": null,
   "metadata": {},
   "outputs": [
    {
     "data": {
      "text/plain": [
       "[{'role': 'user', 'content': 'Hello'},\n",
       " {'role': 'assistant', 'content': 'Some assistant response'},\n",
       " {'role': 'user', 'content': 'tell me a joke'}]"
      ]
     },
     "execution_count": null,
     "metadata": {},
     "output_type": "execute_result"
    }
   ],
   "source": [
    "mk_msgs([\"Hello\", \"Some assistant response\", \"tell me a joke\"])"
   ]
  },
  {
   "cell_type": "markdown",
   "metadata": {},
   "source": [
    "### SDK Objects"
   ]
  },
  {
   "cell_type": "markdown",
   "metadata": {},
   "source": [
    "To make our lives even easier, it would be nice if `mk_msg` could format the SDK objects returned from a previous chat so that we can pass them straight to `mk_msgs`.\n",
    "\n",
    "The OpenAI SDK accepts objects like `ChatCompletion` as messages. Anthropic is different and expects every message to have the `role`, `content` format that we've seen so far."
   ]
  },
  {
   "cell_type": "code",
   "execution_count": null,
   "metadata": {},
   "outputs": [],
   "source": [
    "#| export\n",
    "@patch\n",
    "def __call__(self:Msg, role:str, content:[list,str], text_only:bool=False, **kw)->dict:\n",
    "    \"Create an OpenAI/Anthropic compatible message with `role` and `content`.\"\n",
    "    if self.sdk_obj_support and self.is_sdk_obj(content): return self.find_block(content)\n",
    "    if hasattr(content, \"content\"): content, role = content.content, content.role\n",
    "    content = self.find_block(content)\n",
    "    if content is not None and not isinstance(content, list): content = [content]\n",
    "    content = [self.mk_content(o, text_only=text_only) for o in content] if content else ''\n",
    "    return dict(role=role, content=content[0] if text_only else content, **kw)"
   ]
  },
  {
   "cell_type": "code",
   "execution_count": null,
   "metadata": {},
   "outputs": [],
   "source": [
    "#| export\n",
    "AnthropicMsg.sdk_obj_support=False\n",
    "OpenAiMsg.sdk_obj_support=True"
   ]
  },
  {
   "cell_type": "code",
   "execution_count": null,
   "metadata": {},
   "outputs": [],
   "source": [
    "#| export\n",
    "@patch\n",
    "def is_sdk_obj(self:AnthropicMsg, r)-> bool:\n",
    "    \"Check if `r` is an SDK object.\"\n",
    "    return isinstance(r, abc.Mapping)\n",
    "\n",
    "@patch\n",
    "def find_block(self:AnthropicMsg, r):\n",
    "    \"Find the message in `r`.\"\n",
    "    return r.get('content', r) if self.is_sdk_obj(r) else r"
   ]
  },
  {
   "cell_type": "code",
   "execution_count": null,
   "metadata": {},
   "outputs": [],
   "source": [
    "#| export\n",
    "@patch\n",
    "def is_sdk_obj(self:OpenAiMsg, r)-> bool:\n",
    "    \"Check if `r` is an SDK object.\"\n",
    "    return type(r).__module__ != \"builtins\"\n",
    "\n",
    "@patch\n",
    "def find_block(self:OpenAiMsg, r):\n",
    "    \"Find the message in `r`.\"\n",
    "    if not self.is_sdk_obj(r): return r\n",
    "    if hasattr(r, \"output\"): return r.output[0]\n",
    "    return r.delta"
   ]
  },
  {
   "cell_type": "markdown",
   "metadata": {},
   "source": [
    "Let's test our changes."
   ]
  },
  {
   "cell_type": "code",
   "execution_count": null,
   "metadata": {},
   "outputs": [
    {
     "data": {
      "text/plain": [
       "\"Why don't skeletons fight each other?\\n\\nThey don't have the guts!\""
      ]
     },
     "execution_count": null,
     "metadata": {},
     "output_type": "execute_result"
    }
   ],
   "source": [
    "msgs = [\"tell me a joke\"]\n",
    "r, text = openai_chat(mk_msgs(msgs))\n",
    "text"
   ]
  },
  {
   "cell_type": "code",
   "execution_count": null,
   "metadata": {},
   "outputs": [
    {
     "data": {
      "text/plain": [
       "[{'role': 'user', 'content': 'tell me a joke'},\n",
       " ResponseOutputMessage(id='msg_6857a2df2fa4819d91e461fccd7b02cb0be98a10575737c7', content=[ResponseOutputText(annotations=[], text=\"Why don't skeletons fight each other?\\n\\nThey don't have the guts!\", type='output_text', logprobs=None)], role='assistant', status='completed', type='message'),\n",
       " {'role': 'user',\n",
       "  'content': \"tell me another joke that's similar to your first joke\"}]"
      ]
     },
     "execution_count": null,
     "metadata": {},
     "output_type": "execute_result"
    }
   ],
   "source": [
    "msgs += [r, \"tell me another joke that's similar to your first joke\"]\n",
    "mm = mk_msgs(msgs)\n",
    "mm"
   ]
  },
  {
   "cell_type": "code",
   "execution_count": null,
   "metadata": {},
   "outputs": [
    {
     "data": {
      "text/plain": [
       "'Why didn’t the mummy go to the party?\\n\\nBecause he was all wrapped up!'"
      ]
     },
     "execution_count": null,
     "metadata": {},
     "output_type": "execute_result"
    }
   ],
   "source": [
    "r, text = openai_chat(mm)\n",
    "text"
   ]
  },
  {
   "cell_type": "markdown",
   "metadata": {},
   "source": [
    "### Usage"
   ]
  },
  {
   "cell_type": "markdown",
   "metadata": {},
   "source": [
    "To make `msglm` a little easier to use let's create OpenAI and Anthropic wrappers for `mk_msg` and `mk_msgs`."
   ]
  },
  {
   "cell_type": "code",
   "execution_count": null,
   "metadata": {},
   "outputs": [],
   "source": [
    "#| export\n",
    "mk_msg_openai = partial(mk_msg, api=\"openai\")\n",
    "mk_msgs_openai = partial(mk_msgs, api=\"openai\")"
   ]
  },
  {
   "cell_type": "code",
   "execution_count": null,
   "metadata": {},
   "outputs": [],
   "source": [
    "mk_msg_anthropic = partial(mk_msg, api=\"anthropic\")\n",
    "mk_msgs_anthropic = partial(mk_msgs, api=\"anthropic\")"
   ]
  },
  {
   "cell_type": "markdown",
   "metadata": {},
   "source": [
    "If you're using OpenAI you should be able to use the import below\n",
    "\n",
    "```python\n",
    "from msglm import mk_msg_openai as mk_msg, mk_msgs_openai as mk_msgs\n",
    "```\n",
    "\n",
    "Similarily for Anthropic\n",
    "\n",
    "```python\n",
    "from msglm import mk_msg_anthropic as mk_msg, mk_msgs_anthropic as mk_msgs\n",
    "```"
   ]
  },
  {
   "cell_type": "markdown",
   "metadata": {},
   "source": [
    "## Extra features"
   ]
  },
  {
   "cell_type": "markdown",
   "metadata": {},
   "source": [
    "### Caching"
   ]
  },
  {
   "cell_type": "markdown",
   "metadata": {},
   "source": [
    "Anthropic currently offers [prompt caching](https://docs.anthropic.com/en/docs/build-with-claude/prompt-caching), which can reduce cost and latency.\n",
    "\n",
    "To cache a message, we simply add a `cache_control` field to our content as shown below.\n",
    "\n",
    "```js\n",
    "{\n",
    "    \"role\": \"user\",\n",
    "    \"content\": [\n",
    "        {\n",
    "            \"type\": \"text\",\n",
    "            \"text\": \"Hello, can you tell me more about the solar system?\",\n",
    "            \"cache_control\": {\"type\": \"ephemeral\"}\n",
    "        }\n",
    "    ]\n",
    "}\n",
    "```"
   ]
  },
  {
   "cell_type": "markdown",
   "metadata": {},
   "source": [
    "Let's update our `mk_msg` and `mk_msgs` Anthropic wrappers to support caching."
   ]
  },
  {
   "cell_type": "code",
   "execution_count": null,
   "metadata": {},
   "outputs": [],
   "source": [
    "#| export\n",
    "def _add_cache_control(msg, cache=False):\n",
    "    \"cache `msg`.\"\n",
    "    if not cache: return msg\n",
    "    if isinstance(msg[\"content\"], str): msg[\"content\"] = [{\"type\": \"text\", \"text\": msg[\"content\"]}]\n",
    "    if isinstance(msg[\"content\"][-1], dict): msg[\"content\"][-1][\"cache_control\"] = {\"type\": \"ephemeral\"}\n",
    "    elif isinstance(msg[\"content\"][-1], abc.Mapping): msg[\"content\"][-1].cache_control = {\"type\": \"ephemeral\"}\n",
    "    return msg\n",
    "\n",
    "def _remove_cache_ckpts(msg):\n",
    "    \"remove unecessary cache checkpoints.\"\n",
    "    if isinstance(msg[\"content\"], str): msg[\"content\"] = [{\"type\": \"text\", \"text\": msg[\"content\"]}]\n",
    "    elif isinstance(msg[\"content\"][-1], dict): msg[\"content\"][-1].pop('cache_control', None)\n",
    "    else: delattr(msg[\"content\"][-1], 'cache_control') if hasattr(msg[\"content\"][-1], 'cache_control') else None\n",
    "    return msg\n",
    "\n",
    "@delegates(mk_msg)\n",
    "def mk_msg_anthropic(*args, cache=False, **kwargs):\n",
    "    \"Create an Anthropic compatible message.\"\n",
    "    msg = partial(mk_msg, api=\"anthropic\")(*args, **kwargs)\n",
    "    return _add_cache_control(msg, cache=cache)\n",
    "\n",
    "@delegates(mk_msgs)\n",
    "def mk_msgs_anthropic(*args, cache=False, cache_last_ckpt_only=False, **kwargs):\n",
    "    \"Create a list of Anthropic compatible messages.\"\n",
    "    msgs = partial(mk_msgs, api=\"anthropic\")(*args, **kwargs)\n",
    "    if cache_last_ckpt_only: msgs = [_remove_cache_ckpts(m) for m in msgs]\n",
    "    if not msgs: return msgs\n",
    "    msgs[-1] = _add_cache_control(msgs[-1], cache=cache)\n",
    "    return msgs"
   ]
  },
  {
   "cell_type": "markdown",
   "metadata": {},
   "source": [
    "Let's see caching in action"
   ]
  },
  {
   "cell_type": "code",
   "execution_count": null,
   "metadata": {},
   "outputs": [
    {
     "data": {
      "text/markdown": [
       "```json\n",
       "{'content': \"Don't cache my message\", 'role': 'user'}\n",
       "```"
      ],
      "text/plain": [
       "{'role': 'user', 'content': \"Don't cache my message\"}"
      ]
     },
     "execution_count": null,
     "metadata": {},
     "output_type": "execute_result"
    }
   ],
   "source": [
    "mk_msg_anthropic(\"Don't cache my message\")"
   ]
  },
  {
   "cell_type": "code",
   "execution_count": null,
   "metadata": {},
   "outputs": [
    {
     "data": {
      "text/markdown": [
       "```json\n",
       "{ 'content': [ { 'cache_control': {'type': 'ephemeral'},\n",
       "                 'text': 'Please cache my message',\n",
       "                 'type': 'text'}],\n",
       "  'role': 'user'}\n",
       "```"
      ],
      "text/plain": [
       "{'role': 'user',\n",
       " 'content': [{'type': 'text',\n",
       "   'text': 'Please cache my message',\n",
       "   'cache_control': {'type': 'ephemeral'}}]}"
      ]
     },
     "execution_count": null,
     "metadata": {},
     "output_type": "execute_result"
    }
   ],
   "source": [
    "mk_msg_anthropic(\"Please cache my message\", cache=True)"
   ]
  },
  {
   "cell_type": "markdown",
   "metadata": {},
   "source": [
    "### Citations"
   ]
  },
  {
   "cell_type": "markdown",
   "metadata": {},
   "source": [
    "The Anthropic API provides detailed [citations](https://docs.anthropic.com/en/docs/build-with-claude/citations) when answering questions about documents.\n",
    "\n",
    "When citations are enabled a citations block like the one below will be included in the response.\n",
    "\n",
    "```js\n",
    "{\n",
    "  \"content\": [\n",
    "    { \"type\": \"text\", \"text\": \"According to the document, \" },\n",
    "    {\n",
    "      \"type\": \"text\", \"text\": \"the grass is green\",\n",
    "      \"citations\": [{\n",
    "        \"type\": \"char_location\",\n",
    "        \"cited_text\": \"The grass is green.\",\n",
    "        \"document_index\": 0, \"document_title\": \"Example Document\",\n",
    "        \"start_char_index\": 0, \"end_char_index\": 20\n",
    "      }]\n",
    "    }\n",
    "  ]\n",
    "}\n",
    "```"
   ]
  },
  {
   "cell_type": "markdown",
   "metadata": {},
   "source": [
    "To enable citations you need to create an Anthropic document with the following structure.\n",
    "\n",
    "```js\n",
    "{\n",
    "    \"type\": \"document\",\n",
    "    \"source\": {...},\n",
    "    \"title\": \"Document Title\", # optional\n",
    "    \"context\": \"Context about the document that will not be cited from\", # optional\n",
    "    \"citations\": {\"enabled\": True}\n",
    "}\n",
    "```"
   ]
  },
  {
   "cell_type": "markdown",
   "metadata": {},
   "source": [
    "Currently Anthropic supports citations on 3 document types:\n",
    "- text\n",
    "- pdfs\n",
    "- custom\n",
    "\n",
    "A **text** document has the following source structure.\n",
    "\n",
    "```js\n",
    "{\"type\": \"text\", \"media_type\": \"text/plain\", \"data\": \"Plain text content...\"}\n",
    "```\n",
    "\n",
    "Here's the source structure for a **pdf**.\n",
    "\n",
    "```js\n",
    "{\"type\": \"base64\", \"media_type\": \"application/pdf\", \"data\": b64_enc_data}\n",
    "```\n",
    "\n",
    "Finally, here's the source structure for a **custom** document.\n",
    "\n",
    "```js\n",
    "{\n",
    "  \"type\": \"content\",\n",
    "  \"content\": [\n",
    "    {\"type\": \"text\", \"text\": \"First chunk\"},\n",
    "    {\"type\": \"text\", \"text\": \"Second chunk\"}\n",
    "  ]\n",
    "}\n",
    "```"
   ]
  },
  {
   "cell_type": "code",
   "execution_count": null,
   "metadata": {},
   "outputs": [],
   "source": [
    "#| export\n",
    "def mk_ant_doc(content, title=None, context=None, citation=True, **kws):\n",
    "    \"Create an Anthropic document.\"\n",
    "    if _is_pdf(content): src = {\"type\":\"base64\", \"media_type\":\"application/pdf\", \"data\":_mk_pdf(content)}\n",
    "    elif isinstance(content,list): src = {\"type\":\"content\", \"content\":content}\n",
    "    else: src = {\"type\":\"text\", \"media_type\":\"text/plain\", \"data\":content}\n",
    "    return {\"type\":\"document\", \"source\":src, \"citations\":{\"enabled\":citation}, \"title\":title, \"context\":context, **kws}"
   ]
  },
  {
   "cell_type": "markdown",
   "metadata": {},
   "source": [
    "Here's how you would implement the example from the citation's [docs](https://docs.anthropic.com/en/docs/build-with-claude/citations)."
   ]
  },
  {
   "cell_type": "code",
   "execution_count": null,
   "metadata": {},
   "outputs": [
    {
     "data": {
      "text/markdown": [
       "```json\n",
       "{ 'content': [ { 'citations': {'enabled': True},\n",
       "                 'context': 'This is a trustworthy document.',\n",
       "                 'source': { 'data': 'The grass is green. The sky is blue.',\n",
       "                             'media_type': 'text/plain',\n",
       "                             'type': 'text'},\n",
       "                 'title': 'My Document',\n",
       "                 'type': 'document'},\n",
       "               { 'text': 'What color is the grass and sky?',\n",
       "                 'type': 'input_text'}],\n",
       "  'role': 'user'}\n",
       "```"
      ],
      "text/plain": [
       "{'role': 'user',\n",
       " 'content': [{'type': 'document',\n",
       "   'source': {'type': 'text',\n",
       "    'media_type': 'text/plain',\n",
       "    'data': 'The grass is green. The sky is blue.'},\n",
       "   'citations': {'enabled': True},\n",
       "   'title': 'My Document',\n",
       "   'context': 'This is a trustworthy document.'},\n",
       "  {'type': 'input_text', 'text': 'What color is the grass and sky?'}]}"
      ]
     },
     "execution_count": null,
     "metadata": {},
     "output_type": "execute_result"
    }
   ],
   "source": [
    "doc = mk_ant_doc(\"The grass is green. The sky is blue.\", title=\"My Document\", context=\"This is a trustworthy document.\")\n",
    "mk_msg([doc, \"What color is the grass and sky?\"])"
   ]
  },
  {
   "cell_type": "markdown",
   "metadata": {},
   "source": [
    "## Export -"
   ]
  },
  {
   "cell_type": "code",
   "execution_count": null,
   "metadata": {},
   "outputs": [],
   "source": [
    "#| hide\n",
    "import nbdev; nbdev.nbdev_export()"
   ]
  },
  {
   "cell_type": "code",
   "execution_count": null,
   "metadata": {},
   "outputs": [],
   "source": []
  }
 ],
 "metadata": {
  "kernelspec": {
   "display_name": "python3",
   "language": "python",
   "name": "python3"
  }
 },
 "nbformat": 4,
 "nbformat_minor": 4
}
