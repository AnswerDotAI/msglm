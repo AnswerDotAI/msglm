{
 "cells": [
  {
   "cell_type": "markdown",
   "metadata": {},
   "source": [
    "# core\n",
    "\n",
    "> Create messages for language models like Claude and OpenAI GPTs."
   ]
  },
  {
   "cell_type": "code",
   "execution_count": 2,
   "metadata": {},
   "outputs": [],
   "source": [
    "#| default_exp core"
   ]
  },
  {
   "cell_type": "code",
   "execution_count": 1,
   "metadata": {},
   "outputs": [
    {
     "name": "stderr",
     "output_type": "stream",
     "text": [
      "/Users/sarahpan/Desktop/answer/aai-ws/nbdev/nbdev/doclinks.py:20: UserWarning: pkg_resources is deprecated as an API. See https://setuptools.pypa.io/en/latest/pkg_resources.html. The pkg_resources package is slated for removal as early as 2025-11-30. Refrain from using this package or pin to Setuptools<81.\n",
      "  import pkg_resources,importlib\n"
     ]
    }
   ],
   "source": [
    "#| hide\n",
    "from nbdev.showdoc import *"
   ]
  },
  {
   "cell_type": "code",
   "execution_count": 2,
   "metadata": {},
   "outputs": [],
   "source": [
    "#| export\n",
    "import base64\n",
    "import mimetypes\n",
    "from collections.abc import Mapping\n",
    "\n",
    "from fastcore import imghdr\n",
    "from fastcore.meta import delegates\n",
    "from fastcore.utils import *"
   ]
  },
  {
   "cell_type": "code",
   "execution_count": 3,
   "metadata": {},
   "outputs": [],
   "source": [
    "from IPython.display import Image, display\n",
    "from pathlib import Path"
   ]
  },
  {
   "cell_type": "code",
   "execution_count": 4,
   "metadata": {},
   "outputs": [],
   "source": [
    "from pathlib import Path"
   ]
  },
  {
   "cell_type": "markdown",
   "metadata": {},
   "source": [
    "## API Exploration"
   ]
  },
  {
   "cell_type": "markdown",
   "metadata": {},
   "source": [
    "Anthropic's Claude and OpenAI's GPT models are some of the most popular LLMs. \n",
    "\n",
    "Let's take a look at their APIs and to learn how we should structure our messages for a simple text chat."
   ]
  },
  {
   "cell_type": "markdown",
   "metadata": {},
   "source": [
    "#### openai"
   ]
  },
  {
   "cell_type": "code",
   "execution_count": 5,
   "metadata": {},
   "outputs": [],
   "source": [
    "from openai import OpenAI"
   ]
  },
  {
   "cell_type": "code",
   "execution_count": 9,
   "metadata": {},
   "outputs": [
    {
     "data": {
      "text/markdown": [
       "Hello, world! 👋 How can I assist you today?\n",
       "\n",
       "<details>\n",
       "\n",
       "- id: resp_6861e1ad4b7c81a1b4d6c1cc66589bbe0972cbf25d9578d3\n",
       "- created_at: 1751245229.0\n",
       "- error: None\n",
       "- incomplete_details: None\n",
       "- instructions: None\n",
       "- metadata: {}\n",
       "- model: gpt-4.1-2025-04-14\n",
       "- object: response\n",
       "- output: [ResponseOutputMessage(id='msg_6861e1ad9a1081a1a83cbc85bdf794ac0972cbf25d9578d3', content=[ResponseOutputText(annotations=[], text='Hello, world! 👋 How can I assist you today?', type='output_text', logprobs=[])], role='assistant', status='completed', type='message')]\n",
       "- parallel_tool_calls: True\n",
       "- temperature: 1.0\n",
       "- tool_choice: auto\n",
       "- tools: []\n",
       "- top_p: 1.0\n",
       "- background: False\n",
       "- max_output_tokens: None\n",
       "- max_tool_calls: None\n",
       "- previous_response_id: None\n",
       "- prompt: None\n",
       "- reasoning: Reasoning(effort=None, generate_summary=None, summary=None)\n",
       "- service_tier: default\n",
       "- status: completed\n",
       "- text: ResponseTextConfig(format=ResponseFormatText(type='text'))\n",
       "- top_logprobs: 0\n",
       "- truncation: disabled\n",
       "- usage: ResponseUsage(input_tokens=11, input_tokens_details=InputTokensDetails(cached_tokens=0), output_tokens=14, output_tokens_details=OutputTokensDetails(reasoning_tokens=0), total_tokens=25)\n",
       "- user: None\n",
       "- store: True\n",
       "\n",
       "</details>"
      ],
      "text/plain": [
       "Response(id='resp_6861e1ad4b7c81a1b4d6c1cc66589bbe0972cbf25d9578d3', created_at=1751245229.0, error=None, incomplete_details=None, instructions=None, metadata={}, model='gpt-4.1-2025-04-14', object='response', output=[ResponseOutputMessage(id='msg_6861e1ad9a1081a1a83cbc85bdf794ac0972cbf25d9578d3', content=[ResponseOutputText(annotations=[], text='Hello, world! 👋 How can I assist you today?', type='output_text', logprobs=[])], role='assistant', status='completed', type='message')], parallel_tool_calls=True, temperature=1.0, tool_choice='auto', tools=[], top_p=1.0, background=False, max_output_tokens=None, max_tool_calls=None, previous_response_id=None, prompt=None, reasoning=Reasoning(effort=None, generate_summary=None, summary=None), service_tier='default', status='completed', text=ResponseTextConfig(format=ResponseFormatText(type='text')), top_logprobs=0, truncation='disabled', usage=In: 11; Out: 14; Total: 25, user=None, store=True)"
      ]
     },
     "execution_count": 9,
     "metadata": {},
     "output_type": "execute_result"
    }
   ],
   "source": [
    "client = OpenAI()\n",
    "\n",
    "client.responses.create(\n",
    "  model=\"gpt-4.1\",\n",
    "  input=[ {\"role\": \"user\", \"content\": \"Hello, world!\"} ]\n",
    ")"
   ]
  },
  {
   "cell_type": "markdown",
   "metadata": {},
   "source": [
    "#### anthropic"
   ]
  },
  {
   "cell_type": "code",
   "execution_count": 10,
   "metadata": {},
   "outputs": [],
   "source": [
    "from anthropic import Anthropic"
   ]
  },
  {
   "cell_type": "code",
   "execution_count": 17,
   "metadata": {},
   "outputs": [
    {
     "data": {
      "text/markdown": [
       "Hello! It's nice to meet you. How can I assist you today?\n",
       "\n",
       "<details>\n",
       "\n",
       "- id: `msg_01SB8Rrc2eJ3okM8A5zwpHTf`\n",
       "- content: `[{'citations': None, 'text': \"Hello! It's nice to meet you. How can I assist you today?\", 'type': 'text'}]`\n",
       "- model: `claude-3-haiku-20240307`\n",
       "- role: `assistant`\n",
       "- stop_reason: `end_turn`\n",
       "- stop_sequence: `None`\n",
       "- type: `message`\n",
       "- usage: `{'cache_creation_input_tokens': 0, 'cache_read_input_tokens': 0, 'input_tokens': 11, 'output_tokens': 19, 'server_tool_use': None, 'service_tier': 'standard'}`\n",
       "\n",
       "</details>"
      ],
      "text/plain": [
       "Message(id='msg_01SB8Rrc2eJ3okM8A5zwpHTf', content=[TextBlock(citations=None, text=\"Hello! It's nice to meet you. How can I assist you today?\", type='text')], model='claude-3-haiku-20240307', role='assistant', stop_reason='end_turn', stop_sequence=None, type='message', usage=In: 11; Out: 19; Cache create: 0; Cache read: 0; Total Tokens: 30; Search: 0)"
      ]
     },
     "execution_count": 17,
     "metadata": {},
     "output_type": "execute_result"
    }
   ],
   "source": [
    "client = Anthropic()\n",
    "\n",
    "client.messages.create(\n",
    "    model=\"claude-3-haiku-20240307\",\n",
    "    max_tokens=1024,\n",
    "    messages=[ {\"role\": \"user\", \"content\": \"Hello, world!\"} ]\n",
    ")"
   ]
  },
  {
   "cell_type": "markdown",
   "metadata": {},
   "source": [
    "As we can see both APIs use the exact same message structure."
   ]
  },
  {
   "cell_type": "markdown",
   "metadata": {},
   "source": [
    "### mk_msg"
   ]
  },
  {
   "cell_type": "markdown",
   "metadata": {},
   "source": [
    "Ok, let's build the first version of `mk_msg` to handle this case"
   ]
  },
  {
   "cell_type": "code",
   "execution_count": 18,
   "metadata": {},
   "outputs": [],
   "source": [
    "def mk_msg(content:str, role:str=\"user\")->dict:\n",
    "    \"Create an OpenAI/Anthropic compatible message.\"\n",
    "    return dict(role=role, content=content)"
   ]
  },
  {
   "cell_type": "markdown",
   "metadata": {},
   "source": [
    "Let's test it out with the OpenAI API. To do that we'll need to setup two things:\n",
    "\n",
    "- install the openai SDK by running `pip install openai`\n",
    "- add your openai api key to your env vars `export OPENAI_API_KEY=\"YOUR_OPEN_API_KEY\"`"
   ]
  },
  {
   "cell_type": "code",
   "execution_count": 19,
   "metadata": {},
   "outputs": [
    {
     "data": {
      "text/plain": [
       "'Hello! How can I assist you today?'"
      ]
     },
     "execution_count": 19,
     "metadata": {},
     "output_type": "execute_result"
    }
   ],
   "source": [
    "oa_cli = OpenAI()\n",
    "\n",
    "r = oa_cli.responses.create(\n",
    "  model=\"gpt-4o-mini\",\n",
    "  input=[mk_msg(\"Hello, world!\")]\n",
    ")\n",
    "r.output_text"
   ]
  },
  {
   "cell_type": "markdown",
   "metadata": {},
   "source": [
    "Now, let's test out `mk_msg` on the Anthropic API. To do that we'll need to setup two things:\n",
    "\n",
    "- install the openai SDK by running `pip install anthropic`\n",
    "- add your anthropic api key to your env vars `export ANTHROPIC_API_KEY=\"YOUR_ANTHROPIC_API_KEY\"`"
   ]
  },
  {
   "cell_type": "code",
   "execution_count": 20,
   "metadata": {},
   "outputs": [
    {
     "data": {
      "text/plain": [
       "\"Hello! It's great to meet you. How can I assist you today?\""
      ]
     },
     "execution_count": 20,
     "metadata": {},
     "output_type": "execute_result"
    }
   ],
   "source": [
    "a_cli = Anthropic()\n",
    "\n",
    "r = a_cli.messages.create(\n",
    "    model=\"claude-3-haiku-20240307\",\n",
    "    max_tokens=1024,\n",
    "    messages=[mk_msg(\"Hello, world!\")]\n",
    ")\n",
    "r.content[0].text"
   ]
  },
  {
   "cell_type": "markdown",
   "metadata": {},
   "source": [
    "So far so good!"
   ]
  },
  {
   "cell_type": "markdown",
   "metadata": {},
   "source": [
    "#### Helper Functions"
   ]
  },
  {
   "cell_type": "markdown",
   "metadata": {},
   "source": [
    "Before going any further, let's create some helper functions to make it a little easier to call the OpenAI and Anthropic APIs. We're going to be making a bunch of API calls to test our code and typing the full expressions out each time will become a little tedious. These functions won't be included in the final package."
   ]
  },
  {
   "cell_type": "code",
   "execution_count": 21,
   "metadata": {},
   "outputs": [],
   "source": [
    "def openai_chat(msgs: list)->tuple:\n",
    "    \"call the openai chat responses endpoint with `msgs`.\"\n",
    "    r = oa_cli.responses.create(model=\"o4-mini\", input=msgs)\n",
    "    return r, r.output_text"
   ]
  },
  {
   "cell_type": "markdown",
   "metadata": {},
   "source": [
    "Let's double check that `mk_msg` still works with our simple text example from before."
   ]
  },
  {
   "cell_type": "code",
   "execution_count": 22,
   "metadata": {},
   "outputs": [
    {
     "data": {
      "text/plain": [
       "'Hello there! How can I assist you today?'"
      ]
     },
     "execution_count": 22,
     "metadata": {},
     "output_type": "execute_result"
    }
   ],
   "source": [
    "_, text = openai_chat([mk_msg(\"Hello, world!\")])\n",
    "text"
   ]
  },
  {
   "cell_type": "code",
   "execution_count": 23,
   "metadata": {},
   "outputs": [],
   "source": [
    "def anthropic_chat(msgs: list)->tuple:\n",
    "    \"call the anthropic messages endpoint with `msgs`.\"\n",
    "    r = a_cli.messages.create(model=\"claude-sonnet-4-20250514\", max_tokens=1024, messages=msgs)\n",
    "    return r, r.content[0].text"
   ]
  },
  {
   "cell_type": "markdown",
   "metadata": {},
   "source": [
    "and Anthropic..."
   ]
  },
  {
   "cell_type": "code",
   "execution_count": 24,
   "metadata": {},
   "outputs": [
    {
     "data": {
      "text/plain": [
       "'Hello! Nice to meet you! How are you doing today? Is there anything I can help you with?'"
      ]
     },
     "execution_count": 24,
     "metadata": {},
     "output_type": "execute_result"
    }
   ],
   "source": [
    "_, text = anthropic_chat([mk_msg(\"Hello, world!\")])\n",
    "text"
   ]
  },
  {
   "cell_type": "markdown",
   "metadata": {},
   "source": [
    "### Images"
   ]
  },
  {
   "cell_type": "markdown",
   "metadata": {},
   "source": [
    "Ok, let's see how both APIs handle image messages.\n",
    "\n",
    "<img src=\"https://claudette.answer.ai/index_files/figure-html/cell-35-output-1.jpeg\" height=240 width=240></img>"
   ]
  },
  {
   "cell_type": "markdown",
   "metadata": {},
   "source": [
    "#### openai"
   ]
  },
  {
   "cell_type": "code",
   "execution_count": 25,
   "metadata": {},
   "outputs": [],
   "source": [
    "import base64, httpx"
   ]
  },
  {
   "cell_type": "code",
   "execution_count": null,
   "metadata": {},
   "outputs": [],
   "source": [
    "img_url = \"https://claudette.answer.ai/index_files/figure-html/cell-35-output-1.jpeg\""
   ]
  },
  {
   "cell_type": "code",
   "execution_count": null,
   "metadata": {},
   "outputs": [],
   "source": [
    "mtype = \"image/jpeg\"\n",
    "img_content = httpx.get(img_url).content"
   ]
  },
  {
   "cell_type": "code",
   "execution_count": null,
   "metadata": {},
   "outputs": [
    {
     "data": {
      "text/plain": [
       "'The image contains a puppy lying on the grass near some flowers. The puppy has a white coat with brown markings and appears to be playful and curious. The setting seems to be outdoors, with greenery and blooming flowers in the background.'"
      ]
     },
     "execution_count": null,
     "metadata": {},
     "output_type": "execute_result"
    }
   ],
   "source": [
    "img = base64.b64encode(img_content).decode(\"utf-8\")\n",
    "\n",
    "client = OpenAI()\n",
    "r = client.responses.create(\n",
    "    model=\"gpt-4o-mini\",\n",
    "    input=[\n",
    "        {\n",
    "            \"role\":\"user\",\n",
    "            \"content\": [\n",
    "                {\"type\":\"input_text\",\"text\":\"What's in this image?\"},\n",
    "                {\"type\":\"input_image\",\"image_url\":f\"data:image/jpeg;base64,{img}\"},\n",
    "            ],\n",
    "        }\n",
    "    ],\n",
    ")\n",
    "r.output_text"
   ]
  },
  {
   "cell_type": "markdown",
   "metadata": {},
   "source": [
    "#### anthropic"
   ]
  },
  {
   "cell_type": "code",
   "execution_count": null,
   "metadata": {},
   "outputs": [
    {
     "data": {
      "text/plain": [
       "\"This image shows a cute puppy lying in a grassy area with purple flowers in the background. The puppy appears to be a Cavalier King Charles Spaniel, with a long, silky coat in a reddish-brown color with white markings. The puppy has a friendly, inquisitive expression on its face as it gazes directly at the camera. The image conveys a sense of tranquility and natural beauty, with the vibrant purple flowers providing a lovely contrast to the puppy's warm coloring.\""
      ]
     },
     "execution_count": null,
     "metadata": {},
     "output_type": "execute_result"
    }
   ],
   "source": [
    "mtype = \"image/jpeg\"\n",
    "img = base64.b64encode(img_content).decode(\"utf-8\")\n",
    "\n",
    "client = Anthropic()\n",
    "r = client.messages.create(\n",
    "    model=\"claude-3-haiku-20240307\",\n",
    "    max_tokens=1024,\n",
    "    messages=[\n",
    "        {\n",
    "            \"role\":\"user\",\n",
    "            \"content\": [\n",
    "                {\"type\":\"text\",\"text\":\"What's in this image?\"},\n",
    "                {\"type\":\"image\",\"source\":{\"type\":\"base64\",\"media_type\":mtype,\"data\":img}}\n",
    "            ],\n",
    "        }\n",
    "    ],\n",
    ")\n",
    "r.content[0].text"
   ]
  },
  {
   "cell_type": "markdown",
   "metadata": {},
   "source": [
    "Both APIs format images slightly differently and the structure of the message `content` is a little more complex. \n",
    "\n",
    "In a text chat, `content` is a simple string but for a multimodal chat (text+images) we can see that `content` is a list of dictionaries."
   ]
  },
  {
   "cell_type": "markdown",
   "metadata": {},
   "source": [
    "## Msg Class"
   ]
  },
  {
   "cell_type": "markdown",
   "metadata": {},
   "source": [
    "### Basics"
   ]
  },
  {
   "cell_type": "markdown",
   "metadata": {},
   "source": [
    "Let's create `_mk_img` to make our code a little DRY'r. "
   ]
  },
  {
   "cell_type": "code",
   "execution_count": null,
   "metadata": {},
   "outputs": [],
   "source": [
    "#|exports\n",
    "def _mk_img(data:bytes)->tuple:\n",
    "    \"Convert image bytes to a base64 encoded image\"\n",
    "    img = base64.b64encode(data).decode(\"utf-8\")\n",
    "    mtype = mimetypes.types_map[\".\"+imghdr.what(None, h=data)]\n",
    "    return img, mtype"
   ]
  },
  {
   "cell_type": "markdown",
   "metadata": {},
   "source": [
    "To handle the additional complexity of multimodal messages let's build a `Msg` class for the `content` data structure:\n",
    "\n",
    "```json\n",
    "{\n",
    "    \"role\": \"user\",\n",
    "    \"content\": [{\"type\": \"text\", \"text\": \"What's in this image?\"}],\n",
    "}\n",
    "```"
   ]
  },
  {
   "cell_type": "code",
   "execution_count": 26,
   "metadata": {},
   "outputs": [],
   "source": [
    "#|exports\n",
    "class Msg:\n",
    "    \"Helper class to create a message for the OpenAI and Anthropic APIs.\"\n",
    "    pass"
   ]
  },
  {
   "cell_type": "markdown",
   "metadata": {},
   "source": [
    "As both APIs handle images differently let's subclass `Msg` for each API and handle the image formatting in a method called `img_msg`."
   ]
  },
  {
   "cell_type": "code",
   "execution_count": 27,
   "metadata": {},
   "outputs": [],
   "source": [
    "#|exports\n",
    "class OpenAiMsg(Msg):\n",
    "    \"Helper class to create a message for the OpenAI API.\"\n",
    "    pass"
   ]
  },
  {
   "cell_type": "code",
   "execution_count": 44,
   "metadata": {},
   "outputs": [],
   "source": [
    "#|exports\n",
    "class AnthropicMsg(Msg):\n",
    "    \"Helper class to create a message for the Anthropic API.\"\n",
    "    pass"
   ]
  },
  {
   "cell_type": "markdown",
   "metadata": {},
   "source": [
    "Let's write some helper functions for `mk_content` to use."
   ]
  },
  {
   "cell_type": "code",
   "execution_count": 29,
   "metadata": {},
   "outputs": [],
   "source": [
    "#|exports\n",
    "def _is_img(data): return isinstance(data, bytes) and bool(imghdr.what(None, data))"
   ]
  },
  {
   "cell_type": "markdown",
   "metadata": {},
   "source": [
    "A PDF [file](https://docs.fileformat.com/pdf/#pdf-file-header) should start with `%PDF` followed by the pdf version `%PDF-1.1`"
   ]
  },
  {
   "cell_type": "code",
   "execution_count": 83,
   "metadata": {},
   "outputs": [],
   "source": [
    "#|exports\n",
    "def _is_pdf(data): \n",
    "    is_byte_pdf = isinstance(data, bytes) and data.startswith(b'%PDF-')\n",
    "    is_pdf_url = isinstance(data, str) and (data.startswith(\"http\") and data.endswith(\".pdf\") or\n",
    "   'pdf' in data.split('/'))\n",
    "    return is_byte_pdf or is_pdf_url"
   ]
  },
  {
   "cell_type": "code",
   "execution_count": 37,
   "metadata": {},
   "outputs": [
    {
     "name": "stdout",
     "output_type": "stream",
     "text": [
      "True\n",
      "False\n",
      "True\n"
     ]
    }
   ],
   "source": [
    "print(_is_pdf(\"https://arxiv.org/pdf/2301.00001\"))\n",
    "print(_is_pdf(\"https://arxiv.org/abs/2301.00001\"))\n",
    "print(_is_pdf(\"https://assets.anthropic.com/m/1cd9d098ac3e6467/original/Claude-3-Model-Card-October-Addendum.pdf\"))"
   ]
  },
  {
   "cell_type": "markdown",
   "metadata": {},
   "source": [
    "We create an appropriate type based on content:"
   ]
  },
  {
   "cell_type": "code",
   "execution_count": 103,
   "metadata": {},
   "outputs": [],
   "source": [
    "#|exports\n",
    "@patch\n",
    "def mk_content(self:Msg, content, text_only=False)->dict:\n",
    "    if _is_img(content): return self.img_msg(content)\n",
    "    if _is_pdf(content): return self.pdf_msg(content)\n",
    "    if isinstance(content, str): return self.text_msg(content, text_only=text_only)\n",
    "    return content"
   ]
  },
  {
   "cell_type": "markdown",
   "metadata": {},
   "source": [
    "…then we call the model with this content:"
   ]
  },
  {
   "cell_type": "code",
   "execution_count": null,
   "metadata": {},
   "outputs": [],
   "source": [
    "@patch\n",
    "def __call__(self:Msg, role:str, content:[list, str], text_only:bool=False, **kw)->dict:\n",
    "    \"Create an OpenAI/Anthropic compatible message with `role` and `content`.\"\n",
    "    if content is not None and not isinstance(content, list): content = [content]\n",
    "    content = [self.mk_content(o, text_only=text_only) for o in content] if content else ''\n",
    "    return dict(role=role, content=content[0] if text_only else content, **kw)"
   ]
  },
  {
   "cell_type": "markdown",
   "metadata": {},
   "source": [
    "OpenAI implementations:"
   ]
  },
  {
   "cell_type": "code",
   "execution_count": 47,
   "metadata": {},
   "outputs": [],
   "source": [
    "#|exports\n",
    "@patch\n",
    "def img_msg(self:OpenAiMsg, data:bytes)->dict:\n",
    "    \"Convert `data` to an image message\"\n",
    "    img, mtype = _mk_img(data)\n",
    "    return {\"type\": \"input_image\", \"image_url\": f\"data:{mtype};base64,{img}\"}\n",
    "\n",
    "@patch\n",
    "def text_msg(self:OpenAiMsg, s:str, text_only=False)->dict: \n",
    "    \"Convert `s` to a text message\"\n",
    "    return s if text_only else {\"type\": \"input_text\", \"text\":s}"
   ]
  },
  {
   "cell_type": "markdown",
   "metadata": {},
   "source": [
    "Anthropic implementations:"
   ]
  },
  {
   "cell_type": "code",
   "execution_count": 48,
   "metadata": {},
   "outputs": [],
   "source": [
    "#|exports\n",
    "@patch\n",
    "def img_msg(self:AnthropicMsg, data:bytes)->dict:\n",
    "    \"Convert `data` to an image message\"\n",
    "    img, mtype = _mk_img(data)\n",
    "    r = {\"type\": \"base64\", \"media_type\": mtype, \"data\":img}\n",
    "    return {\"type\": \"image\", \"source\": r}\n",
    "\n",
    "@patch\n",
    "def text_msg(self:AnthropicMsg, s:str, text_only=False)->dict: \n",
    "    \"Convert `s` to a text message\"\n",
    "    return s if text_only else {\"type\": \"text\", \"text\":s}"
   ]
  },
  {
   "cell_type": "markdown",
   "metadata": {},
   "source": [
    "Update `mk_msg` to use `Msg`."
   ]
  },
  {
   "cell_type": "code",
   "execution_count": 75,
   "metadata": {},
   "outputs": [],
   "source": [
    "#| export\n",
    "def mk_msg(content:Union[list,str], role:str=\"user\", *args, api:str=\"openai\", **kw)->dict:\n",
    "    \"Create an OpenAI/Anthropic compatible message.\"\n",
    "    text_only = isinstance(content, str) or (isinstance(content, list) and len(content) == 1 and isinstance(content[0], str))\n",
    "    m = OpenAiMsg if api == \"openai\" else AnthropicMsg\n",
    "    msg = m()(role, content, text_only=text_only, **kw)\n",
    "    return dict2obj(msg, list_func=list)"
   ]
  },
  {
   "cell_type": "code",
   "execution_count": null,
   "metadata": {},
   "outputs": [
    {
     "data": {
      "text/markdown": [
       "```json\n",
       "{ 'content': [ {'text': 'Hello world', 'type': 'input_text'},\n",
       "               {'text': 'how are you?', 'type': 'input_text'}],\n",
       "  'role': 'user'}\n",
       "```"
      ],
      "text/plain": [
       "{'role': 'user',\n",
       " 'content': [{'type': 'input_text', 'text': 'Hello world'},\n",
       "  {'type': 'input_text', 'text': 'how are you?'}]}"
      ]
     },
     "execution_count": null,
     "metadata": {},
     "output_type": "execute_result"
    }
   ],
   "source": [
    "mk_msg([\"Hello world\", \"how are you?\"], api='openai')"
   ]
  },
  {
   "cell_type": "code",
   "execution_count": null,
   "metadata": {},
   "outputs": [
    {
     "data": {
      "text/markdown": [
       "```json\n",
       "{ 'content': [ {'text': 'Hello world', 'type': 'text'},\n",
       "               {'text': 'how are you?', 'type': 'text'}],\n",
       "  'role': 'user'}\n",
       "```"
      ],
      "text/plain": [
       "{'role': 'user',\n",
       " 'content': [{'type': 'text', 'text': 'Hello world'},\n",
       "  {'type': 'text', 'text': 'how are you?'}]}"
      ]
     },
     "execution_count": null,
     "metadata": {},
     "output_type": "execute_result"
    }
   ],
   "source": [
    "mk_msg([\"Hello world\", \"how are you?\"], api='anthropic')"
   ]
  },
  {
   "cell_type": "code",
   "execution_count": null,
   "metadata": {},
   "outputs": [
    {
     "data": {
      "text/plain": [
       "'A small puppy, likely a young spaniel, is lying in green grass beside a pot of purple daisy-like flowers. Key details:  \\n• Coat: Soft white fur with rich chestnut-brown patches, especially around its floppy ears and eyes.  \\n• Pose: Front paws stretched forward, body low to the ground, head slightly tilted, looking straight at the camera with a curious, gentle expression.  \\n• Setting: Bright daylight, fresh green lawn, and clusters of delicate purple blooms tucked into a terracotta or wooden planter just behind the puppy.  \\n• Mood: Calm and inquisitive—its wide eyes and relaxed posture give the impression it’s quietly exploring its surroundings.'"
      ]
     },
     "execution_count": null,
     "metadata": {},
     "output_type": "execute_result"
    }
   ],
   "source": [
    "msg = mk_msg([img_content, \"describe this picture\"], api=\"openai\")\n",
    "_, text = openai_chat([msg])\n",
    "text"
   ]
  },
  {
   "cell_type": "code",
   "execution_count": null,
   "metadata": {},
   "outputs": [
    {
     "data": {
      "text/plain": [
       "\"This is an adorable photograph of a young puppy, likely a Cavalier King Charles Spaniel or similar breed, with beautiful reddish-brown and white fur markings. The puppy has distinctive coloring with a white face featuring a brown patch around one eye, and longer, silky ears that are a rich auburn color. \\n\\nThe puppy is positioned on green grass and appears to be resting or lying down near some purple flowers, which look like small daisies or asters. The setting appears to be outdoors in a garden area, with what looks like a brick or stone structure in the background. The lighting gives the photo a warm, natural feel, and the puppy's expression is sweet and gentle, looking directly at the camera with dark, soulful eyes. The overall composition creates a charming, pastoral scene that highlights the puppy's natural beauty.\""
      ]
     },
     "execution_count": null,
     "metadata": {},
     "output_type": "execute_result"
    }
   ],
   "source": [
    "msg = mk_msg([img_content, \"describe this picture\"], api=\"anthropic\")\n",
    "_, text = anthropic_chat([msg])\n",
    "text"
   ]
  },
  {
   "cell_type": "markdown",
   "metadata": {},
   "source": [
    "### PDFs"
   ]
  },
  {
   "cell_type": "markdown",
   "metadata": {},
   "source": [
    "What about chatting with PDFs? Unfortunately, OpenAI's message completions API doesn't offer PDF support at the moment, but Claude [does](https://docs.anthropic.com/en/docs/build-with-claude/pdf-support). \n",
    "\n",
    "Under the hood, Claude extracts the text from the PDF and converts each page to an image. This means you can ask Claude about any text, pictures, charts, and tables in the PDF. Here's an example from the Claude [docs](https://docs.anthropic.com/en/docs/build-with-claude/pdf-support#how-to-use-pdfs-in-the-messages-api). Overall the message structure is pretty similar to an image message.\n",
    "\n",
    "```python\n",
    "pdf_url = \"https://assets.anthropic.com/m/1cd9d098ac3e6467/original/Claude-3-Model-Card-October-Addendum.pdf\"\n",
    "pdf_data = base64.standard_b64encode(httpx.get(pdf_url).content).decode(\"utf-8\")\n",
    "client = anthropic.Anthropic()\n",
    "message = client.messages.create(\n",
    "    model=\"claude-3-5-sonnet-20241022\", max_tokens=1024,\n",
    "    messages=[{\n",
    "        \"role\": \"user\",\n",
    "        \"content\": [\n",
    "            {\n",
    "                \"type\": \"document\",\n",
    "                \"source\": { \"type\": \"base64\", \"media_type\": \"application/pdf\", \"data\": pdf_data }\n",
    "            },\n",
    "            {\n",
    "                \"type\": \"text\",\n",
    "                \"text\": \"Which model has the highest human preference win rates across each use-case?\"\n",
    "            }\n",
    "        ]\n",
    "    }]\n",
    ")\n",
    "```"
   ]
  },
  {
   "cell_type": "markdown",
   "metadata": {},
   "source": [
    "The Anthropic API has since offered an option for PDFs that can be accessed online via url.\n",
    "\n",
    "```python\n",
    "client = anthropic.Anthropic()\n",
    "message = client.messages.create(\n",
    "    model=\"claude-opus-4-20250514\",\n",
    "    max_tokens=1024,\n",
    "    messages=[\n",
    "        {\n",
    "            \"role\": \"user\",\n",
    "            \"content\": [\n",
    "                {\n",
    "                    \"type\": \"document\",\n",
    "                    \"source\": {\n",
    "                        \"type\": \"url\",\n",
    "                        \"url\": \"https://assets.anthropic.com/m/1cd9d098ac3e6467/original/Claude-3-Model-Card-October-Addendum.pdf\"\n",
    "                    }\n",
    "                },\n",
    "                {\n",
    "                    \"type\": \"text\",\n",
    "                    \"text\": \"What are the key findings in this document?\"\n",
    "                }\n",
    "            ]\n",
    "        }\n",
    "    ],\n",
    ")\n",
    "```"
   ]
  },
  {
   "cell_type": "markdown",
   "metadata": {},
   "source": [
    "Let's create a method that converts a byte string to the base64 encoded string that Anthropic expects."
   ]
  },
  {
   "cell_type": "code",
   "execution_count": 38,
   "metadata": {},
   "outputs": [],
   "source": [
    "#|exports\n",
    "def _mk_pdf(data:bytes)->str:\n",
    "    \"Convert pdf bytes to a base64 encoded pdf\"\n",
    "    return base64.standard_b64encode(data).decode(\"utf-8\")"
   ]
  },
  {
   "cell_type": "markdown",
   "metadata": {},
   "source": [
    "We add a `pdf_msg` method to `AnthropicMsg` that uses `_mk_pdf`."
   ]
  },
  {
   "cell_type": "code",
   "execution_count": 70,
   "metadata": {},
   "outputs": [],
   "source": [
    "#|exports\n",
    "@patch\n",
    "def pdf_msg(self:AnthropicMsg, data: bytes | str) -> dict:\n",
    "    \"Convert `data` to a pdf message\"\n",
    "    if isinstance(data, bytes):\n",
    "        r = {\"type\": \"base64\", \"media_type\": \"application/pdf\", \"data\":_mk_pdf(data)}\n",
    "    elif isinstance(data, str):\n",
    "        r = {\"type\": \"url\", \"url\": data}\n",
    "    return {\"type\": \"document\", \"source\": r}\n"
   ]
  },
  {
   "cell_type": "markdown",
   "metadata": {},
   "source": [
    "Let's test our changes on a financial report."
   ]
  },
  {
   "cell_type": "code",
   "execution_count": 65,
   "metadata": {},
   "outputs": [
    {
     "data": {
      "text/plain": [
       "'Looking at the Product D chart on page 5, I can read the monthly revenue values from the bar chart:\\n\\n- January: ~900\\n- February: ~500\\n- March: ~400\\n- April: ~700\\n- May: ~800\\n- June: ~900\\n- July: ~1000\\n- August: ~1050\\n- September: ~1200\\n- October: ~1300\\n- November: ~1300\\n- December: ~1300\\n\\nAdding these values: 900 + 500 + 400 + 700 + 800 + 900 + 1000 + 1050 + 1200 + 1300 + 1300 + 1300 = 11,350\\n\\nThe average monthly revenue for Product D was 11,350 ÷ 12 = **$946** (rounded to the nearest dollar).'"
      ]
     },
     "execution_count": 65,
     "metadata": {},
     "output_type": "execute_result"
    }
   ],
   "source": [
    "pdf = Path('financial_report.pdf').read_bytes()\n",
    "msg = mk_msg([pdf, \"what was the average monthly revenue for product D?\"], api=\"anthropic\")\n",
    "_, text = anthropic_chat([msg])\n",
    "text"
   ]
  },
  {
   "cell_type": "code",
   "execution_count": 84,
   "metadata": {},
   "outputs": [
    {
     "data": {
      "text/plain": [
       "\"According to the paper, the three types of generalization the authors examined were:\\n\\n1. **Exploratory Generalization** - Applying known problem-solving skills to more complex instances within the same problem domain. For example, counting rectangles in an octagon (training) versus a dodecagon (test).\\n\\n2. **Compositional Generalization** - Combining distinct reasoning skills that were previously learned in isolation to solve novel problems that require integrating these skills in new and coherent ways. For example, combining GCD computation with polynomial root-finding.\\n\\n3. **Transformative Generalization** - Adopting novel, often unconventional strategies by moving beyond familiar approaches to solve problems more effectively. For example, replacing brute-force enumeration with a subtractive counting method that overcounts and then removes invalid cases.\\n\\nThese three axes of generalization were inspired by Margaret Boden's typology of creativity in cognitive science. The authors designed OMEGA to systematically evaluate large language models across these dimensions using controlled training-test pairs that isolate specific reasoning capabilities within mathematical problem-solving contexts.\""
      ]
     },
     "execution_count": 84,
     "metadata": {},
     "output_type": "execute_result"
    }
   ],
   "source": [
    "pdf_url = \"https://arxiv.org/pdf/2506.18880\"\n",
    "msg = mk_msg([pdf_url, \"What were the three types of generalization the authors of this paper looked at?\"], api=\"anthropic\")\n",
    "_, text = anthropic_chat([msg])\n",
    "text"
   ]
  },
  {
   "cell_type": "markdown",
   "metadata": {},
   "source": [
    "### Conversation"
   ]
  },
  {
   "cell_type": "markdown",
   "metadata": {},
   "source": [
    "LLMs are stateless. To continue a conversation we need to include the entire message history in every API call.\n",
    "By default the role in each message alternates between `user` and `assistant`.\n",
    "\n",
    "Let's add a method that alternates the roles for us and then calls `mk_msgs`."
   ]
  },
  {
   "cell_type": "code",
   "execution_count": 85,
   "metadata": {},
   "outputs": [],
   "source": [
    "def mk_msgs(msgs: list, *args, api:str=\"openai\", **kw) -> list:\n",
    "    \"Create a list of messages compatible with OpenAI/Anthropic.\"\n",
    "    if isinstance(msgs, str): msgs = [msgs]\n",
    "    return [mk_msg(o, ('user', 'assistant')[i % 2], *args, api=api, **kw) for i, o in enumerate(msgs)]"
   ]
  },
  {
   "cell_type": "code",
   "execution_count": 86,
   "metadata": {},
   "outputs": [
    {
     "data": {
      "text/plain": [
       "[{'role': 'user', 'content': 'Hello'},\n",
       " {'role': 'assistant', 'content': 'Some assistant response'},\n",
       " {'role': 'user', 'content': 'tell me a joke'}]"
      ]
     },
     "execution_count": 86,
     "metadata": {},
     "output_type": "execute_result"
    }
   ],
   "source": [
    "mk_msgs([\"Hello\", \"Some assistant response\", \"tell me a joke\"])"
   ]
  },
  {
   "cell_type": "markdown",
   "metadata": {},
   "source": [
    "### SDK Objects"
   ]
  },
  {
   "cell_type": "markdown",
   "metadata": {},
   "source": [
    "To make our lives even easier, it would be nice if `mk_msg` could format the SDK objects returned from a previous chat so that we can pass them straight to `mk_msgs`.\n",
    "\n",
    "The OpenAI SDK accepts objects like `ChatCompletion` as messages. Anthropic is different and expects every message to have the `role`, `content` format that we've seen so far."
   ]
  },
  {
   "cell_type": "code",
   "execution_count": 87,
   "metadata": {},
   "outputs": [],
   "source": [
    "#| export\n",
    "@patch\n",
    "def __call__(self:Msg, role:str, content:[list,str], text_only:bool=False, **kw)->dict:\n",
    "    \"Create an OpenAI/Anthropic compatible message with `role` and `content`.\"\n",
    "    if self.sdk_obj_support and self.is_sdk_obj(content): return self.find_block(content)\n",
    "    if hasattr(content, \"content\"): content, role = content.content, content.role\n",
    "    content = self.find_block(content)\n",
    "    if content is not None and not isinstance(content, list): content = [content]\n",
    "    content = [self.mk_content(o, text_only=text_only) for o in content] if content else ''\n",
    "    return dict(role=role, content=content[0] if text_only else content, **kw)"
   ]
  },
  {
   "cell_type": "code",
   "execution_count": 88,
   "metadata": {},
   "outputs": [],
   "source": [
    "#| export\n",
    "AnthropicMsg.sdk_obj_support=False\n",
    "OpenAiMsg.sdk_obj_support=True"
   ]
  },
  {
   "cell_type": "code",
   "execution_count": 89,
   "metadata": {},
   "outputs": [],
   "source": [
    "#| export\n",
    "@patch\n",
    "def is_sdk_obj(self:AnthropicMsg, r)-> bool:\n",
    "    \"Check if `r` is an SDK object.\"\n",
    "    return isinstance(r, Mapping)\n",
    "\n",
    "@patch\n",
    "def find_block(self:AnthropicMsg, r):\n",
    "    \"Find the message in `r`.\"\n",
    "    return r.get('content', r) if self.is_sdk_obj(r) else r"
   ]
  },
  {
   "cell_type": "code",
   "execution_count": 90,
   "metadata": {},
   "outputs": [],
   "source": [
    "#| export\n",
    "@patch\n",
    "def is_sdk_obj(self:OpenAiMsg, r)-> bool:\n",
    "    \"Check if `r` is an SDK object.\"\n",
    "    return not isinstance(r, (str,bytes,list))\n",
    "\n",
    "@patch\n",
    "@patch\n",
    "def find_block(self:OpenAiMsg, r):\n",
    "    \"Find the message in `r`.\"\n",
    "    if isinstance(r,Mapping): return r\n",
    "    if hasattr(r, \"output\"): return r.output\n",
    "    return r"
   ]
  },
  {
   "cell_type": "code",
   "execution_count": 91,
   "metadata": {},
   "outputs": [],
   "source": [
    "#| export\n",
    "def mk_msgs(msgs: list, *args, api:str=\"openai\", **kw) -> list:\n",
    "    \"Create a list of messages compatible with OpenAI/Anthropic.\"\n",
    "    if isinstance(msgs, str): msgs = [msgs]\n",
    "    mm = [mk_msg(o, ('user', 'assistant')[i % 2], *args, api=api, **kw) for i, o in enumerate(msgs)]\n",
    "    res = []\n",
    "    for o in mm:\n",
    "        if isinstance(o,list): res += o\n",
    "        else: res.append(o)\n",
    "    return res"
   ]
  },
  {
   "cell_type": "markdown",
   "metadata": {},
   "source": [
    "Let's test our changes."
   ]
  },
  {
   "cell_type": "code",
   "execution_count": 92,
   "metadata": {},
   "outputs": [
    {
     "data": {
      "text/plain": [
       "'Why don’t scientists trust atoms?  \\nBecause they make up everything!'"
      ]
     },
     "execution_count": 92,
     "metadata": {},
     "output_type": "execute_result"
    }
   ],
   "source": [
    "msgs = [\"tell me a joke\"]\n",
    "r, text = openai_chat(mk_msgs(msgs))\n",
    "text"
   ]
  },
  {
   "cell_type": "code",
   "execution_count": 93,
   "metadata": {},
   "outputs": [
    {
     "data": {
      "text/plain": [
       "[{'role': 'user', 'content': 'tell me a joke'},\n",
       " ResponseReasoningItem(id='rs_6861ee59eb80819d9b284f7e3592abd50325e602e0c97467', summary=[], type='reasoning', encrypted_content=None, status=None),\n",
       " ResponseOutputMessage(id='msg_6861ee5ad01c819d86aa11520c3c9e0b0325e602e0c97467', content=[ResponseOutputText(annotations=[], text='Why don’t scientists trust atoms?  \\nBecause they make up everything!', type='output_text', logprobs=[])], role='assistant', status='completed', type='message'),\n",
       " {'role': 'user',\n",
       "  'content': \"tell me another joke that's similar to your first joke\"}]"
      ]
     },
     "execution_count": 93,
     "metadata": {},
     "output_type": "execute_result"
    }
   ],
   "source": [
    "msgs += [r, \"tell me another joke that's similar to your first joke\"]\n",
    "mm = mk_msgs(msgs)\n",
    "mm"
   ]
  },
  {
   "cell_type": "code",
   "execution_count": 94,
   "metadata": {},
   "outputs": [
    {
     "data": {
      "text/plain": [
       "'Why don’t scientists trust electrons?  \\nBecause they’re always negative!'"
      ]
     },
     "execution_count": 94,
     "metadata": {},
     "output_type": "execute_result"
    }
   ],
   "source": [
    "r, text = openai_chat(mm)\n",
    "text"
   ]
  },
  {
   "cell_type": "markdown",
   "metadata": {},
   "source": [
    "### Usage"
   ]
  },
  {
   "cell_type": "markdown",
   "metadata": {},
   "source": [
    "To make `msglm` a little easier to use let's create OpenAI and Anthropic wrappers for `mk_msg` and `mk_msgs`."
   ]
  },
  {
   "cell_type": "code",
   "execution_count": 95,
   "metadata": {},
   "outputs": [],
   "source": [
    "#| export\n",
    "mk_msg_openai = partial(mk_msg, api=\"openai\")\n",
    "mk_msgs_openai = partial(mk_msgs, api=\"openai\")"
   ]
  },
  {
   "cell_type": "code",
   "execution_count": 96,
   "metadata": {},
   "outputs": [],
   "source": [
    "mk_msg_anthropic = partial(mk_msg, api=\"anthropic\")\n",
    "mk_msgs_anthropic = partial(mk_msgs, api=\"anthropic\")"
   ]
  },
  {
   "cell_type": "markdown",
   "metadata": {},
   "source": [
    "If you're using OpenAI you should be able to use the import below\n",
    "\n",
    "```python\n",
    "from msglm import mk_msg_openai as mk_msg, mk_msgs_openai as mk_msgs\n",
    "```\n",
    "\n",
    "Similarily for Anthropic\n",
    "\n",
    "```python\n",
    "from msglm import mk_msg_anthropic as mk_msg, mk_msgs_anthropic as mk_msgs\n",
    "```"
   ]
  },
  {
   "cell_type": "markdown",
   "metadata": {},
   "source": [
    "## Extra features"
   ]
  },
  {
   "cell_type": "markdown",
   "metadata": {},
   "source": [
    "### Caching"
   ]
  },
  {
   "cell_type": "markdown",
   "metadata": {},
   "source": [
    "Anthropic currently offers [prompt caching](https://docs.anthropic.com/en/docs/build-with-claude/prompt-caching), which can reduce cost and latency.\n",
    "\n",
    "To cache a message, we simply add a `cache_control` field to our content as shown below.\n",
    "\n",
    "```js\n",
    "{\n",
    "    \"role\": \"user\",\n",
    "    \"content\": [\n",
    "        {\n",
    "            \"type\": \"text\",\n",
    "            \"text\": \"Hello, can you tell me more about the solar system?\",\n",
    "            \"cache_control\": {\"type\": \"ephemeral\"}\n",
    "        }\n",
    "    ]\n",
    "}\n",
    "```"
   ]
  },
  {
   "cell_type": "markdown",
   "metadata": {},
   "source": [
    "Let's update our `mk_msg` and `mk_msgs` Anthropic wrappers to support caching."
   ]
  },
  {
   "cell_type": "code",
   "execution_count": 97,
   "metadata": {},
   "outputs": [],
   "source": [
    "#| export\n",
    "def _add_cache_control(msg, cache=False):\n",
    "    \"cache `msg`.\"\n",
    "    if not cache: return msg\n",
    "    if isinstance(msg[\"content\"], str): msg[\"content\"] = [{\"type\": \"text\", \"text\": msg[\"content\"]}]\n",
    "    if isinstance(msg[\"content\"][-1], dict): msg[\"content\"][-1][\"cache_control\"] = {\"type\": \"ephemeral\"}\n",
    "    elif isinstance(msg[\"content\"][-1], abc.Mapping): msg[\"content\"][-1].cache_control = {\"type\": \"ephemeral\"}\n",
    "    return msg\n",
    "\n",
    "def _remove_cache_ckpts(msg):\n",
    "    \"remove unecessary cache checkpoints.\"\n",
    "    if isinstance(msg[\"content\"], str): msg[\"content\"] = [{\"type\": \"text\", \"text\": msg[\"content\"]}]\n",
    "    elif isinstance(msg[\"content\"][-1], dict): msg[\"content\"][-1].pop('cache_control', None)\n",
    "    else: delattr(msg[\"content\"][-1], 'cache_control') if hasattr(msg[\"content\"][-1], 'cache_control') else None\n",
    "    return msg\n",
    "\n",
    "@delegates(mk_msg)\n",
    "def mk_msg_anthropic(*args, cache=False, **kwargs):\n",
    "    \"Create an Anthropic compatible message.\"\n",
    "    msg = partial(mk_msg, api=\"anthropic\")(*args, **kwargs)\n",
    "    return _add_cache_control(msg, cache=cache)\n",
    "\n",
    "@delegates(mk_msgs)\n",
    "def mk_msgs_anthropic(*args, cache=False, cache_last_ckpt_only=False, **kwargs):\n",
    "    \"Create a list of Anthropic compatible messages.\"\n",
    "    msgs = partial(mk_msgs, api=\"anthropic\")(*args, **kwargs)\n",
    "    if cache_last_ckpt_only: msgs = [_remove_cache_ckpts(m) for m in msgs]\n",
    "    if not msgs: return msgs\n",
    "    msgs[-1] = _add_cache_control(msgs[-1], cache=cache)\n",
    "    return msgs"
   ]
  },
  {
   "cell_type": "markdown",
   "metadata": {},
   "source": [
    "Let's see caching in action"
   ]
  },
  {
   "cell_type": "code",
   "execution_count": 98,
   "metadata": {},
   "outputs": [
    {
     "data": {
      "text/markdown": [
       "```json\n",
       "{'content': \"Don't cache my message\", 'role': 'user'}\n",
       "```"
      ],
      "text/plain": [
       "{'role': 'user', 'content': \"Don't cache my message\"}"
      ]
     },
     "execution_count": 98,
     "metadata": {},
     "output_type": "execute_result"
    }
   ],
   "source": [
    "mk_msg_anthropic(\"Don't cache my message\")"
   ]
  },
  {
   "cell_type": "code",
   "execution_count": 99,
   "metadata": {},
   "outputs": [
    {
     "data": {
      "text/markdown": [
       "```json\n",
       "{ 'content': [ { 'cache_control': {'type': 'ephemeral'},\n",
       "                 'text': 'Please cache my message',\n",
       "                 'type': 'text'}],\n",
       "  'role': 'user'}\n",
       "```"
      ],
      "text/plain": [
       "{'role': 'user',\n",
       " 'content': [{'type': 'text',\n",
       "   'text': 'Please cache my message',\n",
       "   'cache_control': {'type': 'ephemeral'}}]}"
      ]
     },
     "execution_count": 99,
     "metadata": {},
     "output_type": "execute_result"
    }
   ],
   "source": [
    "mk_msg_anthropic(\"Please cache my message\", cache=True)"
   ]
  },
  {
   "cell_type": "markdown",
   "metadata": {},
   "source": [
    "### Citations"
   ]
  },
  {
   "cell_type": "markdown",
   "metadata": {},
   "source": [
    "The Anthropic API provides detailed [citations](https://docs.anthropic.com/en/docs/build-with-claude/citations) when answering questions about documents.\n",
    "\n",
    "When citations are enabled a citations block like the one below will be included in the response.\n",
    "\n",
    "```js\n",
    "{\n",
    "  \"content\": [\n",
    "    { \"type\": \"text\", \"text\": \"According to the document, \" },\n",
    "    {\n",
    "      \"type\": \"text\", \"text\": \"the grass is green\",\n",
    "      \"citations\": [{\n",
    "        \"type\": \"char_location\",\n",
    "        \"cited_text\": \"The grass is green.\",\n",
    "        \"document_index\": 0, \"document_title\": \"Example Document\",\n",
    "        \"start_char_index\": 0, \"end_char_index\": 20\n",
    "      }]\n",
    "    }\n",
    "  ]\n",
    "}\n",
    "```"
   ]
  },
  {
   "cell_type": "markdown",
   "metadata": {},
   "source": [
    "To enable citations you need to create an Anthropic document with the following structure.\n",
    "\n",
    "```js\n",
    "{\n",
    "    \"type\": \"document\",\n",
    "    \"source\": {...},\n",
    "    \"title\": \"Document Title\", # optional\n",
    "    \"context\": \"Context about the document that will not be cited from\", # optional\n",
    "    \"citations\": {\"enabled\": True}\n",
    "}\n",
    "```"
   ]
  },
  {
   "cell_type": "markdown",
   "metadata": {},
   "source": [
    "Currently Anthropic supports citations on 3 document types:\n",
    "- text\n",
    "- pdfs\n",
    "- custom\n",
    "\n",
    "A **text** document has the following source structure.\n",
    "\n",
    "```js\n",
    "{\"type\": \"text\", \"media_type\": \"text/plain\", \"data\": \"Plain text content...\"}\n",
    "```\n",
    "\n",
    "Here's the source structure for a **pdf**.\n",
    "\n",
    "```js\n",
    "{\"type\": \"base64\", \"media_type\": \"application/pdf\", \"data\": b64_enc_data}\n",
    "```\n",
    "\n",
    "Finally, here's the source structure for a **custom** document.\n",
    "\n",
    "```js\n",
    "{\n",
    "  \"type\": \"content\",\n",
    "  \"content\": [\n",
    "    {\"type\": \"text\", \"text\": \"First chunk\"},\n",
    "    {\"type\": \"text\", \"text\": \"Second chunk\"}\n",
    "  ]\n",
    "}\n",
    "```"
   ]
  },
  {
   "cell_type": "code",
   "execution_count": 100,
   "metadata": {},
   "outputs": [],
   "source": [
    "#| export\n",
    "def mk_ant_doc(content, title=None, context=None, citation=True, **kws):\n",
    "    \"Create an Anthropic document.\"\n",
    "    if _is_pdf(content): src = {\"type\":\"base64\", \"media_type\":\"application/pdf\", \"data\":_mk_pdf(content)}\n",
    "    elif isinstance(content,list): src = {\"type\":\"content\", \"content\":content}\n",
    "    else: src = {\"type\":\"text\", \"media_type\":\"text/plain\", \"data\":content}\n",
    "    return {\"type\":\"document\", \"source\":src, \"citations\":{\"enabled\":citation}, \"title\":title, \"context\":context, **kws}"
   ]
  },
  {
   "cell_type": "markdown",
   "metadata": {},
   "source": [
    "Here's how you would implement the example from the citation's [docs](https://docs.anthropic.com/en/docs/build-with-claude/citations)."
   ]
  },
  {
   "cell_type": "code",
   "execution_count": 101,
   "metadata": {},
   "outputs": [
    {
     "data": {
      "text/markdown": [
       "```json\n",
       "{ 'content': [ { 'citations': {'enabled': True},\n",
       "                 'context': 'This is a trustworthy document.',\n",
       "                 'source': { 'data': 'The grass is green. The sky is blue.',\n",
       "                             'media_type': 'text/plain',\n",
       "                             'type': 'text'},\n",
       "                 'title': 'My Document',\n",
       "                 'type': 'document'},\n",
       "               { 'text': 'What color is the grass and sky?',\n",
       "                 'type': 'input_text'}],\n",
       "  'role': 'user'}\n",
       "```"
      ],
      "text/plain": [
       "{'role': 'user',\n",
       " 'content': [{'type': 'document',\n",
       "   'source': {'type': 'text',\n",
       "    'media_type': 'text/plain',\n",
       "    'data': 'The grass is green. The sky is blue.'},\n",
       "   'citations': {'enabled': True},\n",
       "   'title': 'My Document',\n",
       "   'context': 'This is a trustworthy document.'},\n",
       "  {'type': 'input_text', 'text': 'What color is the grass and sky?'}]}"
      ]
     },
     "execution_count": 101,
     "metadata": {},
     "output_type": "execute_result"
    }
   ],
   "source": [
    "doc = mk_ant_doc(\"The grass is green. The sky is blue.\", title=\"My Document\", context=\"This is a trustworthy document.\")\n",
    "mk_msg([doc, \"What color is the grass and sky?\"])"
   ]
  },
  {
   "cell_type": "markdown",
   "metadata": {},
   "source": [
    "## Export -"
   ]
  },
  {
   "cell_type": "code",
   "execution_count": 105,
   "metadata": {},
   "outputs": [],
   "source": [
    "#| hide\n",
    "import nbdev; nbdev.nbdev_export()"
   ]
  },
  {
   "cell_type": "code",
   "execution_count": null,
   "metadata": {},
   "outputs": [],
   "source": []
  }
 ],
 "metadata": {
  "kernelspec": {
   "display_name": "uvws",
   "language": "python",
   "name": "python3"
  },
  "language_info": {
   "codemirror_mode": {
    "name": "ipython",
    "version": 3
   },
   "file_extension": ".py",
   "mimetype": "text/x-python",
   "name": "python",
   "nbconvert_exporter": "python",
   "pygments_lexer": "ipython3",
   "version": "3.12.0"
  }
 },
 "nbformat": 4,
 "nbformat_minor": 4
}
