{
 "cells": [
  {
   "cell_type": "markdown",
   "metadata": {},
   "source": [
    "# core\n",
    "\n",
    "> Create messages for language models like Claude and OpenAI GPTs."
   ]
  },
  {
   "cell_type": "code",
   "execution_count": null,
   "metadata": {},
   "outputs": [],
   "source": [
    "#| default_exp core"
   ]
  },
  {
   "cell_type": "code",
   "execution_count": null,
   "metadata": {},
   "outputs": [],
   "source": [
    "#| hide\n",
    "from nbdev.showdoc import *"
   ]
  },
  {
   "cell_type": "code",
   "execution_count": null,
   "metadata": {},
   "outputs": [],
   "source": [
    "#| export\n",
    "import base64\n",
    "import mimetypes\n",
    "from collections import abc\n",
    "\n",
    "from fastcore import imghdr\n",
    "from fastcore.meta import delegates\n",
    "from fastcore.utils import *"
   ]
  },
  {
   "cell_type": "markdown",
   "metadata": {},
   "source": [
    "## API Exploration\n",
    "Anthropic's Claude and OpenAI's GPT models are some of the most popular LLMs. \n",
    "\n",
    "Let's take a look at their APIs and to learn how we should structure our messages for a simple text chat."
   ]
  },
  {
   "cell_type": "markdown",
   "metadata": {},
   "source": [
    "#### openai\n",
    "```python\n",
    "from openai import OpenAI\n",
    "client = OpenAI()\n",
    "\n",
    "client.chat.completions.create(\n",
    "  model=\"gpt-4o-mini\",\n",
    "  messages=[\n",
    "    {\"role\": \"user\", \"content\": \"Hello, world!\"}\n",
    "  ]\n",
    ")\n",
    "```\n",
    "\n",
    "#### anthropic\n",
    "```python\n",
    "from anthropic import Anthropic\n",
    "client = Anthropic()\n",
    "\n",
    "client.messages.create(\n",
    "    model=\"claude-3-haiku-20240307\",\n",
    "    max_tokens=1024,\n",
    "    messages=[\n",
    "        {\"role\": \"user\", \"content\": \"Hello, world!\"}\n",
    "    ]\n",
    ")\n",
    "```\n",
    "\n",
    "As we can see both APIs use the exact same message structure."
   ]
  },
  {
   "cell_type": "markdown",
   "metadata": {},
   "source": [
    "### mk_msg\n",
    "Ok, let's build the first version of `mk_msg` to handle this case"
   ]
  },
  {
   "cell_type": "code",
   "execution_count": null,
   "metadata": {},
   "outputs": [],
   "source": [
    "def mk_msg(content:str, role:str=\"user\")->dict:\n",
    "    \"Create an OpenAI/Anthropic compatible message.\"\n",
    "    return dict(role=role, content=content)"
   ]
  },
  {
   "cell_type": "markdown",
   "metadata": {},
   "source": [
    "Let's test it out with the OpenAI API. To do that we'll need to setup two things:\n",
    "\n",
    "- install the openai SDK by running `pip install openai`\n",
    "- add your openai api key to your env vars `export OPENAI_API_KEY=\"YOUR_OPEN_API_KEY\"`"
   ]
  },
  {
   "cell_type": "code",
   "execution_count": null,
   "metadata": {},
   "outputs": [],
   "source": [
    "%%capture\n",
    "!pip install openai "
   ]
  },
  {
   "cell_type": "code",
   "execution_count": null,
   "metadata": {},
   "outputs": [],
   "source": [
    "from openai import OpenAI"
   ]
  },
  {
   "cell_type": "code",
   "execution_count": null,
   "metadata": {},
   "outputs": [
    {
     "data": {
      "text/plain": [
       "'Hello! How can I assist you today?'"
      ]
     },
     "execution_count": null,
     "metadata": {},
     "output_type": "execute_result"
    }
   ],
   "source": [
    "client = OpenAI()\n",
    "\n",
    "r = client.chat.completions.create(\n",
    "  model=\"gpt-4o-mini\",\n",
    "  messages=[mk_msg(\"Hello, world!\")]\n",
    ")\n",
    "r.choices[0].message.content"
   ]
  },
  {
   "cell_type": "markdown",
   "metadata": {},
   "source": [
    "Now, let's test out `mk_msg` on the Anthropic API. To do that we'll need to setup two things:\n",
    "\n",
    "- install the openai SDK by running `pip install anthropic`\n",
    "- add your anthropic api key to your env vars `export ANTHROPIC_API_KEY=\"YOUR_ANTHROPIC_API_KEY\"`"
   ]
  },
  {
   "cell_type": "code",
   "execution_count": null,
   "metadata": {},
   "outputs": [],
   "source": [
    "%%capture\n",
    "!pip install anthropic"
   ]
  },
  {
   "cell_type": "code",
   "execution_count": null,
   "metadata": {},
   "outputs": [],
   "source": [
    "from anthropic import Anthropic"
   ]
  },
  {
   "cell_type": "code",
   "execution_count": null,
   "metadata": {},
   "outputs": [
    {
     "data": {
      "text/plain": [
       "\"Hello! It's nice to meet you. How are you doing today?\""
      ]
     },
     "execution_count": null,
     "metadata": {},
     "output_type": "execute_result"
    }
   ],
   "source": [
    "client = Anthropic()\n",
    "\n",
    "r = client.messages.create(\n",
    "    model=\"claude-3-haiku-20240307\",\n",
    "    max_tokens=1024,\n",
    "    messages=[mk_msg(\"Hello, world!\")]\n",
    ")\n",
    "r.content[0].text"
   ]
  },
  {
   "cell_type": "markdown",
   "metadata": {},
   "source": [
    "So far so good!"
   ]
  },
  {
   "cell_type": "markdown",
   "metadata": {},
   "source": [
    "#### Helper Functions\n",
    "Before going any further, let's create some helper functions to make it a little easier to call the OpenAI and Anthropic APIs. We're going to be making a bunch of API calls to test our code and typing the full expressions out each time will become a little tedious. These functions won't be included in the final package."
   ]
  },
  {
   "cell_type": "code",
   "execution_count": null,
   "metadata": {},
   "outputs": [],
   "source": [
    "oa_cli = OpenAI()\n",
    "\n",
    "def openai_chat(msgs: list)->tuple:\n",
    "    \"call the openai chat completions endpoint with `msgs`.\"\n",
    "    r = oa_cli.chat.completions.create(model=\"gpt-4o-mini\", messages=msgs)\n",
    "    return r, r.choices[0].message.content\n",
    "\n",
    "a_cli = Anthropic()\n",
    "\n",
    "def anthropic_chat(msgs: list)->tuple:\n",
    "    \"call the anthropic messages endpoint with `msgs`.\"\n",
    "    r = a_cli.messages.create(model=\"claude-3-haiku-20240307\", max_tokens=1024, messages=msgs)\n",
    "    return r, r.content[0].text"
   ]
  },
  {
   "cell_type": "markdown",
   "metadata": {},
   "source": [
    "Let's double check that `mk_msg` still works with our simple text example from before."
   ]
  },
  {
   "cell_type": "code",
   "execution_count": null,
   "metadata": {},
   "outputs": [
    {
     "data": {
      "text/plain": [
       "'Hello! How can I assist you today?'"
      ]
     },
     "execution_count": null,
     "metadata": {},
     "output_type": "execute_result"
    }
   ],
   "source": [
    "_, text = openai_chat([mk_msg(\"Hello, world!\")])\n",
    "text"
   ]
  },
  {
   "cell_type": "markdown",
   "metadata": {},
   "source": [
    "and Anthropic..."
   ]
  },
  {
   "cell_type": "code",
   "execution_count": null,
   "metadata": {},
   "outputs": [
    {
     "data": {
      "text/plain": [
       "\"Hello! It's nice to meet you. How can I assist you today?\""
      ]
     },
     "execution_count": null,
     "metadata": {},
     "output_type": "execute_result"
    }
   ],
   "source": [
    "_, text = anthropic_chat([mk_msg(\"Hello, world!\")])\n",
    "text"
   ]
  },
  {
   "cell_type": "markdown",
   "metadata": {},
   "source": [
    "### Images\n",
    "Ok, let's see how both APIs handle image messages.\n",
    "\n",
    "<img src=\"https://www.atshq.org/wp-content/uploads/2022/07/shutterstock_1626122512.jpg\" height=240 width=240></img>"
   ]
  },
  {
   "cell_type": "markdown",
   "metadata": {},
   "source": [
    "#### openai\n",
    "```python\n",
    "import base64\n",
    "import httpx\n",
    "from openai import OpenAI\n",
    "\n",
    "\n",
    "mtype = \"image/jpeg\"\n",
    "img = base64.b64encode(httpx.get(SOME_IMAGE_URL).content).decode(\"utf-8\")\n",
    "\n",
    "client = OpenAI()\n",
    "client.chat.completions.create(\n",
    "    model=\"gpt-4o-mini\",\n",
    "    messages=[\n",
    "        {\n",
    "            \"role\":\"user\",\n",
    "            \"content\": [\n",
    "                {\"type\":\"text\",\"text\":\"What's in this image?\"},\n",
    "                {\"type\":\"image_url\",\"image_url\":{\"url\":f\"data:{mtype};base64,{img}\"}},\n",
    "            ],\n",
    "        }\n",
    "    ],\n",
    ")\n",
    "```\n",
    "\n",
    "#### anthropic\n",
    "```python\n",
    "import base64\n",
    "import httpx\n",
    "from anthropic import Anthropic\n",
    "\n",
    "\n",
    "mtype = \"image/jpeg\"\n",
    "img = base64.b64encode(httpx.get(SOME_IMAGE_URL).content).decode(\"utf-8\")\n",
    "\n",
    "client = Anthropic()\n",
    "client.messages.create(\n",
    "    model=\"claude-3-haiku-20240307\",\n",
    "    max_tokens=1024,\n",
    "    messages=[\n",
    "        {\n",
    "            \"role\":\"user\",\n",
    "            \"content\": [\n",
    "                {\"type\":\"text\",\"text\":\"What's in this image?\"},\n",
    "                {\"type\":\"image\",\"source\":{\"type\":\"base64\",\"media_type\":mtype,\"data\":img}}\n",
    "            ],\n",
    "        }\n",
    "    ],\n",
    ")\n",
    "```"
   ]
  },
  {
   "cell_type": "markdown",
   "metadata": {},
   "source": [
    "Both APIs format images slightly differently and the structure of the message `content` is a litte more complex. \n",
    "\n",
    "In a text chat, `content` is a simple string but for a multimodal chat (text+images) we can see that `content` is a list of dictionaries."
   ]
  },
  {
   "cell_type": "markdown",
   "metadata": {},
   "source": [
    "### Msg Class\n",
    "To handle the additional complexity of the multimodal messages let's build a `Msg` class. \n",
    "\n",
    "We'll keep it simple for now and just make sure that we can handle a text chat before expanding it to handle images."
   ]
  },
  {
   "cell_type": "code",
   "execution_count": null,
   "metadata": {},
   "outputs": [],
   "source": [
    "class Msg:\n",
    "    \"Helper class to create a message for the OpenAI and Anthropic APIs.\"\n",
    "    def __call__(self, role:str, content:str, **kw)->dict:\n",
    "        \"Create an OpenAI/Anthropic compatible message with `role` and `content`.\"\n",
    "        return dict(role=role, content=content)"
   ]
  },
  {
   "cell_type": "markdown",
   "metadata": {},
   "source": [
    "Now, let's update `mk_msg` to use `Msg`."
   ]
  },
  {
   "cell_type": "code",
   "execution_count": null,
   "metadata": {},
   "outputs": [],
   "source": [
    "def mk_msg(content:str, role:str=\"user\", **kw)->dict:\n",
    "    \"Create an OpenAI/Anthropic compatible message.\"\n",
    "    return Msg()(role, content, **kw)"
   ]
  },
  {
   "cell_type": "markdown",
   "metadata": {},
   "source": [
    "Let's add support for the more complicated `content` data structure.\n",
    "\n",
    "```json\n",
    "{\n",
    "    \"role\": \"user\",\n",
    "    \"content\": [{\"type\": \"text\", \"text\": \"What's in this image?\"}],\n",
    "}\n",
    "```"
   ]
  },
  {
   "cell_type": "code",
   "execution_count": null,
   "metadata": {},
   "outputs": [],
   "source": [
    "class Msg:\n",
    "    \"Helper class to create a message for the OpenAI and Anthropic APIs.\"\n",
    "    def __call__(self, role:str, content:str, **kw)->dict:\n",
    "        \"Create an OpenAI/Anthropic compatible message with `role` and `content`.\"\n",
    "        return dict(role=role, content=[{\"type\":\"text\", \"content\":content}])"
   ]
  },
  {
   "cell_type": "code",
   "execution_count": null,
   "metadata": {},
   "outputs": [
    {
     "data": {
      "text/plain": [
       "{'role': 'user', 'content': [{'type': 'text', 'content': 'Hello world'}]}"
      ]
     },
     "execution_count": null,
     "metadata": {},
     "output_type": "execute_result"
    }
   ],
   "source": [
    "mk_msg(\"Hello world\")"
   ]
  },
  {
   "cell_type": "markdown",
   "metadata": {},
   "source": [
    "As we saw in our exploration above, we need to pass a text and an image together if we want to ask a question about an image. \n",
    "\n",
    "Let's update `Msg` to handle messages with multiple inputs."
   ]
  },
  {
   "cell_type": "code",
   "execution_count": null,
   "metadata": {},
   "outputs": [],
   "source": [
    "class Msg:\n",
    "    \"Helper class to create a message for the OpenAI and Anthropic APIs.\"\n",
    "    def __call__(self, role:str, content:[list,str], **kw)->dict:\n",
    "        \"Create an OpenAI/Anthropic compatible message with `role` and `content`.\"\n",
    "        if content is not None and not isinstance(content, list): content = [content]\n",
    "        return dict(role=role, content=[{\"type\":\"text\", \"content\":item} for item in content], **kw)"
   ]
  },
  {
   "cell_type": "code",
   "execution_count": null,
   "metadata": {},
   "outputs": [
    {
     "data": {
      "text/plain": [
       "{'role': 'user',\n",
       " 'content': [{'type': 'text', 'content': 'Hello world'},\n",
       "  {'type': 'text', 'content': 'how are you?'}]}"
      ]
     },
     "execution_count": null,
     "metadata": {},
     "output_type": "execute_result"
    }
   ],
   "source": [
    "mk_msg([\"Hello world\", \"how are you?\"])"
   ]
  },
  {
   "cell_type": "markdown",
   "metadata": {},
   "source": [
    "Now, let's update `Msg` so that it can format our images correctly.\n",
    "\n",
    "First, we'll add a method `mk_content` where we can check the type of each input and format the data appropriately. Let's start by adding a check for text data."
   ]
  },
  {
   "cell_type": "code",
   "execution_count": null,
   "metadata": {},
   "outputs": [],
   "source": [
    "class Msg:\n",
    "    \"Helper class to create a message for the OpenAI and Anthropic APIs.\"\n",
    "    def __call__(self, role:str, content:[list,str], **kw)->dict:\n",
    "        \"Create an OpenAI/Anthropic compatible message with `role` and `content`.\"\n",
    "        if content is not None and not isinstance(content, list): content = [content]\n",
    "        content = [self.mk_content(o) for o in content] if content else ''\n",
    "        return dict(role=role, content=content, **kw)\n",
    "    \n",
    "    def text_msg(self, s:str)->dict: \n",
    "        \"Convert `s` to a text message\"\n",
    "        return {\"type\": \"text\", \"text\":s}\n",
    "    \n",
    "    def mk_content(self, content:str)->dict:\n",
    "        \"Create the appropriate data structure based the content type.\"\n",
    "        if isinstance(content, str): return self.text_msg(content)\n",
    "        return content"
   ]
  },
  {
   "cell_type": "markdown",
   "metadata": {},
   "source": [
    "Here's where things get a little tricker. As both APIs handle images differently let's subclass `Msg` for each API and handle the image formatting in a method called `img_msg`."
   ]
  },
  {
   "cell_type": "code",
   "execution_count": null,
   "metadata": {},
   "outputs": [],
   "source": [
    "class Msg:\n",
    "    \"Helper class to create a message for the OpenAI and Anthropic APIs.\"\n",
    "    def __call__(self, role:str, content:[list,str], **kw)->dict:\n",
    "        \"Create an OpenAI/Anthropic compatible message with `role` and `content`.\"\n",
    "        if content is not None and not isinstance(content, list): content = [content]\n",
    "        content = [self.mk_content(o) for o in content] if content else ''\n",
    "        return dict(role=role, content=content, **kw)\n",
    "    \n",
    "    def img_msg(self, *args)->dict: \n",
    "        \"Convert bytes to an image message\"\n",
    "        ...\n",
    "        \n",
    "    def text_msg(self, s:str)->dict: \n",
    "        \"Convert `s` to a text message\"\n",
    "        return {\"type\": \"text\", \"text\":s}\n",
    "    \n",
    "    def mk_content(self, content:str)->dict:\n",
    "        \"Create the appropriate data structure based the content type.\"\n",
    "        if isinstance(content, str): return self.text_msg(content)\n",
    "        if isinstance(content, bytes): return self.img_msg(content)\n",
    "        return content\n",
    "\n",
    "class OpenAiMsg(Msg):\n",
    "    \"Helper class to create a message for the OpenAI API.\"\n",
    "    def img_msg(self, data:bytes)->dict:\n",
    "        \"Convert `data` to an image message\"\n",
    "        img = base64.b64encode(data).decode(\"utf-8\")\n",
    "        mtype = mimetypes.types_map[\".\" + imghdr.what(None, h=data)]\n",
    "        r = {\"url\": f\"data:{mtype};base64,{img}\"}\n",
    "        return {\"type\": \"image_url\", \"image_url\": r}\n",
    "\n",
    "class AnthropicMsg(Msg):\n",
    "    \"Helper class to create a message for the Anthropic API.\"\n",
    "    def img_msg(self, data:bytes)->dict:\n",
    "        \"Convert `data` to an image message\"\n",
    "        img = base64.b64encode(data).decode(\"utf-8\")\n",
    "        mtype = mimetypes.types_map[\".\" + imghdr.what(None, h=data)]\n",
    "        r = {\"type\": \"base64\", \"media_type\": mtype, \"data\":img}\n",
    "        return {\"type\": \"image\", \"source\": r}"
   ]
  },
  {
   "cell_type": "markdown",
   "metadata": {},
   "source": [
    "Now, let's update `mk_msg` so that it chooses the appropriate `Msg` subclass."
   ]
  },
  {
   "cell_type": "code",
   "execution_count": null,
   "metadata": {},
   "outputs": [],
   "source": [
    "def mk_msg(content:str, role:str=\"user\", *args, api:str=\"openai\", **kw) -> dict:\n",
    "    \"Create an OpenAI/Anthropic compatible message.\"\n",
    "    m = OpenAiMsg() if api == \"openai\" else AnthropicMsg()\n",
    "    return m(role, content, **kw)"
   ]
  },
  {
   "cell_type": "markdown",
   "metadata": {},
   "source": [
    "Ok, let's test our changes..."
   ]
  },
  {
   "cell_type": "code",
   "execution_count": null,
   "metadata": {},
   "outputs": [],
   "source": [
    "import httpx\n",
    "from IPython.display import Image, display"
   ]
  },
  {
   "cell_type": "code",
   "execution_count": null,
   "metadata": {},
   "outputs": [
    {
     "data": {
      "image/jpeg": "[encoded data removed]",
      "text/plain": [
       "<IPython.core.display.Image object>"
      ]
     },
     "metadata": {
      "image/jpeg": {
       "height": 360,
       "width": 360
      }
     },
     "output_type": "display_data"
    }
   ],
   "source": [
    "img_url = \"https://www.atshq.org/wp-content/uploads/2022/07/shutterstock_1626122512.jpg\"\n",
    "img = httpx.get(img_url).content\n",
    "display(Image(img, width=360, height=360))"
   ]
  },
  {
   "cell_type": "code",
   "execution_count": null,
   "metadata": {},
   "outputs": [
    {
     "data": {
      "text/plain": [
       "'This image features a toucan, recognizable by its large, colorful beak. The bird has a striking yellow throat and chest, with black feathers on its back and head. The beak is a vibrant mix of colors, including green, red, and blue, creating a visually stunning contrast against the blurred green background. Toucans are known for their unique and impressive beaks, which they use to reach for fruit in trees.'"
      ]
     },
     "execution_count": null,
     "metadata": {},
     "output_type": "execute_result"
    }
   ],
   "source": [
    "msg = mk_msg([img, \"describe this picture\"], api=\"openai\")\n",
    "_, text = openai_chat([msg])\n",
    "text"
   ]
  },
  {
   "cell_type": "code",
   "execution_count": null,
   "metadata": {},
   "outputs": [
    {
     "data": {
      "text/plain": [
       "'The image shows a colorful toucan bird. The toucan has a large, distinctive beak that is predominantly green in color with blue, orange, and red accents. The body of the bird is primarily yellow, with black feathers covering its wings and back. The toucan is perched against a blurred green background, highlighting its vibrant and eye-catching appearance.'"
      ]
     },
     "execution_count": null,
     "metadata": {},
     "output_type": "execute_result"
    }
   ],
   "source": [
    "msg = mk_msg([img, \"describe this picture\"], api=\"anthropic\")\n",
    "_, text = anthropic_chat([msg])\n",
    "text"
   ]
  },
  {
   "cell_type": "markdown",
   "metadata": {},
   "source": [
    "Great! Before moving on let's create `mk_img` to make our code a little DRY'r. "
   ]
  },
  {
   "cell_type": "code",
   "execution_count": null,
   "metadata": {},
   "outputs": [],
   "source": [
    "#| export\n",
    "def _mk_img(data:bytes)->tuple:\n",
    "    \"Convert image bytes to a base64 encoded image\"\n",
    "    img = base64.b64encode(data).decode(\"utf-8\")\n",
    "    mtype = mimetypes.types_map[\".\"+imghdr.what(None, h=data)]\n",
    "    return img, mtype"
   ]
  },
  {
   "cell_type": "markdown",
   "metadata": {},
   "source": [
    "Let's use `mk_img` in our `Msg` subclasses"
   ]
  },
  {
   "cell_type": "code",
   "execution_count": null,
   "metadata": {},
   "outputs": [],
   "source": [
    "class OpenAiMsg(Msg):\n",
    "    \"Helper class to create a message for the OpenAI API.\"\n",
    "    def img_msg(self, data:bytes)->dict:\n",
    "        \"Convert `data` to an image message\"\n",
    "        img, mtype = _mk_img(data)\n",
    "        r = {\"url\": f\"data:{mtype};base64,{img}\"}\n",
    "        return {\"type\": \"image_url\", \"image_url\": r}\n",
    "\n",
    "class AnthropicMsg(Msg):\n",
    "    \"Helper class to create a message for the Anthropic API.\"\n",
    "    def img_msg(self, data:bytes)->dict:\n",
    "        \"Convert `data` to an image message\"\n",
    "        img, mtype = _mk_img(data)\n",
    "        r = {\"type\": \"base64\", \"media_type\": mtype, \"data\":img}\n",
    "        return {\"type\": \"image\", \"source\": r}"
   ]
  },
  {
   "cell_type": "markdown",
   "metadata": {},
   "source": [
    "### Text Only Models"
   ]
  },
  {
   "cell_type": "markdown",
   "metadata": {},
   "source": [
    "Ok, what next? Some text only models that follow the OpenAI API spec such as Deepseek, expect messages to have the following format\n",
    "\n",
    "```json\n",
    "{\"role\": \"user\", \"content\": \"Hello, world!\"}\n",
    "```\n",
    "\n",
    "Let's update our code to support this use-case."
   ]
  },
  {
   "cell_type": "code",
   "execution_count": null,
   "metadata": {},
   "outputs": [],
   "source": [
    "class Msg:\n",
    "    \"Helper class to create a message for the OpenAI and Anthropic APIs.\"\n",
    "    def __call__(self, role:str, content:[list, str], text_only:bool=False, **kw)->dict:\n",
    "        \"Create an OpenAI/Anthropic compatible message with `role` and `content`.\"\n",
    "        if content is not None and not isinstance(content, list): content = [content]\n",
    "        content = [self.mk_content(o, text_only=text_only) for o in content] if content else ''\n",
    "        return dict(role=role, content=content[0] if text_only else content, **kw)\n",
    "    \n",
    "    def img_msg(self, *args, **kw)->dict: \n",
    "        \"Convert bytes to an image message\"\n",
    "        ...\n",
    "        \n",
    "    def text_msg(self, s:str, text_only=False, **kw): \n",
    "        \"Convert `s` to a text message\"\n",
    "        return s if text_only else {\"type\":\"text\", \"text\":s}\n",
    "    \n",
    "    def mk_content(self, content, text_only=False, **kw):\n",
    "        if isinstance(content, str): return self.text_msg(content, text_only=text_only)\n",
    "        if isinstance(content, bytes): return self.img_msg(content)\n",
    "        return content\n",
    "\n",
    "class OpenAiMsg(Msg):\n",
    "    \"Helper class to create a message for the OpenAI API.\"\n",
    "    def img_msg(self, data)->dict:\n",
    "        \"Convert `data` to an image message\"\n",
    "        img, mtype = mk_img(data)\n",
    "        r = {\"url\": f\"data:{mtype};base64,{img}\"}\n",
    "        return {\"type\": \"image_url\", \"image_url\": r}\n",
    "\n",
    "class AnthropicMsg(Msg):\n",
    "    \"Helper class to create a message for the Anthropic API.\"\n",
    "    def img_msg(self, data)->dict:\n",
    "        \"Convert `data` to an image message\"\n",
    "        img, mtype = mk_img(data)\n",
    "        r = dict(type='base64', media_type=mtype, data=img)\n",
    "        return {\"type\": \"image\", \"source\": r}"
   ]
  },
  {
   "cell_type": "code",
   "execution_count": null,
   "metadata": {},
   "outputs": [],
   "source": [
    "#| export\n",
    "def mk_msg(content:[list,str], role:str=\"user\", *args, api:str=\"openai\", text_only=False, **kw)->dict:\n",
    "    \"Create an OpenAI/Anthropic compatible message.\"\n",
    "    if text_only and not isinstance(content, str): raise(\"`content` muse be a string for `text_only` models.\")\n",
    "    m = OpenAiMsg if api == \"openai\" else AnthropicMsg\n",
    "    return m()(role, content, text_only=text_only, **kw)"
   ]
  },
  {
   "cell_type": "code",
   "execution_count": null,
   "metadata": {},
   "outputs": [
    {
     "data": {
      "text/plain": [
       "{'role': 'user', 'content': 'describe this picture'}"
      ]
     },
     "execution_count": null,
     "metadata": {},
     "output_type": "execute_result"
    }
   ],
   "source": [
    "mk_msg(\"describe this picture\", text_only=True)"
   ]
  },
  {
   "cell_type": "code",
   "execution_count": null,
   "metadata": {},
   "outputs": [
    {
     "data": {
      "text/plain": [
       "{'role': 'user',\n",
       " 'content': [{'type': 'text', 'text': 'describe this picture'}]}"
      ]
     },
     "execution_count": null,
     "metadata": {},
     "output_type": "execute_result"
    }
   ],
   "source": [
    "mk_msg(\"describe this picture\")"
   ]
  },
  {
   "cell_type": "markdown",
   "metadata": {},
   "source": [
    "### Conversation"
   ]
  },
  {
   "cell_type": "markdown",
   "metadata": {},
   "source": [
    "LLMs are stateless. To continue a conversation we need to include the entire message history in every API call.\n",
    "By default the role in each message alternates between `user` and `assistant`.\n",
    "\n",
    "Let's add a method that alternates the roles for us and then calls `mk_msgs`."
   ]
  },
  {
   "cell_type": "code",
   "execution_count": null,
   "metadata": {},
   "outputs": [],
   "source": [
    "#| export\n",
    "def mk_msgs(msgs: list, *args, api:str=\"openai\", **kw) -> list:\n",
    "    \"Create a list of messages compatible with OpenAI/Anthropic.\"\n",
    "    if isinstance(msgs, str): msgs = [msgs]\n",
    "    return [mk_msg(o, ('user', 'assistant')[i % 2], *args, api=api, **kw) for i, o in enumerate(msgs)]"
   ]
  },
  {
   "cell_type": "code",
   "execution_count": null,
   "metadata": {},
   "outputs": [
    {
     "data": {
      "text/plain": [
       "[{'role': 'user', 'content': [{'type': 'text', 'text': 'Hello'}]},\n",
       " {'role': 'assistant',\n",
       "  'content': [{'type': 'text', 'text': 'Some assistant response'}]},\n",
       " {'role': 'user', 'content': [{'type': 'text', 'text': 'tell me a joke'}]}]"
      ]
     },
     "execution_count": null,
     "metadata": {},
     "output_type": "execute_result"
    }
   ],
   "source": [
    "mk_msgs([\"Hello\", \"Some assistant response\", \"tell me a joke\"])"
   ]
  },
  {
   "cell_type": "markdown",
   "metadata": {},
   "source": [
    "### API Response"
   ]
  },
  {
   "cell_type": "markdown",
   "metadata": {},
   "source": [
    "To make our lives even easier, it would be nice if `mk_msg` could format the raw API response from a previous API call so that we can pass it straight to `mk_msgs`."
   ]
  },
  {
   "cell_type": "code",
   "execution_count": null,
   "metadata": {},
   "outputs": [],
   "source": [
    "#| export\n",
    "class Msg:\n",
    "    \"Helper class to create a message for the OpenAI and Anthropic APIs.\"\n",
    "    def __call__(self, role:str, content:[list, str], text_only:bool=False, **kw)->dict:\n",
    "        \"Create an OpenAI/Anthropic compatible message with `role` and `content`.\"\n",
    "        if hasattr(content, \"content\"): content, role = content.content, content.role\n",
    "        content = self.find_block(content)\n",
    "        if content is not None and not isinstance(content, list): content = [content]\n",
    "        content = [self.mk_content(o, text_only=text_only) for o in content] if content else ''\n",
    "        return dict(role=role, content=content[0] if text_only else content, **kw)\n",
    "\n",
    "    def find_block(self, r)->dict:\n",
    "        ...\n",
    "\n",
    "    def text_msg(self, s:str, text_only:bool=False, **kw):\n",
    "        \"Convert `s` to a text message\"\n",
    "        return s if text_only else {\"type\":\"text\", \"text\":s}\n",
    "\n",
    "    def img_msg(self, *args, **kw)->dict:\n",
    "        \"Convert bytes to an image message\"\n",
    "        ...\n",
    "\n",
    "    def mk_content(self, content:[str, bytes], text_only:bool=False) -> dict:\n",
    "        \"Create the appropriate data structure based the content type.\"\n",
    "        if isinstance(content, str): return self.text_msg(content, text_only=text_only)\n",
    "        if isinstance(content, bytes): return self.img_msg(content)\n",
    "        return content"
   ]
  },
  {
   "cell_type": "code",
   "execution_count": null,
   "metadata": {},
   "outputs": [],
   "source": [
    "#| export\n",
    "class AnthropicMsg(Msg):\n",
    "    def img_msg(self, data: bytes) -> dict:\n",
    "        \"Convert `data` to an image message\"\n",
    "        img, mtype = mk_img(data)\n",
    "        r = {\"type\": \"base64\", \"media_type\": mtype, \"data\":img}\n",
    "        return {\"type\": \"image\", \"source\": r}\n",
    "\n",
    "    def find_block(self, r):\n",
    "        \"Find the message in `r`.\"\n",
    "        return r.get('content', r) if isinstance(r, abc.Mapping) else r"
   ]
  },
  {
   "cell_type": "code",
   "execution_count": null,
   "metadata": {},
   "outputs": [],
   "source": [
    "#| export\n",
    "class OpenAiMsg(Msg):\n",
    "    def img_msg(self, data: bytes) -> dict:\n",
    "        \"Convert `data` to an image message\"\n",
    "        img, mtype = mk_img(data)\n",
    "        r = {\"url\": f\"data:{mtype};base64,{img}\"}\n",
    "        return {\"type\": \"image_url\", \"image_url\": r}\n",
    "\n",
    "    def find_block(self, r):\n",
    "        \"Find the message in `r`.\"\n",
    "        if type(r).__module__ == \"builtins\": return r\n",
    "        m = nested_idx(r, \"choices\", 0)\n",
    "        if not m: return m\n",
    "        if hasattr(m, \"message\"): return m.message.content\n",
    "        return m.delta"
   ]
  },
  {
   "cell_type": "markdown",
   "metadata": {},
   "source": [
    "Let's test our changes."
   ]
  },
  {
   "cell_type": "code",
   "execution_count": null,
   "metadata": {},
   "outputs": [
    {
     "data": {
      "text/plain": [
       "'Why did the scarecrow win an award? \\n\\nBecause he was outstanding in his field!'"
      ]
     },
     "execution_count": null,
     "metadata": {},
     "output_type": "execute_result"
    }
   ],
   "source": [
    "msgs = [\"tell me a joke\"]\n",
    "r, text = openai_chat(mk_msgs(msgs))\n",
    "text"
   ]
  },
  {
   "cell_type": "code",
   "execution_count": null,
   "metadata": {},
   "outputs": [
    {
     "data": {
      "text/plain": [
       "'OpenAI is an artificial intelligence research organization focused on developing and promoting friendly AI for the benefit of humanity. Founded in December 2015, OpenAI conducts research in a variety of areas related to AI, including natural language processing, reinforcement learning, computer vision, and more. It is known for creating advanced models like GPT (Generative Pre-trained Transformer), which can generate human-like text based on the input it receives. OpenAI aims to advance AI technology while also ensuring that it is used safely and responsibly. If you have specific questions about OpenAI or its technologies, feel free to ask!'"
      ]
     },
     "execution_count": null,
     "metadata": {},
     "output_type": "execute_result"
    }
   ],
   "source": [
    "msgs += [r, \"tell me another joke that's similar to your first joke\"]\n",
    "r, text = openai_chat(mk_msgs(\"openai\", msgs))\n",
    "text"
   ]
  },
  {
   "cell_type": "markdown",
   "metadata": {},
   "source": [
    "### Usage"
   ]
  },
  {
   "cell_type": "markdown",
   "metadata": {},
   "source": [
    "To make `msglm` a little easier to use let's create OpenAI and Anthropic wrappers for `mk_msg` and `mk_msgs`."
   ]
  },
  {
   "cell_type": "code",
   "execution_count": null,
   "metadata": {},
   "outputs": [],
   "source": [
    "#| export\n",
    "mk_msg_openai = partial(mk_msg, api=\"openai\")\n",
    "mk_msgs_openai = partial(mk_msgs, api=\"openai\")"
   ]
  },
  {
   "cell_type": "code",
   "execution_count": null,
   "metadata": {},
   "outputs": [],
   "source": [
    "mk_msg_anthropic = partial(mk_msg, api=\"anthropic\")\n",
    "mk_msgs_anthropic = partial(mk_msgs, api=\"anthropic\")"
   ]
  },
  {
   "cell_type": "markdown",
   "metadata": {},
   "source": [
    "If you're using OpenAI you should be able to use the import below\n",
    "\n",
    "```python\n",
    "from msglm import mk_msg_openai as mk_msg, mk_msgs_openai as mk_msgs\n",
    "```"
   ]
  },
  {
   "cell_type": "markdown",
   "metadata": {},
   "source": [
    "Similarily for Anthropic\n",
    "\n",
    "```python\n",
    "from msglm import mk_msg_anthropic as mk_msg, mk_msgs_anthropic as mk_msgs\n",
    "```"
   ]
  },
  {
   "cell_type": "markdown",
   "metadata": {},
   "source": [
    "### Caching\n",
    "Anthropic currently offers [prompt caching](https://docs.anthropic.com/en/docs/build-with-claude/prompt-caching), which can reduce cost and latency.\n",
    "\n",
    "To cache a message, we simply add a `cache_control` field to our content as shown below.\n",
    "\n",
    "```js\n",
    "{\n",
    "    \"role\": \"user\",\n",
    "    \"content\": [\n",
    "        {\n",
    "            \"type\": \"text\",\n",
    "            \"text\": \"Hello, can you tell me more about the solar system?\",\n",
    "            \"cache_control\": {\"type\": \"ephemeral\"}\n",
    "        }\n",
    "    ]\n",
    "}\n",
    "```"
   ]
  },
  {
   "cell_type": "markdown",
   "metadata": {},
   "source": [
    "Let's update our `mk_msg` and `mk_msgs` Anthropic wrappers to support caching."
   ]
  },
  {
   "cell_type": "code",
   "execution_count": null,
   "metadata": {},
   "outputs": [],
   "source": [
    "#| export\n",
    "def _add_cache_control(msg, cache=False):\n",
    "    \"cache `msg`.\"\n",
    "    if cache: msg[\"content\"][-1][\"cache_control\"] = {\"type\": \"ephemeral\"}\n",
    "    return msg\n",
    "\n",
    "@delegates(mk_msg)\n",
    "def mk_msg_anthropic(*args, cache=False, **kwargs):\n",
    "    \"Create an Anthropic compatible message.\"\n",
    "    msg = partial(mk_msg, api=\"anthropic\")(*args, **kwargs)\n",
    "    return _add_cache_control(msg, cache=cache)\n",
    "\n",
    "@delegates(mk_msgs)\n",
    "def mk_msgs_anthropic(*args, cache=False, **kwargs):\n",
    "    \"Create a list of Anthropic compatible messages.\"\n",
    "    msgs = partial(mk_msgs, api=\"anthropic\")(*args, **kwargs)\n",
    "    return [_add_cache_control(msg, cache=cache) for msg in msgs]"
   ]
  },
  {
   "cell_type": "markdown",
   "metadata": {},
   "source": [
    "Let's see caching in action"
   ]
  },
  {
   "cell_type": "code",
   "execution_count": null,
   "metadata": {},
   "outputs": [
    {
     "data": {
      "text/plain": [
       "{'role': 'user',\n",
       " 'content': [{'type': 'text', 'text': \"Don't cache my message\"}]}"
      ]
     },
     "execution_count": null,
     "metadata": {},
     "output_type": "execute_result"
    }
   ],
   "source": [
    "mk_msg_anthropic(\"Don't cache my message\")"
   ]
  },
  {
   "cell_type": "code",
   "execution_count": null,
   "metadata": {},
   "outputs": [
    {
     "data": {
      "text/plain": [
       "{'role': 'user',\n",
       " 'content': [{'type': 'text',\n",
       "   'text': 'Please cache my message',\n",
       "   'cache_control': {'type': 'ephemeral'}}]}"
      ]
     },
     "execution_count": null,
     "metadata": {},
     "output_type": "execute_result"
    }
   ],
   "source": [
    "mk_msg_anthropic(\"Please cache my message\", cache=True)"
   ]
  },
  {
   "cell_type": "code",
   "execution_count": null,
   "metadata": {},
   "outputs": [],
   "source": [
    "#| hide\n",
    "import nbdev; nbdev.nbdev_export()"
   ]
  }
 ],
 "metadata": {
  "kernelspec": {
   "display_name": "msglm",
   "language": "python",
   "name": "msglm"
  }
 },
 "nbformat": 4,
 "nbformat_minor": 4
}
